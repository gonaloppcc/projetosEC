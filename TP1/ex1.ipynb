{
 "cells": [
  {
   "cell_type": "markdown",
   "metadata": {},
   "source": [
    "# Exercício 1\n",
    "\n",
    "## Enunciado do Problema\n",
    "\n",
    "Use a package **Criptography** para \n",
    "\n",
    "1. Criar um comunicação privada assíncrona entre um agente ***Emitter*** e um agente ***Receiver*** que cubra os seguintes aspectos:\n",
    "    1. Autenticação do criptograma e dos metadados (associated data). Usar uma cifra simétrica num modo **HMAC** que seja seguro contra ataques aos “nounces” .\n",
    "    2. Os “nounces” são gerados por um gerador pseudo aleatório (PRG) construído por um função de hash em modo XOF.\n",
    "    3. O par de chaves **cipher_key**, **mac_key** , para cifra e autenticação, é acordado entre agentes usando o protocolo ECDH com autenticação dos agentes usando assinaturas ECDSA."
   ]
  },
  {
   "attachments": {},
   "cell_type": "markdown",
   "metadata": {},
   "source": [
    "## Descrição do Problema\n",
    "\n",
    "Precisamos de garantir que uma comunicação entre um emitter(pessoa que envia) e um receiver(pessoa que recebe) ocorra de forma segura e privada. Para tal temos que definir os seguintes aspetos:\n",
    "\n",
    "1. Autenticar o criptograma e os seus metadados através de uma cifra simétrica segura contra ataques aos \"nounces\".\n",
    "\n",
    "- Gerar os \"nounces\" através de um PRG constituido por uma função de hash em modo XOF.\n",
    "\n",
    "- Os dois agentes chegarem a um acordo quanto às chaves **cipher_key** e **mac_key** usando o protocolo **ECDH** com a autenticação usando assinaturas ECDSA."
   ]
  },
  {
   "attachments": {},
   "cell_type": "markdown",
   "metadata": {},
   "source": [
    "## Abordagem\n",
    "\n",
    "1. Para autenticar o criptograma, vamos utilizar a função HMAC.\n",
    "2. Para garantir que a comunicação ocorra de forma privada precisamos de encriptar a mensagem e para isso vamos utilizar uma cifra simétrica.\n",
    "3. Para garantir que a cifra simétrica é segura contra ataques aos nounces ou *replay attacks* podemos utilizar a função de hash para autenticar o nounce.\n",
    "4. Para garantir aleatoriedade na geração dos \"nounces\", vamos utilizar uma função de hash em modo XOF (Extendable Output Function).\n",
    "5. Para definirmos as chaves **cipher_key** e **mac_key** entre os dois agentes, vamos utilizar o protocolo **ECDH**(Elliptic-curve Diffie–Hellman) .\n",
    "6. Para autenticar os agentes, vamos utilizar o algoritmo **ECDSA**(Elliptic Curve Digital Signature Algorithm)."
   ]
  },
  {
   "cell_type": "markdown",
   "metadata": {},
   "source": [
    "## Código de resolução\n",
    "\n",
    "..."
   ]
  },
  {
   "cell_type": "code",
   "execution_count": 1,
   "metadata": {
    "vscode": {
     "languageId": "plaintext"
    }
   },
   "outputs": [],
   "source": [
    "from cryptography.exceptions import InvalidSignature\n",
    "from cryptography.hazmat.primitives.hmac import HMAC, hashes"
   ]
  },
  {
   "cell_type": "code",
   "execution_count": 2,
   "metadata": {
    "vscode": {
     "languageId": "plaintext"
    }
   },
   "outputs": [],
   "source": [
    "def encrypt_message(_message: str) -> bytes:\n",
    "    pass\n",
    "\n",
    "\n",
    "def get_hmac(message: bytes, mac_key: bytes) -> (bytes, bytes):\n",
    "    hmac = HMAC(mac_key, hashes.SHA256())\n",
    "    hmac.update(message)\n",
    "    tag = hmac.finalize()\n",
    "\n",
    "    return message, tag\n",
    "\n",
    "\n",
    "def verify_hmac(message: bytes, signature: bytes, mac_key: bytes) -> bool:\n",
    "    h = HMAC(mac_key, hashes.SHA256())\n",
    "    h.update(message)\n",
    "    try:\n",
    "        h.verify(signature)\n",
    "        return True\n",
    "\n",
    "    except InvalidSignature:\n",
    "        return False"
   ]
  },
  {
   "cell_type": "markdown",
   "metadata": {},
   "source": [
    "## Exemplos e testes da aplicação\n",
    "\n",
    "..."
   ]
  },
  {
   "cell_type": "code",
   "execution_count": 4,
   "metadata": {},
   "outputs": [
    {
     "name": "stdout",
     "output_type": "stream",
     "text": [
      "Message: b'Message'\n",
      "Tag: b\"\\xd8\\t\\xe6\\xab\\x8e\\x94=\\x0f\\xb6\\xfb\\x8c5\\xae]\\xfc{\\xbf\\x8e\\x11%\\x13\\xa7\\x8f'\\x0f\\xef\\xa1\\x94~W\\x17\\x15\"\n",
      "Valid signature\n",
      "Invalid signature\n"
     ]
    }
   ],
   "source": [
    "hmac_key = \"0023\".encode()\n",
    "\n",
    "m, t = get_hmac(\"Message\".encode(), hmac_key)\n",
    "\n",
    "print(\"Message:\", m)\n",
    "print(\"Tag:\", t)\n",
    "\n",
    "print(\"Valid signature\" if verify_hmac(m, t, hmac_key) else \"Invalid signature\")\n",
    "print(\"Valid signature\" if verify_hmac(m, t, hmac_key + b\"2\") else \"Invalid signature\")"
   ]
  },
  {
   "cell_type": "code",
   "execution_count": null,
   "metadata": {},
   "outputs": [],
   "source": []
  }
 ],
 "metadata": {
  "kernelspec": {
   "name": "python3",
   "language": "python",
   "display_name": "Python 3 (ipykernel)"
  },
  "language_info": {
   "codemirror_mode": {
    "name": "ipython",
    "version": 3
   },
   "file_extension": ".py",
   "mimetype": "text/x-python",
   "name": "python",
   "nbconvert_exporter": "python",
   "pygments_lexer": "ipython3",
   "version": "3.10.9"
  }
 },
 "nbformat": 4,
 "nbformat_minor": 2
}
