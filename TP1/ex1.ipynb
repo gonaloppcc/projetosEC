{
 "cells": [
  {
   "cell_type": "markdown",
   "metadata": {},
   "source": [
    "# Exercício 1\n",
    "\n",
    "## Enunciado do Problema\n",
    "\n",
    "Use a package **Criptography** para \n",
    "\n",
    "1. Criar um comunicação privada assíncrona entre um agente ***Emitter*** e um agente ***Receiver*** que cubra os seguintes aspectos:\n",
    "    1. Autenticação do criptograma e dos metadados (associated data). Usar uma cifra simétrica num modo **HMAC** que seja seguro contra ataques aos “nounces” .\n",
    "    2. Os “nounces” são gerados por um gerador pseudo aleatório (PRG) construído por um função de hash em modo XOF.\n",
    "    3. O par de chaves **cipher_key**, **mac_key** , para cifra e autenticação, é acordado entre agentes usando o protocolo ECDH com autenticação dos agentes usando assinaturas ECDSA."
   ]
  },
  {
   "attachments": {},
   "cell_type": "markdown",
   "metadata": {},
   "source": [
    "## Descrição do Problema\n",
    "\n",
    "Precisamos de garantir que uma comunicação entre um emitter(pessoa que envia) e um receiver(pessoa que recebe) ocorra de forma segura e privada. Para tal temos que definir os seguintes aspetos:\n",
    "\n",
    "1. Autenticar o criptograma e os seus metadados através de uma cifra simétrica segura contra ataques aos \"nounces\".\n",
    "\n",
    "- Gerar os \"nounces\" através de um PRG constituido por uma função de hash em modo XOF.\n",
    "\n",
    "- Os dois agentes chegarem a um acordo quanto às chaves **cipher_key** e **mac_key** usando o protocolo **ECDH** com a autenticação usando assinaturas ECDSA."
   ]
  },
  {
   "attachments": {},
   "cell_type": "markdown",
   "metadata": {},
   "source": [
    "## Abordagem\n",
    "\n",
    "1. Para autenticar o criptograma, vamos utilizar a função HMAC.\n",
    "2. Para garantir que a comunicação ocorra de forma privada precisamos de encriptar a mensagem e para isso vamos utilizar uma cifra simétrica.\n",
    "3. Para garantir que a cifra simétrica é segura contra ataques aos nounces ou *replay attacks* podemos utilizar a função de hash para autenticar o nounce.\n",
    "4. Para garantir aleatoriedade na geração dos \"nounces\", vamos utilizar uma função de hash em modo XOF (Extendable Output Function).\n",
    "5. Para definirmos as chaves **cipher_key** e **mac_key** entre os dois agentes, vamos utilizar o protocolo **ECDH**(Elliptic-curve Diffie–Hellman) .\n",
    "6. Para autenticar os agentes, vamos utilizar o algoritmo **ECDSA**(Elliptic Curve Digital Signature Algorithm)."
   ]
  },
  {
   "cell_type": "markdown",
   "metadata": {},
   "source": [
    "## Código de resolução"
   ]
  },
  {
   "cell_type": "markdown",
   "source": [
    "### Emitter"
   ],
   "metadata": {
    "collapsed": false
   }
  },
  {
   "cell_type": "markdown",
   "source": [
    "Esta função demonstra a comunicação num ponto de vista mais \"high-level\" entre o emitter e o receiver."
   ],
   "metadata": {
    "collapsed": false
   }
  },
  {
   "cell_type": "code",
   "execution_count": null,
   "outputs": [],
   "source": [
    "import asyncio\n",
    "import os\n",
    "\n",
    "from cryptography.exceptions import InvalidSignature\n",
    "from cryptography.hazmat.primitives import hashes\n",
    "from cryptography.hazmat.primitives.ciphers import Cipher, algorithms, modes\n",
    "\n",
    "from TP1.ex1.emitter import get_connection, authenticate_and_encrypt_message\n",
    "from TP1.ex1.encryption import generate_random_nonce, pad_message\n",
    "from ex1.receiver import RECEIVER_HOST, RECEIVER_PORT, READER_BUFFER_SIZE\n",
    "\n",
    "\n",
    "async def main():\n",
    "    reader, writer = await get_connection(RECEIVER_HOST, RECEIVER_PORT)\n",
    "\n",
    "    while True:\n",
    "        message = input(\"Message: \")\n",
    "        message_bytes = message.encode(\"utf-8\")\n",
    "\n",
    "        if message in [\"q\", \"quit\", \"exit\"]:\n",
    "            writer.close()\n",
    "            break\n",
    "\n",
    "        cipher_key, mac_key = await initialize_session_emitter(reader, writer)\n",
    "        print(\"PRIVATE INFORMATION\", \"\\n\\tCipher Key:\", cipher_key, \"\\n\\tMAC Key:\", mac_key)\n",
    "\n",
    "        nonce = generate_random_nonce()\n",
    "\n",
    "        # print(\"Nonce:\", nonce[:10], '...', nonce[-10:])\n",
    "        print(\"Nonce:\", nonce)\n",
    "\n",
    "        writer.write(nonce)\n",
    "        await writer.drain()\n",
    "        print(\"Nonce sent.\")\n",
    "\n",
    "        ciphertext, tag, _nonce = authenticate_and_encrypt_message(message_bytes, cipher_key, mac_key, nonce)\n",
    "\n",
    "        # Send encrypted message and authentication tag to the receiver\n",
    "        writer.write(tag)\n",
    "        writer.write(ciphertext)\n",
    "\n",
    "        print('Tag:', tag[:10], '...', tag[-10:])\n",
    "        print('Ciphertext:', ciphertext[:10], '...', ciphertext[-10:])\n",
    "        print(\"\\tTag and ciphertext sent.\")\n",
    "\n",
    "        ack = await reader.read(READER_BUFFER_SIZE)\n",
    "        assert ack == b\"ACK\"\n"
   ],
   "metadata": {
    "collapsed": false
   }
  },
  {
   "cell_type": "markdown",
   "source": [
    "Segue-se a função que trata de todos os passos para um comunicação segura entre o emitter e o receiver.\n",
    "Esta função retorna as chaves **cipher_key** e **mac_key** que são usadas para encriptar e autenticar a mensagem.\n",
    "Para isto, esta primeiro assina a sua ECDH public key com a sua ECDSA private key e envia a assinatura e a sua ECDH public key para o receiver. De notar que o receiver tem a chave pública ECDSA do emitter e o emitter tem a chave pública ECDH do receiver.\n",
    "Depois, é criada uma chave partilhada entre o emitter e o receiver através do protocolo ECDH. A partir desta chave partilhada, é criada uma chave de cifra e uma chave de autenticação que são usadas para encriptar e autenticar a mensagem.\n",
    "\n",
    "De notar, que caso uma assinatura não seja válida, o agente termina o programa, avisando o utilizador de um possível ataque Man-in-the-middle.\n",
    "Também, caso o autenticador do criptograma não seja válido, o agente termina o programa, avisando o utilizador de um possível ataque de replay.\n",
    "\n",
    "Do outro lado(do receiver), o processo é analogo."
   ],
   "metadata": {
    "collapsed": false
   }
  },
  {
   "cell_type": "code",
   "execution_count": null,
   "outputs": [],
   "source": [
    "\n",
    "from cryptography.hazmat.primitives._serialization import Encoding, PublicFormat\n",
    "from TP1.ex1.encryption import get_ECDSA_keys_emitter\n",
    "\n",
    "\n",
    "async def initialize_session_emitter(reader, writer):\n",
    "    ecdsa_private_key, ecdsa_public_key = await get_ECDSA_keys_emitter()\n",
    "\n",
    "    ecdh_private_key = ec.generate_private_key(ec.SECP384R1())\n",
    "    ecdh_public_key = ecdh_private_key.public_key()\n",
    "    print(\"\\tECDH public key:\", ecdh_public_key.public_bytes(Encoding.PEM, PublicFormat.SubjectPublicKeyInfo))\n",
    "\n",
    "    # Sign ECDH public key with ECDSA private key\n",
    "    signature = ecdsa_private_key.sign(\n",
    "        await get_public_bytes(ecdh_private_key),\n",
    "        ec.ECDSA(hashes.SHA256())\n",
    "    )\n",
    "\n",
    "    # Send ECDH public key with signature to the receiver\n",
    "    writer.write(signature)\n",
    "    await writer.drain()\n",
    "\n",
    "    writer.write(await get_public_bytes(ecdh_private_key))\n",
    "    await writer.drain()\n",
    "    print(\"Emitter's public key sent.\")\n",
    "\n",
    "    # Receive receiver's ECDH public key\n",
    "    signature = await reader.read(104)\n",
    "    receiver_public_key_bytes = await reader.read(1000)\n",
    "    print(\"Receiver's public key received.\")\n",
    "    print(\"Signature:\", signature)\n",
    "    print(\"Public key:\", receiver_public_key_bytes)\n",
    "\n",
    "    try:\n",
    "        receiver_ECDSA_public_key = await get_ECDSA_RECEIVER_public_key()\n",
    "\n",
    "        receiver_ECDSA_public_key.verify(signature, receiver_public_key_bytes, ec.ECDSA(hashes.SHA256()))\n",
    "        print(\"Receiver's signature verified.\")\n",
    "    except InvalidSignature:\n",
    "        print(\"Receiver's signature verification failed.\")\n",
    "        raise Exception(\"Man in the middle attack detected!\")\n",
    "\n",
    "    receiver_public_key_bytes = load_pem_public_key(receiver_public_key_bytes)\n",
    "    print(\"\\tECDH public key loaded:\",\n",
    "          receiver_public_key_bytes.public_bytes(Encoding.PEM, PublicFormat.SubjectPublicKeyInfo)[:50], \"...\")\n",
    "\n",
    "    # Generate shared secret from ECDH key exchange\n",
    "    shared_secret = ecdh_private_key.exchange(ec.ECDH(), receiver_public_key_bytes)\n",
    "    print(\"Shared Secret Derived:\", shared_secret[:50], \"...\")\n",
    "    print(\"Shared secret derived.\")\n",
    "\n",
    "    # Derive cipher and MAC keys from shared secret using HKDF\n",
    "    hkdf = HKDF(algorithm=hashes.SHA256(), length=64, salt=None, info=b'secret')\n",
    "    hkdf_output = hkdf.derive(shared_secret)\n",
    "    cipher_key, mac_key = hkdf_output[:32], hkdf_output[32:]\n",
    "\n",
    "    return cipher_key, mac_key\n"
   ],
   "metadata": {
    "collapsed": false
   }
  },
  {
   "cell_type": "markdown",
   "source": [
    "### Receiver"
   ],
   "metadata": {
    "collapsed": false
   }
  },
  {
   "cell_type": "markdown",
   "source": [
    "De um modo semelhante ao emitter, o receiver recebe a assinatura e a chave pública ECDH do emitter e verifica a assinatura. E depois, o receiver envia a sua chave pública ECDH assinada com a sua chave privada ECDSA para o emitter."
   ],
   "metadata": {
    "collapsed": false
   }
  },
  {
   "cell_type": "code",
   "execution_count": 1,
   "outputs": [],
   "source": [
    "async def main():\n",
    "    server = await asyncio.start_server(connection_handler, RECEIVER_HOST, RECEIVER_PORT)\n",
    "\n",
    "    addrs = ', '.join(str(sock.getsockname()) for sock in server.sockets)\n",
    "    print(f'Serving on {addrs}')\n",
    "\n",
    "    async with server:\n",
    "        await server.serve_forever()\n",
    "        server.close()"
   ],
   "metadata": {
    "collapsed": false
   }
  },
  {
   "cell_type": "code",
   "execution_count": null,
   "outputs": [],
   "source": [
    "async def connection_handler(reader: asyncio.StreamReader, writer: asyncio.StreamWriter):\n",
    "    while True:\n",
    "        print(\"-\" * 40, \"CONNECTION INFO\", \"-\" * 40)\n",
    "        try:\n",
    "            cipher_key, mac_key = await initialize_session_receiver(reader, writer)\n",
    "        except ValueError:\n",
    "            print(\"Emitter closed connection.\")\n",
    "            break\n",
    "\n",
    "        print(\"-\" * 40, \"PRIVATE INFORMATION\", \"-\" * 40, \"\\nCipher Key:\", cipher_key, \"\\nMAC Key:\", mac_key)\n",
    "\n",
    "        # Receive nonce from the emitter\n",
    "        print(\"-\" * 40, \"MESSAGE INFO\", \"-\" * 40)\n",
    "        nonce = await reader.read(16)\n",
    "        print(\"Nonce:\", nonce[:10], '...', nonce[-10:])\n",
    "\n",
    "        tag = await reader.read(32)\n",
    "        ciphertext = await reader.read(1000)\n",
    "\n",
    "        print('Tag:', tag[:10], '...', tag[-10:])\n",
    "        print('Ciphertext:', ciphertext[:10], '...', ciphertext[-10:])\n",
    "        print(\"Tag and ciphertext received.\")\n",
    "        print(\"-\" * 80)\n",
    "\n",
    "        # Authenticate message with HMAC-SHA256\n",
    "        try:\n",
    "            verify_message(ciphertext, key=mac_key, nonce=nonce, tag=tag)\n",
    "            print(\"Message authenticated successfully.\")\n",
    "        except InvalidSignature:\n",
    "            print(\"!!! MESSAGE AUTHENTICATION FAILED !!!\")\n",
    "\n",
    "        # Decrypt message with AES-256 in CBC mode\n",
    "        plaintext = decrypt_message(ciphertext, cipher_key, nonce)\n",
    "        utf8_plaintext = plaintext.decode(\"utf-8\")\n",
    "        print(f\"Plaintext received: \\\"{utf8_plaintext}\\\"\")\n",
    "\n",
    "        # Send ACK to emitter\n",
    "        writer.write(b'ACK')\n"
   ],
   "metadata": {
    "collapsed": false
   }
  },
  {
   "cell_type": "code",
   "execution_count": null,
   "outputs": [],
   "source": [
    "\n",
    "async def initialize_session_receiver(reader: asyncio.StreamReader, writer: asyncio.StreamWriter):\n",
    "    print(\"Connection from:\", writer.get_extra_info(\"peername\"))\n",
    "\n",
    "    ecdsa_private_key, ecdsa_public_key = await get_ECDSA_keys_receiver()\n",
    "    ecdh_private_key, ecdh_public_key = await get_ECDH_keys()\n",
    "\n",
    "    print(\"ECDSA private key:\", ecdsa_private_key.private_bytes(Encoding.PEM, format=PrivateFormat.PKCS8,\n",
    "                                                                encryption_algorithm=NoEncryption()))\n",
    "    print(\"ECDSA public key:\", ecdsa_public_key.public_bytes(Encoding.PEM, format=PublicFormat.SubjectPublicKeyInfo))\n",
    "\n",
    "    # Receive emitter's ECDH public key\n",
    "    signature = await reader.read(1000)\n",
    "    emitter_public_key_bytes = await reader.read(1000)\n",
    "    print(\"Emitter's public key received.\")\n",
    "\n",
    "    try:\n",
    "        emitter_ECDSA_public_key = await get_ECDSA_EMITTER_public_key()\n",
    "\n",
    "        emitter_ECDSA_public_key.verify(signature, emitter_public_key_bytes, ec.ECDSA(hashes.SHA256()))\n",
    "        print(\"Emitter's signature verified.\")\n",
    "    except InvalidSignature:\n",
    "        print(\"Emitter's signature verification failed.\")\n",
    "        raise Exception(\"Man in the middle attack detected!\")\n",
    "\n",
    "    # Sign ECDH public key with ECDSA private key\n",
    "    signature = ecdsa_private_key.sign(\n",
    "        await get_public_bytes(ecdh_private_key),\n",
    "        ec.ECDSA(hashes.SHA256())\n",
    "    )\n",
    "    print(\"Signature:\", signature)\n",
    "    print(\"Signature length:\", len(signature))\n",
    "    print(\"ECDH public key:\", await get_public_bytes(ecdh_private_key))\n",
    "\n",
    "    # Send ECDH public key with signature to the emitter\n",
    "    writer.write(signature)\n",
    "    await writer.drain()\n",
    "\n",
    "    writer.write(await get_public_bytes(ecdh_private_key))\n",
    "    await writer.drain()\n",
    "    print(\"Receiver's public key sent.\")\n",
    "\n",
    "    # Load emitter's public key\n",
    "    emitter_public_key = load_pem_public_key(emitter_public_key_bytes)\n",
    "\n",
    "    # Generate shared secret from ECDH key exchange\n",
    "    shared_key = ecdh_private_key.exchange(ec.ECDH(), emitter_public_key)\n",
    "    print(\"Shared secret derived.\")\n",
    "\n",
    "    # Derive cipher and MAC keys from shared secret using HKDF\n",
    "    hkdf = HKDF(algorithm=hashes.SHA256(), length=64, salt=None, info=b'secret')\n",
    "    hkdf_output = hkdf.derive(shared_key)\n",
    "    print(\"HKDF output derived.\")\n",
    "\n",
    "    # Split HKDF output into cipher and MAC keys\n",
    "    cipher_key = hkdf_output[:32]\n",
    "    mac_key = hkdf_output[32:]\n",
    "\n",
    "    return cipher_key, mac_key\n"
   ],
   "metadata": {
    "collapsed": false
   }
  },
  {
   "cell_type": "markdown",
   "source": [
    "### Funções de cifra e autenticação"
   ],
   "metadata": {
    "collapsed": false
   }
  },
  {
   "cell_type": "markdown",
   "source": [
    "Função que autentica a mensagem usando o algoritmo HMAC256."
   ],
   "metadata": {
    "collapsed": false
   }
  },
  {
   "cell_type": "code",
   "execution_count": null,
   "outputs": [],
   "source": [
    "def authenticate_message(message: bytes, key: bytes, nonce: bytes) -> bytes:\n",
    "    hmac_algorithm = hmac.HMAC(key, hashes.SHA256())\n",
    "    hmac_algorithm.update(nonce + message)\n",
    "\n",
    "    tag = hmac_algorithm.finalize()\n",
    "\n",
    "    return tag"
   ],
   "metadata": {
    "collapsed": false
   }
  },
  {
   "cell_type": "markdown",
   "source": [
    "Função que encripta a mensagem usando o algoritmo AES256 com modo OFB(Output FeedBack)."
   ],
   "metadata": {
    "collapsed": false
   }
  },
  {
   "cell_type": "code",
   "execution_count": null,
   "outputs": [],
   "source": [
    "\n",
    "def encrypt_message(message: bytes, key: bytes, nonce: bytes):\n",
    "    padded_message = pad_message(message)\n",
    "    print(\"Padded message:\", padded_message)\n",
    "\n",
    "    cipher = Cipher(algorithms.AES256(key), modes.OFB(nonce[:16]))\n",
    "    encryptor = cipher.encryptor()\n",
    "    ciphertext = encryptor.update(padded_message) + encryptor.finalize()\n",
    "\n",
    "    return ciphertext\n"
   ],
   "metadata": {
    "collapsed": false
   }
  },
  {
   "cell_type": "markdown",
   "source": [
    "Função que verifica a autenticidade da mensagem usando o algoritmo HMAC256."
   ],
   "metadata": {
    "collapsed": false
   }
  },
  {
   "cell_type": "code",
   "execution_count": null,
   "outputs": [],
   "source": [
    "def verify_message(message: bytes, key: bytes, nonce: bytes, tag: bytes) -> bool:\n",
    "    hmac_algorithm = hmac.HMAC(key, hashes.SHA256())\n",
    "    hmac_algorithm.update(nonce + message)\n",
    "\n",
    "    hmac_algorithm.verify(tag)\n",
    "\n",
    "    return True"
   ],
   "metadata": {
    "collapsed": false
   }
  },
  {
   "cell_type": "markdown",
   "source": [
    "Função que desencripta a mensagem usando o algoritmo AES256 com modo OFB(Output FeedBack)."
   ],
   "metadata": {
    "collapsed": false
   }
  },
  {
   "cell_type": "code",
   "execution_count": null,
   "outputs": [],
   "source": [
    "\n",
    "def decrypt_message(ciphertext: bytes, key: bytes, nonce: bytes):\n",
    "    print(\"\\t\\tnonce:\", nonce)\n",
    "    cipher = Cipher(algorithms.AES256(key), modes.OFB(nonce[:16]))\n",
    "    decryptor = cipher.decryptor()\n",
    "    unpadded_message = decryptor.update(ciphertext) + decryptor.finalize()\n",
    "\n",
    "    message = unpad_message(unpadded_message)\n",
    "\n",
    "    return message"
   ],
   "metadata": {
    "collapsed": false
   }
  },
  {
   "cell_type": "markdown",
   "source": [
    "Função geradora de nonces. Esta função usa o algoritmo de hash XOF **shake128** para gerar um nonce pseudo-aleatório."
   ],
   "metadata": {
    "collapsed": false
   }
  },
  {
   "cell_type": "code",
   "execution_count": null,
   "outputs": [],
   "source": [
    "NONCE_HASH_FUNCTION = hashes.SHAKE128\n",
    "NONCE_HASH_SIZE = 16\n",
    "DIGEST_SIZE = 128\n",
    "\n",
    "\n",
    "def generate_random_nonce():\n",
    "    \"\"\" Generate random nonce using XOF hash function \"\"\"\n",
    "    xof = hashes.Hash(NONCE_HASH_FUNCTION(DIGEST_SIZE))\n",
    "    xof.update(os.urandom(NONCE_HASH_SIZE))\n",
    "\n",
    "    return xof.finalize()[0:NONCE_HASH_SIZE]\n"
   ],
   "metadata": {
    "collapsed": false
   }
  },
  {
   "cell_type": "markdown",
   "metadata": {},
   "source": [
    "## Exemplos e testes da aplicação\n",
    "\n",
    "A aplicação foi desenhada para ser iterativa no sentido de um utilizador no programa emitter poder mandar as mensagens que quiser para o programa receiver. Para tal, o utilizador no programa emitter deve escrever a mensagem que pretende enviar e pressionar a tecla enter. O programa receiver irá receber a mensagem e imprimir a mesma no terminal. Assim o receiver recebe as mensagens enviadas pelo emitter de forma segura e autenticada. E o emitter manda as mensagens também de forma segura e autenticada."
   ]
  }
 ],
 "metadata": {
  "kernelspec": {
   "name": "python3",
   "language": "python",
   "display_name": "Python 3 (ipykernel)"
  },
  "language_info": {
   "codemirror_mode": {
    "name": "ipython",
    "version": 3
   },
   "file_extension": ".py",
   "mimetype": "text/x-python",
   "name": "python",
   "nbconvert_exporter": "python",
   "pygments_lexer": "ipython3",
   "version": "3.10.9"
  }
 },
 "nbformat": 4,
 "nbformat_minor": 2
}
