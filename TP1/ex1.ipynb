{
 "cells": [
  {
   "cell_type": "markdown",
   "metadata": {},
   "source": [
    "# Exercício 1\n",
    "\n",
    "## Enunciado do Problema\n",
    "\n",
    "Use a package **Criptography** para \n",
    "\n",
    "1. Criar um comunicação privada assíncrona entre um agente ***Emitter*** e um agente ***Receiver*** que cubra os seguintes aspectos:\n",
    "    1. Autenticação do criptograma e dos metadados (associated data). Usar uma cifra simétrica num modo **HMAC** que seja seguro contra ataques aos “nounces” .\n",
    "    2. Os “nounces” são gerados por um gerador pseudo aleatório (PRG) construído por um função de hash em modo XOF.\n",
    "    3. O par de chaves **cipher_key**, **mac_key** , para cifra e autenticação, é acordado entre agentes usando o protocolo ECDH com autenticação dos agentes usando assinaturas ECDSA."
   ]
  },
  {
   "cell_type": "markdown",
   "metadata": {},
   "source": [
    "## Descrição do Problema\n",
    "\n",
    "Precisamos de garantir que uma comunicação entre um emitter(pessoa que envia) e um receiver(pessoa que recebe) ocorra de forma segura e privada. Para tal temos que definir os seguintes aspetos:\n",
    "\n",
    "- Autenticar o criptograma e os seus metadados através de uma cifra simétrica segura contra ataques aos \"nounces\".\n",
    "\n",
    "- Gerar os \"nounces\" através de um PRG constituido por uma função de hash em modo XOF.\n",
    "\n",
    "- Os dois agentes chegarem a um acordo quanto às chaves **cipher_key** e **mac_key** usando o protocolo **ECDH** com a autenticação usando assinaturas ECDSA."
   ]
  },
  {
   "cell_type": "markdown",
   "metadata": {},
   "source": [
    "## Abordagem\n",
    "\n",
    "..."
   ]
  },
  {
   "cell_type": "markdown",
   "metadata": {},
   "source": [
    "## Código de resolução\n",
    "\n",
    "..."
   ]
  },
  {
   "cell_type": "code",
   "execution_count": 61,
   "metadata": {
    "vscode": {
     "languageId": "plaintext"
    }
   },
   "outputs": [],
   "source": [
    "from cryptography.hazmat.primitives.hmac import HMAC, hashes\n",
    "from cryptography.exceptions import InvalidSignature"
   ]
  },
  {
   "cell_type": "code",
   "execution_count": 62,
   "metadata": {
    "vscode": {
     "languageId": "plaintext"
    }
   },
   "outputs": [],
   "source": [
    "def encrypt_message(message: str) -> str:\n",
    "    pass\n",
    "\n",
    "def get_hmac(message: bytes, mac_key: bytes) -> (bytes, bytes):\n",
    "    hmac = HMAC(mac_key, hashes.SHA256())\n",
    "    hmac.update(message)\n",
    "    tag = hmac.finalize()\n",
    "    \n",
    "    return (message, tag)\n",
    "\n",
    "def verify_hmac(message: bytes, signature: bytes, mac_key: bytes) -> bool:\n",
    "    h = HMAC(mac_key, hashes.SHA256())\n",
    "    h.update(message)\n",
    "    try:\n",
    "        h.verify(signature)    \n",
    "        return true\n",
    "    \n",
    "    except :\n",
    "        return false"
   ]
  },
  {
   "cell_type": "markdown",
   "metadata": {},
   "source": [
    "## Exemplos e testes da aplicação\n",
    "\n",
    "..."
   ]
  },
  {
   "cell_type": "code",
   "execution_count": 68,
   "metadata": {},
   "outputs": [
    {
     "name": "stdout",
     "output_type": "stream",
     "text": [
      "Message: b'Message'\n",
      "Tag: b'\\xbbY\\xe8\\xab\\xc55m\\xec\\x82\\xe9\\xcf\\xa7\\xb2\\x97M\\xc6\\xed\\x03\\xf9\\x96\\x00\\xeem\\x9c\\xa4\\xc5\\xc5\\xd4\\x05\\xac\\x8aK'\n",
      "Valid signature\n"
     ]
    }
   ],
   "source": [
    "import binascii\n",
    "\n",
    "hmac_key = \"123\".encode()\n",
    "\n",
    "message, tag = get_hmac(\"Message\".encode(), hmac_key)\n",
    "\n",
    "print(\"Message:\", message)\n",
    "print(\"Tag:\", tag)\n",
    "\n",
    "\n",
    "print(\"Valid signature\" if verify_hmac(message, tag, hmac_key) else \"Invalid signature\")"
   ]
  },
  {
   "cell_type": "code",
   "execution_count": null,
   "metadata": {},
   "outputs": [],
   "source": []
  }
 ],
 "metadata": {
  "kernelspec": {
   "display_name": "SageMath 9.7",
   "language": "sage",
   "name": "sagemath"
  },
  "language_info": {
   "codemirror_mode": {
    "name": "ipython",
    "version": 3
   },
   "file_extension": ".py",
   "mimetype": "text/x-python",
   "name": "python",
   "nbconvert_exporter": "python",
   "pygments_lexer": "ipython3",
   "version": "3.10.9"
  }
 },
 "nbformat": 4,
 "nbformat_minor": 2
}
