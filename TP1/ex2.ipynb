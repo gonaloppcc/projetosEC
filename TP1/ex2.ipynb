{
 "cells": [
  {
   "attachments": {},
   "cell_type": "markdown",
   "metadata": {},
   "source": [
    "Exercício 2\n",
    "\n",
    "Enunciado do Problema\n",
    "\n",
    "Use o package Cryptography para criar uma cifra com autenticação de meta-dados a partir de um PRG\n",
    "\n",
    "    1. Criar um gerador pseudo-aleatório do tipo XOF (“extened output function”) usando o SHAKE256, para gerar uma sequência de palavras de 64 bits. \n",
    "        i. O gerador deve poder gerar até um limite de 2^n palavras (n é  um parâmetro) armazenados em long integers do Python.\n",
    "        ii. A “seed” do gerador funciona como cipher_key} e é gerado por um KDF a partir de uma “password” .\n",
    "        ii. A autenticação do criptograma e dos dados associados é feita usando o próprio SHAKE256.\n",
    "    \n",
    "    2. Defina os algoritmos de cifrar e decifrar : para cifrar/decifrar uma mensagem com blocos de 64 bits, os “outputs” do gerador são usados como máscaras XOR dos blocos da mensagem. \n",
    "    Essencialmente a cifra básica é uma implementação do “One Time Pad”."
   ]
  },
  {
   "attachments": {},
   "cell_type": "markdown",
   "metadata": {},
   "source": [
    "Descrição do Problema"
   ]
  },
  {
   "attachments": {},
   "cell_type": "markdown",
   "metadata": {},
   "source": [
    "Abordagem"
   ]
  },
  {
   "attachments": {},
   "cell_type": "markdown",
   "metadata": {},
   "source": [
    "Código de resolução"
   ]
  },
  {
   "cell_type": "code",
   "execution_count": null,
   "metadata": {
    "vscode": {
     "languageId": "plaintext"
    }
   },
   "outputs": [],
   "source": [
    "!pip install cryptography"
   ]
  },
  {
   "attachments": {},
   "cell_type": "markdown",
   "metadata": {},
   "source": [
    "O código implementado cria uma classe OneTimePad que implementa a cifra \"One Time Pad\" para cifrar e decifrar mensagens com blocos de 64 bits. A classe tem as seguintes funções implementadas:\n",
    "\n",
    "_init_(self, password, n=128): é o construtor da classe. Recebe uma password e um parâmetro n (padrão 128) que é a quantidade de bits que serão gerados pelo gerador pseudo-aleatório XOF. Utiliza o algoritmo PBKDF2HMAC (Password-Based Key Derivation Function 2) para derivar uma chave criptográfica a partir da password, com um salt aleatório gerado pelo secrets.token_bytes(). A chave é armazenada na forma de um inteiro em self.key.\n",
    "\n",
    "encrypt(self, message): recebe uma mensagem, que é cifrada usando a cifra \"One Time Pad\" com a chave armazenada em self.key. Retorna a mensagem cifrada como um objeto bytearray.\n",
    "\n",
    "decrypt(self, masked_message): recebe uma mensagem cifrada, que é decifrada usando a cifra \"One Time Pad\" com a chave armazenada em self.key. Retorna a mensagem decifrada como um objeto bytearray.\n",
    "\n",
    "_generate_mask(self, block_index): gera uma máscara para cifrar ou decifrar um bloco da mensagem. Recebe como entrada o índice do bloco em bytes e retorna uma máscara como um inteiro.\n",
    "\n",
    "_generate_output(self, block_index): gera a sequência pseudo-aleatória de bits para cifrar ou decifrar um bloco da mensagem. Recebe como entrada o índice do bloco em bytes e retorna a sequência como um objeto bytearray.\n",
    "\n",
    "_generate_data(self, block_index, data_index): gera os dados que serão usados como entrada para o XOF para gerar a sequência pseudo-aleatória de bits. Recebe como entrada o índice do bloco e o índice dos dados dentro do bloco,ambos em bytes, e retorna os dados como um objeto bytearray.\n",
    "\n",
    "\n",
    "Além da classe e das funções implementadas, foram importadas as seguintes bibliotecas: \n",
    "\n",
    "PBKDF2HMAC do pacote cryptography.hazmat.primitives.kdf.pbkdf2: usado para derivar uma chave criptográfica a partir da password.\n",
    "\n",
    "hashes do pacote cryptography.hazmat.primitives: usado para selecionar o algoritmo de hash SHA256 para o PBKDF2HMAC e para o XOF.\n",
    "\n",
    "default_backend do pacote cryptography.hazmat.backends: usado para selecionar o backend padrão para as operações criptográficas.\n",
    "\n",
    "secrets: usado para gerar o salt aleatório."
   ]
  },
  {
   "cell_type": "code",
   "execution_count": null,
   "metadata": {
    "vscode": {
     "languageId": "plaintext"
    }
   },
   "outputs": [],
   "source": [
    "from cryptography.hazmat.primitives.kdf.pbkdf2 import PBKDF2HMAC\n",
    "from cryptography.hazmat.primitives import hashes\n",
    "from cryptography.hazmat.backends import default_backend\n",
    "import secrets\n",
    "\n",
    "class OneTimePad:\n",
    "    def __init__(self, password, n=128):\n",
    "        self.n = n\n",
    "        salt = secrets.token_bytes(16)\n",
    "        kdf = PBKDF2HMAC(\n",
    "            algorithm=hashes.SHA256(),\n",
    "            length=self.n // 8,\n",
    "            salt=salt,\n",
    "            iterations=100000,\n",
    "        )\n",
    "        key = kdf.derive(password.encode())\n",
    "        self.key = int.from_bytes(key, byteorder=\"big\")\n",
    "\n",
    "    def encrypt(self, message):\n",
    "      padding_bytes = 8 - (len(message) % 8)\n",
    "      message += bytes([padding_bytes] * padding_bytes)\n",
    "      masked_message = bytearray()\n",
    "      for i in range(0, len(message), 8):\n",
    "          block = int.from_bytes(message[i:i+8], byteorder=\"big\")\n",
    "          mask = self._generate_mask(i // 8)\n",
    "          masked_block = block ^ mask\n",
    "          masked_message += masked_block.to_bytes(8, byteorder=\"big\")\n",
    "      return masked_message\n",
    "\n",
    "\n",
    "    def decrypt(self, masked_message):\n",
    "      message = bytearray()\n",
    "      for i in range(0, len(masked_message), 8):\n",
    "          masked_block = int.from_bytes(masked_message[i:i+8], byteorder=\"big\")\n",
    "          mask = self._generate_mask(i // 8)\n",
    "          block = masked_block ^ mask\n",
    "          message += block.to_bytes(8, byteorder=\"big\")\n",
    "      # Remove os bytes adicionais da mensagem original\n",
    "      padding_bytes = message[-1]\n",
    "      return message[:-padding_bytes]\n",
    "\n",
    "\n",
    "    def _generate_mask(self, block_index):\n",
    "        output = self._generate_output(block_index)\n",
    "        mask = int.from_bytes(output[:8], byteorder=\"big\")\n",
    "        return mask\n",
    "\n",
    "    def _generate_output(self, block_index):\n",
    "        n_bytes = self.n // 8\n",
    "        output = bytearray()\n",
    "        for i in range(n_bytes):\n",
    "            data = self._generate_data(block_index, i)\n",
    "            output.append(data)\n",
    "        return bytes(output)\n",
    "\n",
    "    def _generate_data(self, block_index, data_index):\n",
    "        data = self.key.to_bytes(16, byteorder=\"big\")\n",
    "        data += block_index.to_bytes(8, byteorder=\"big\")\n",
    "        data += data_index.to_bytes(8, byteorder=\"big\")\n",
    "        digest = hashes.Hash(hashes.SHAKE256(self.n), backend=default_backend())\n",
    "        digest.update(data)\n",
    "        return digest.finalize()[0]"
   ]
  },
  {
   "attachments": {},
   "cell_type": "markdown",
   "metadata": {},
   "source": [
    "Exemplos e testes de aplicação"
   ]
  },
  {
   "cell_type": "markdown",
   "metadata": {},
   "source": []
  }
 ],
 "metadata": {
  "language_info": {
   "name": "python"
  },
  "orig_nbformat": 4
 },
 "nbformat": 4,
 "nbformat_minor": 2
}
