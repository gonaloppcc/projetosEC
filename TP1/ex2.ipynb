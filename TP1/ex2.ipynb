{
 "cells": [
  {
   "attachments": {},
   "cell_type": "markdown",
   "metadata": {},
   "source": [
    "Exercício 2\n",
    "\n",
    "Enunciado do Problema\n",
    "\n",
    "Use o package Cryptography para criar uma cifra com autenticação de meta-dados a partir de um PRG\n",
    "\n",
    "    1. Criar um gerador pseudo-aleatório do tipo XOF (“extened output function”) usando o SHAKE256, para gerar uma sequência de palavras de 64 bits. \n",
    "        i. O gerador deve poder gerar até um limite de 2^n palavras (n é  um parâmetro) armazenados em long integers do Python.\n",
    "        ii. A “seed” do gerador funciona como cipher_key} e é gerado por um KDF a partir de uma “password” .\n",
    "        ii. A autenticação do criptograma e dos dados associados é feita usando o próprio SHAKE256.\n",
    "    \n",
    "    2. Defina os algoritmos de cifrar e decifrar : para cifrar/decifrar uma mensagem com blocos de 64 bits, os “outputs” do gerador são usados como máscaras XOR dos blocos da mensagem. \n",
    "    Essencialmente a cifra básica é uma implementação do “One Time Pad”."
   ]
  },
  {
   "attachments": {},
   "cell_type": "markdown",
   "metadata": {},
   "source": [
    "Descrição do Problema"
   ]
  },
  {
   "attachments": {},
   "cell_type": "markdown",
   "metadata": {},
   "source": [
    "Abordagem"
   ]
  },
  {
   "attachments": {},
   "cell_type": "markdown",
   "metadata": {},
   "source": [
    "Código de resolução"
   ]
  },
  {
   "cell_type": "code",
   "execution_count": 3,
   "metadata": {},
   "outputs": [
    {
     "name": "stdout",
     "output_type": "stream",
     "text": [
      "Requirement already satisfied: cryptography in c:\\users\\barba\\anaconda3\\lib\\site-packages (37.0.1)\n",
      "Requirement already satisfied: cffi>=1.12 in c:\\users\\barba\\anaconda3\\lib\\site-packages (from cryptography) (1.15.1)\n",
      "Requirement already satisfied: pycparser in c:\\users\\barba\\anaconda3\\lib\\site-packages (from cffi>=1.12->cryptography) (2.21)\n",
      "Note: you may need to restart the kernel to use updated packages.\n"
     ]
    }
   ],
   "source": [
    "pip install cryptography"
   ]
  },
  {
   "attachments": {},
   "cell_type": "markdown",
   "metadata": {},
   "source": [
    "O código implementado cria uma classe OneTimePad que implementa a cifra \"One Time Pad\" para cifrar e decifrar mensagens com blocos de 64 bits. A classe tem as seguintes funções implementadas:\n",
    "\n",
    "_init_(self, password, n=128): é o construtor da classe. Recebe uma password e um parâmetro n (padrão 128) que é a quantidade de bits que serão gerados pelo gerador pseudo-aleatório XOF. Utiliza o algoritmo PBKDF2HMAC (Password-Based Key Derivation Function 2) para derivar uma chave criptográfica a partir da password, com um salt aleatório gerado pelo secrets.token_bytes(). A chave é armazenada na forma de um inteiro em self.key.\n",
    "\n",
    "encrypt(self, message): recebe uma mensagem, que é cifrada usando a cifra \"One Time Pad\" com a chave armazenada em self.key. Retorna a mensagem cifrada como um objeto bytearray.\n",
    "\n",
    "decrypt(self, masked_message): recebe uma mensagem cifrada, que é decifrada usando a cifra \"One Time Pad\" com a chave armazenada em self.key. Retorna a mensagem decifrada como um objeto bytearray.\n",
    "\n",
    "_generate_mask(self, block_index): gera uma máscara para cifrar ou decifrar um bloco da mensagem. Recebe como entrada o índice do bloco em bytes e retorna uma máscara como um inteiro.\n",
    "\n",
    "_generate_output(self, block_index): gera a sequência pseudo-aleatória de bits para cifrar ou decifrar um bloco da mensagem. Recebe como entrada o índice do bloco em bytes e retorna a sequência como um objeto bytearray.\n",
    "\n",
    "_generate_data(self, block_index, data_index): gera os dados que serão usados como entrada para o XOF para gerar a sequência pseudo-aleatória de bits. Recebe como entrada o índice do bloco e o índice dos dados dentro do bloco,ambos em bytes, e retorna os dados como um objeto bytearray.\n",
    "\n",
    "\n",
    "Além da classe e das funções implementadas, foram importadas as seguintes bibliotecas: \n",
    "\n",
    "PBKDF2HMAC do pacote cryptography.hazmat.primitives.kdf.pbkdf2: usado para derivar uma chave criptográfica a partir da password.\n",
    "\n",
    "hashes do pacote cryptography.hazmat.primitives: usado para selecionar o algoritmo de hash SHA256 para o PBKDF2HMAC e para o XOF.\n",
    "\n",
    "default_backend do pacote cryptography.hazmat.backends: usado para selecionar o backend padrão para as operações criptográficas.\n",
    "\n",
    "secrets: usado para gerar o salt aleatório."
   ]
  },
  {
   "cell_type": "code",
   "execution_count": 4,
   "metadata": {},
   "outputs": [],
   "source": [
    "from cryptography.hazmat.primitives.kdf.pbkdf2 import PBKDF2HMAC\n",
    "from cryptography.hazmat.primitives import hashes\n",
    "from cryptography.hazmat.backends import default_backend\n",
    "import secrets\n",
    "\n",
    "class OneTimePad:\n",
    "    def __init__(self, password, n=128):\n",
    "        self.n = n\n",
    "        salt = secrets.token_bytes(16)\n",
    "        kdf = PBKDF2HMAC(\n",
    "            algorithm=hashes.SHA256(),\n",
    "            length=self.n // 8,\n",
    "            salt=salt,\n",
    "            iterations=100000,\n",
    "        )\n",
    "        key = kdf.derive(password.encode('utf8')) #ver diferença entre encode() e encode('utf8')\n",
    "        self.key = int.from_bytes(key, byteorder=\"big\")\n",
    "\n",
    "    def encrypt(self, message):\n",
    "      padding_bytes = 8 - (len(message) % 8)\n",
    "      message += bytes([padding_bytes] * padding_bytes)\n",
    "      masked_message = bytearray()\n",
    "      for i in range(0, len(message), 8):\n",
    "          block = int.from_bytes(message[i:i+8], byteorder=\"big\")\n",
    "          mask = self._generate_mask(i // 8)\n",
    "          masked_block = block ^ mask\n",
    "          masked_message += masked_block.to_bytes(8, byteorder=\"big\")\n",
    "      return masked_message\n",
    "\n",
    "\n",
    "    def decrypt(self, masked_message):\n",
    "      message = bytearray()\n",
    "      for i in range(0, len(masked_message), 8):\n",
    "          masked_block = int.from_bytes(masked_message[i:i+8], byteorder=\"big\")\n",
    "          mask = self._generate_mask(i // 8)\n",
    "          block = masked_block ^ mask\n",
    "          message += block.to_bytes(8, byteorder=\"big\")\n",
    "      padding_bytes = message[-1]\n",
    "      return message[:-padding_bytes]\n",
    "\n",
    "\n",
    "    def _generate_mask(self, block_index):\n",
    "        output = self._generate_output(block_index)\n",
    "        mask = int.from_bytes(output[:8], byteorder=\"big\")\n",
    "        return mask\n",
    "\n",
    "    def _generate_output(self, block_index):\n",
    "        n_bytes = self.n // 8\n",
    "        output = bytearray()\n",
    "        for i in range(n_bytes):\n",
    "            data = self._generate_data(block_index, i)\n",
    "            output.append(data)\n",
    "        return bytes(output)\n",
    "\n",
    "    def _generate_data(self, block_index, data_index):\n",
    "        data = self.key.to_bytes(16, byteorder=\"big\")\n",
    "        data += block_index.to_bytes(8, byteorder=\"big\")\n",
    "        data += data_index.to_bytes(8, byteorder=\"big\")\n",
    "        digest = hashes.Hash(hashes.SHAKE256(self.n), backend=default_backend())\n",
    "        digest.update(data)\n",
    "        return digest.finalize()[0]"
   ]
  },
  {
   "attachments": {},
   "cell_type": "markdown",
   "metadata": {},
   "source": [
    "Exemplos e testes de aplicação"
   ]
  },
  {
   "attachments": {},
   "cell_type": "markdown",
   "metadata": {},
   "source": [
    "Primeiro exemplo: Cifragem e Decifragem de uma mensagem curta."
   ]
  },
  {
   "cell_type": "code",
   "execution_count": 5,
   "metadata": {},
   "outputs": [
    {
     "name": "stdout",
     "output_type": "stream",
     "text": [
      "Mensagem Original:  b'estruturas criptograficas!'\n",
      "Mensagem Cifrada:  bytearray(b'8\\xd8@Z!\\x98J\\xa7\\x94q\\xf3\\xf9\\x1d\\xcd\\xa5cn\\xfa\\xffv?m\\xca\\\\\\xe12\\xafn\\tT{]')\n",
      "Mensagem Decifrada: bytearray(b'estruturas criptograficas!')\n"
     ]
    }
   ],
   "source": [
    "# Define a chave de cifragem\n",
    "password = \"AminhaSenha12345\"\n",
    "\n",
    "# Define a mensagem a ser cifrada\n",
    "message = b\"estruturas criptograficas!\"\n",
    "\n",
    "# Cifra a mensagem\n",
    "otp = OneTimePad(password)\n",
    "ciphertext = otp.encrypt(message)\n",
    "\n",
    "# Decifra a mensagem\n",
    "decrypted_text = otp.decrypt(ciphertext)\n",
    "\n",
    "# Imprime a mensagem original e a mensagem decifrada\n",
    "print(\"Mensagem Original: \", message)\n",
    "print(\"Mensagem Cifrada: \", ciphertext)\n",
    "print(\"Mensagem Decifrada:\", decrypted_text)"
   ]
  },
  {
   "attachments": {},
   "cell_type": "markdown",
   "metadata": {},
   "source": [
    "Segundo exemplo: Cifragem e Decifragem de um arquivo de texto."
   ]
  },
  {
   "cell_type": "code",
   "execution_count": 6,
   "metadata": {},
   "outputs": [
    {
     "ename": "FileNotFoundError",
     "evalue": "[Errno 2] No such file or directory: 'meuarquivo.txt'",
     "output_type": "error",
     "traceback": [
      "\u001b[1;31m---------------------------------------------------------------------------\u001b[0m",
      "\u001b[1;31mFileNotFoundError\u001b[0m                         Traceback (most recent call last)",
      "\u001b[1;32m~\\AppData\\Local\\Temp\\ipykernel_15972\\521426173.py\u001b[0m in \u001b[0;36m<module>\u001b[1;34m\u001b[0m\n\u001b[0;32m      3\u001b[0m \u001b[1;33m\u001b[0m\u001b[0m\n\u001b[0;32m      4\u001b[0m \u001b[1;31m# Lê o arquivo de texto a ser cifrado\u001b[0m\u001b[1;33m\u001b[0m\u001b[1;33m\u001b[0m\u001b[0m\n\u001b[1;32m----> 5\u001b[1;33m \u001b[1;32mwith\u001b[0m \u001b[0mopen\u001b[0m\u001b[1;33m(\u001b[0m\u001b[1;34m\"meuarquivo.txt\"\u001b[0m\u001b[1;33m,\u001b[0m \u001b[1;34m\"rb\"\u001b[0m\u001b[1;33m)\u001b[0m \u001b[1;32mas\u001b[0m \u001b[0mf\u001b[0m\u001b[1;33m:\u001b[0m\u001b[1;33m\u001b[0m\u001b[1;33m\u001b[0m\u001b[0m\n\u001b[0m\u001b[0;32m      6\u001b[0m     \u001b[0mmessage\u001b[0m \u001b[1;33m=\u001b[0m \u001b[0mf\u001b[0m\u001b[1;33m.\u001b[0m\u001b[0mread\u001b[0m\u001b[1;33m(\u001b[0m\u001b[1;33m)\u001b[0m\u001b[1;33m\u001b[0m\u001b[1;33m\u001b[0m\u001b[0m\n\u001b[0;32m      7\u001b[0m \u001b[1;33m\u001b[0m\u001b[0m\n",
      "\u001b[1;31mFileNotFoundError\u001b[0m: [Errno 2] No such file or directory: 'meuarquivo.txt'"
     ]
    }
   ],
   "source": [
    "# Define a chave de cifragem\n",
    "password = \"outraSenha12345\"\n",
    "\n",
    "# Lê o arquivo de texto a ser cifrado\n",
    "with open(\"meuarquivo.txt\", \"rb\") as f:\n",
    "    message = f.read()\n",
    "\n",
    "# Cifra a mensagem\n",
    "otp = OneTimePad(password)\n",
    "ciphertext = otp.encrypt(message)\n",
    "\n",
    "# Escreve o conteúdo cifrado num novo arquivo\n",
    "with open(\"meuarquivo_cifrado.txt\", \"wb\") as f:\n",
    "    f.write(ciphertext)\n",
    "\n",
    "# Lê o arquivo cifrado\n",
    "with open(\"meuarquivo_cifrado.txt\", \"rb\") as f:\n",
    "    ciphertext = f.read()\n",
    "\n",
    "# Decifra a mensagem\n",
    "decrypted_text = otp.decrypt(ciphertext)\n",
    "\n",
    "# Escreve o conteúdo decifrado num novo arquivo\n",
    "with open(\"meuarquivo_decifrado.txt\", \"wb\") as f:\n",
    "    f.write(decrypted_text)"
   ]
  }
 ],
 "metadata": {
  "kernelspec": {
   "display_name": "base",
   "language": "python",
   "name": "python3"
  },
  "language_info": {
   "codemirror_mode": {
    "name": "ipython",
    "version": 3
   },
   "file_extension": ".py",
   "mimetype": "text/x-python",
   "name": "python",
   "nbconvert_exporter": "python",
   "pygments_lexer": "ipython3",
   "version": "3.9.13"
  },
  "orig_nbformat": 4
 },
 "nbformat": 4,
 "nbformat_minor": 2
}
