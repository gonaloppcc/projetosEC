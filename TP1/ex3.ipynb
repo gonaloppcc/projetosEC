{
 "cells": [
  {
   "attachments": {},
   "cell_type": "markdown",
   "metadata": {},
   "source": [
    "****Trabalho Prático 1 - Exercício 2****"
   ]
  },
  {
   "attachments": {},
   "cell_type": "markdown",
   "metadata": {},
   "source": [
    "**Grupo 1**:\n",
    "\n",
    "* Bárbara Freixo - PG49169\n",
    "* Gonçalo Soares - PG50393"
   ]
  },
  {
   "attachments": {},
   "cell_type": "markdown",
   "metadata": {},
   "source": [
    "**Enunciado do Problema**\n",
    "\n",
    "\n",
    "Use o “package” Cryptography para\n",
    "\n",
    "    i. Implementar uma AEAD com “Tweakable Block Ciphers” conforme está descrito na última secção do texto +Capítulo 1: Primitivas Criptográficas Básicas.  A cifra por blocos primitiva, usada para gerar a “tweakable block cipher”, é o AES-256 ou o ChaCha20.\n",
    "\n",
    "    ii. Use esta cifra para construir um canal privado de informação assíncrona com acordo de chaves feito com “X448 key exchange” e “Ed448 Signing&Verification” para autenticação  dos agentes. Deve incluir uma fase de confirmação da chave acordada."
   ]
  },
  {
   "attachments": {},
   "cell_type": "markdown",
   "metadata": {},
   "source": [
    "**Descrição do Problema**"
   ]
  },
  {
   "attachments": {},
   "cell_type": "markdown",
   "metadata": {},
   "source": [
    "Este problema consiste em implementar um sistema de criptografia assíncrono que garanta confidencialidade e autenticação. Para isso, é necessário usar o pacote Cryptography para implementar uma AEAD (Autenticado Encryption with Associated Data) com \"Tweakable Block Ciphers\". A cifra por blocos primitiva a ser usada é o AES-256.\n",
    "\n",
    "Além disso, deve ser construído um canal privado de informação assíncrona, utilizando o X448 key exchange para o acordo de chaves e o Ed448 Signing & Verification para autenticação dos agentes. O sistema deve incluir uma fase de confirmação da chave acordada, garantindo que as chaves acordadas são autênticas e foram geradas pelos agentes legítimos."
   ]
  },
  {
   "attachments": {},
   "cell_type": "markdown",
   "metadata": {},
   "source": [
    "**Abordagem e código da solução do ponto i.**"
   ]
  },
  {
   "attachments": {},
   "cell_type": "markdown",
   "metadata": {},
   "source": [
    "Antes da implementação do código foi instalado o package cryptography essencial à resolução do problema."
   ]
  },
  {
   "cell_type": "code",
   "execution_count": 1,
   "metadata": {},
   "outputs": [
    {
     "name": "stdout",
     "output_type": "stream",
     "text": [
      "Requirement already satisfied: cryptography in c:\\users\\barba\\anaconda3\\lib\\site-packages (37.0.1)\n",
      "Requirement already satisfied: cffi>=1.12 in c:\\users\\barba\\anaconda3\\lib\\site-packages (from cryptography) (1.15.1)\n",
      "Requirement already satisfied: pycparser in c:\\users\\barba\\anaconda3\\lib\\site-packages (from cffi>=1.12->cryptography) (2.21)\n",
      "Note: you may need to restart the kernel to use updated packages.\n"
     ]
    }
   ],
   "source": [
    "pip install cryptography"
   ]
  },
  {
   "attachments": {},
   "cell_type": "markdown",
   "metadata": {},
   "source": [
    "Depois de instalado o package começamos por fazer os imports necessários. Utilizámos o módulo cryptography do Python. Os imports utilizados foram: \n",
    "\n",
    "* from cryptography.hazmat.primitives.ciphers.aead import AESGCM: Importa os algoritmos de cifragem AEAD AES-GCM, que é uma cifra simétrica segura que fornece confidencialidade e autenticação de dados.\n",
    "\n",
    "* from cryptography.hazmat.primitives import hashes: Importa funções hash criptográficas, como SHA256, SHA384, SHA512, que são usadas para gerar valores hash seguros de mensagens e chaves.\n",
    "\n",
    "* from cryptography.hazmat.primitives.kdf.pbkdf2 import PBKDF2HMAC: Importa a função de derivação de chave PBKDF2HMAC, que é um algoritmo de derivação de chave baseado em password usado para gerar chaves criptográficas a partir de passwords de usuário.\n",
    "\n",
    "* from cryptography.hazmat.backends import default_backend: Importa o backend padrão da biblioteca \"cryptography.hazmat\", que é usado para fornecer uma implementação adequada para as funções de criptografia e hash.\n",
    "\n",
    "* import os: Importa o módulo os, que é usado para gerar valores aleatórios de passwords, sal, chaves, nonces, etc. Além disso, também fornece funções para trabalhar com diretórios, arquivos e variáveis de ambiente do sistema operacional."
   ]
  },
  {
   "cell_type": "code",
   "execution_count": 2,
   "metadata": {},
   "outputs": [],
   "source": [
    "from cryptography.hazmat.primitives.ciphers import Cipher, algorithms, modes\n",
    "from cryptography.hazmat.primitives.ciphers.aead import AESGCM\n",
    "from cryptography.hazmat.primitives import hashes\n",
    "from cryptography.hazmat.primitives.kdf.pbkdf2 import PBKDF2HMAC\n",
    "from cryptography.hazmat.backends import default_backend\n",
    "import os"
   ]
  },
  {
   "attachments": {},
   "cell_type": "markdown",
   "metadata": {},
   "source": [
    "Em seguida, são definidas algumas constantes e variáveis. block_cipher é o algoritmo de cifragem de bloco usado, block_size é o tamanho do bloco do algoritmo, password e salt são usados para gerar uma chave derivada por meio de um Key Derivation Function (KDF) PBKDF2, key_len é o comprimento da chave derivada e iterations é o número de iterações do PBKDF2. O KDF é usado para transformar uma password numa chave adequada para criptografia simétrica."
   ]
  },
  {
   "cell_type": "code",
   "execution_count": 3,
   "metadata": {},
   "outputs": [],
   "source": [
    "block_cipher = algorithms.AES\n",
    "block_size = block_cipher.block_size // 8  # 16 bytes\n",
    "\n",
    "password = os.urandom(16) # random password\n",
    "salt = os.urandom(16) # random salt\n",
    "iterations = 100000\n",
    "key_len = block_size * 2  # 32 bytes\n",
    "\n",
    "kdf = PBKDF2HMAC(\n",
    "    algorithm=hashes.SHA256(),\n",
    "    length=key_len,\n",
    "    salt=salt,\n",
    "    iterations=iterations,\n",
    "    backend=default_backend(),\n",
    ")\n",
    "\n",
    "key = kdf.derive(password)"
   ]
  },
  {
   "attachments": {},
   "cell_type": "markdown",
   "metadata": {},
   "source": [
    "Em seguida, são definidas as funções ***generate_tweak*** e ***aead_encrypt*** e ***aead_decrypt*** que são usadas para cifrar e decifrar a mensagem.\n",
    "\n",
    "***generate_tweak*** é usada para gerar a chave de tweak. O tweak é um valor aleatório usado para modificar o comportamento da criptografia. Ele é cifrado usando o modo de criptografia Eletronic Codebook (ECB) com a chave derivada da senha. A função retorna o primeiro bloco da saída da criptografia, que é usado como a chave de tweak.\n",
    "\n",
    "***aead_encrypt*** é usada para cifrar uma mensagem usando a cifragem GCM do AES. A mensagem é cifrada com a chave derivada da password e a chave de tweak. A autenticação de dados associados (AD) é adicionada usando o método authenticate_additional_data, e a criptografia é finalizada com o método finalize. A função retorna o texto cifrado e a tag de autenticação.\n",
    "\n",
    "***aead_decrypt*** é usada para decifrar uma mensagem cifrada com aead_encrypt. A mensagem é decifrada usando a chave derivada da password e a chave de tweak. A autenticação de dados associados (AD) é adicionada e a decifragem é finalizada. A função retorna o texto decifrado."
   ]
  },
  {
   "cell_type": "code",
   "execution_count": 4,
   "metadata": {},
   "outputs": [],
   "source": [
    "def generate_tweak(key, tweak):\n",
    "    cipher = Cipher(algorithms.AES(key), modes.ECB(), backend=default_backend())\n",
    "    encryptor = cipher.encryptor()\n",
    "    tweak_pad = b\"\\x00\" * (block_size - len(tweak))\n",
    "    tweak += tweak_pad\n",
    "    tweak_enc = encryptor.update(tweak) + encryptor.finalize()\n",
    "    tweak_key = tweak_enc[:block_size]\n",
    "    return tweak_key\n",
    "\n",
    "def aead_encrypt(key, tweak, nonce, plaintext, associated_data=b\"\"):\n",
    "    cipher = Cipher(block_cipher(generate_tweak(key, tweak)), modes.GCM(nonce), backend=default_backend())\n",
    "    encryptor = cipher.encryptor()\n",
    "    encryptor.authenticate_additional_data(associated_data)\n",
    "    ciphertext = encryptor.update(plaintext) + encryptor.finalize()\n",
    "    tag = encryptor.tag\n",
    "    return ciphertext, tag\n",
    "\n",
    "def aead_decrypt(key, tweak, nonce, ciphertext, tag, associated_data=b\"\"):\n",
    "    cipher = Cipher(block_cipher(generate_tweak(key, tweak)), modes.GCM(nonce, tag), backend=default_backend())\n",
    "    decryptor = cipher.decryptor()\n",
    "    decryptor.authenticate_additional_data(associated_data)\n",
    "    plaintext = decryptor.update(ciphertext) + decryptor.finalize()\n",
    "    return plaintext"
   ]
  },
  {
   "attachments": {},
   "cell_type": "markdown",
   "metadata": {},
   "source": [
    "Para exemplificar o funcionamento da solução, iremos mostrar na próxima secção um exemplo de aplicação. "
   ]
  },
  {
   "attachments": {},
   "cell_type": "markdown",
   "metadata": {},
   "source": [
    "**Exemplos e testes de aplicação**"
   ]
  },
  {
   "attachments": {},
   "cell_type": "markdown",
   "metadata": {},
   "source": [
    "Exemplo: Cifragem e Decifragem de uma mensagem curta\n",
    "\n",
    "O código gera uma chave mestra aleatória e um nonce aleatório. Ele cifra e decifra a mensagem \"estruturas criptográficas!\" usando ***aead_encrypt*** e ***aead_decrypt***, respectivamente. O texto cifrado, a tag de autenticação e o texto decifrado são impressos na tela para verificar se a cifragem e decifragem funcionam corretamente."
   ]
  },
  {
   "cell_type": "code",
   "execution_count": 5,
   "metadata": {},
   "outputs": [
    {
     "name": "stdout",
     "output_type": "stream",
     "text": [
      "Plaintext: b'estruturas criptograficas!'\n",
      "Ciphertext: b't\\xf0a\\x12\\xde>\\x18\\'Du8a\\xbe\"z_\\x01\\x16\\x1d\\xc0,\\xfe\\x17O7H'\n",
      "Tag: b'x\\xcb\\xe90\\xee\\xa3\\x94\\x0eNwDw\\xdd8\\xddZ'\n",
      "Decrypted plaintext: b'estruturas criptograficas!'\n"
     ]
    }
   ],
   "source": [
    "key = os.urandom(32) # random master key\n",
    "tweak = os.urandom(block_size) # random tweak\n",
    "nonce = os.urandom(12) # random nonce\n",
    "plaintext = b\"estruturas criptograficas!\"\n",
    "ciphertext, tag = aead_encrypt(key, tweak, nonce, plaintext)\n",
    "decrypted_plaintext = aead_decrypt(key, tweak, nonce, ciphertext, tag)\n",
    "\n",
    "print(\"Plaintext:\", plaintext)\n",
    "print(\"Ciphertext:\", ciphertext)\n",
    "print(\"Tag:\", tag)\n",
    "print(\"Decrypted plaintext:\", decrypted_plaintext)"
   ]
  },
  {
   "attachments": {},
   "cell_type": "markdown",
   "metadata": {},
   "source": [
    "**Abordagem e código da solução do ponto ii.**"
   ]
  },
  {
   "attachments": {},
   "cell_type": "markdown",
   "metadata": {},
   "source": [
    "Este código implementa um protocolo de criptografia de chave pública em duas etapas, onde duas partes (Alice e Bob) concordam numa chave compartilhada que é usada para cifrar e decifrar mensagens. A criptografia é realizada usando as primitivas criptográficas X448 e AES-GCM, e a autenticação é realizada usando Ed25519.\n",
    "\n",
    "Começamos por fazer os imports necessários. Os imports foram os seguintes: \n",
    "\n",
    "* from cryptography.hazmat.primitives.asymmetric.x448 import X448PrivateKey, X448PublicKey: permitem a geração de chaves privadas e públicas para o algoritmo X448.\n",
    "* from cryptography.hazmat.primitives.asymmetric.ed25519 import Ed25519PrivateKey, Ed25519PublicKey: permitem a geração de chaves privadas e públicas para o algoritmo Ed25519. \n",
    "* from cryptography.hazmat.primitives.kdf.hkdf import HKDF: é usado para derivar uma chave simétrica a partir da chave compartilhada gerada pelo acordo de chaves.\n",
    "* from cryptography.hazmat.primitives.ciphers.aead import AESGCM: é usado para cifrar e decifrar a mensagem usando a chave simétrica derivada.\n",
    "* from cryptography.hazmat.primitives import hashes: é usado para escolher o algoritmo de hash usado pelo HKDF.\n",
    "* import os: é usado para gerar um nonce aleatório usado pelo AES-GCM.\n",
    "\n"
   ]
  },
  {
   "cell_type": "code",
   "execution_count": 10,
   "metadata": {},
   "outputs": [],
   "source": [
    "from cryptography.hazmat.primitives.asymmetric.x448 import X448PrivateKey, X448PublicKey\n",
    "from cryptography.hazmat.primitives.asymmetric.ed25519 import Ed25519PrivateKey, Ed25519PublicKey\n",
    "from cryptography.hazmat.primitives.kdf.hkdf import HKDF\n",
    "from cryptography.hazmat.primitives.ciphers.aead import AESGCM\n",
    "from cryptography.hazmat.primitives import hashes\n",
    "import os"
   ]
  },
  {
   "attachments": {},
   "cell_type": "markdown",
   "metadata": {},
   "source": [
    "A seguir, o código gera as chaves X448 para a Alice e  para o Bob e as chaves Ed25519 para autenticação:"
   ]
  },
  {
   "cell_type": "code",
   "execution_count": 15,
   "metadata": {},
   "outputs": [],
   "source": [
    "# Gerando as chaves X448 para o acordo de chaves\n",
    "alice_x448_private_key = X448PrivateKey.generate()\n",
    "alice_x448_public_key = alice_x448_private_key.public_key()\n",
    "\n",
    "bob_x448_private_key = X448PrivateKey.generate()\n",
    "bob_x448_public_key = bob_x448_private_key.public_key()\n",
    "\n",
    "# Gerando as chaves Ed25519 para autenticação\n",
    "alice_ed25519_private_key = Ed25519PrivateKey.generate()\n",
    "alice_ed25519_public_key = alice_ed25519_private_key.public_key()\n",
    "\n",
    "bob_ed25519_private_key = Ed25519PrivateKey.generate()\n",
    "bob_ed25519_public_key = bob_ed25519_private_key.public_key()"
   ]
  },
  {
   "attachments": {},
   "cell_type": "markdown",
   "metadata": {},
   "source": [
    "Em seguida, as duas partes realizam o acordo de chaves usando o protocolo de Diffie-Hellman X448:"
   ]
  },
  {
   "cell_type": "code",
   "execution_count": 16,
   "metadata": {},
   "outputs": [],
   "source": [
    "# Realizando o acordo de chaves usando X448\n",
    "shared_key = alice_x448_private_key.exchange(bob_x448_public_key)"
   ]
  },
  {
   "attachments": {},
   "cell_type": "markdown",
   "metadata": {},
   "source": [
    "O resultado é uma chave secreta compartilhada entre Alice e Bob. Em seguida, o código deriva a chave usando o algoritmo HKDF:"
   ]
  },
  {
   "cell_type": "code",
   "execution_count": 17,
   "metadata": {},
   "outputs": [],
   "source": [
    "# Derivando a chave com HKDF\n",
    "derived_key = HKDF(\n",
    "    algorithm=hashes.SHA256(),\n",
    "    length=32,\n",
    "    salt=None,\n",
    "    info=b'handshake data',\n",
    ").derive(shared_key)"
   ]
  },
  {
   "attachments": {},
   "cell_type": "markdown",
   "metadata": {},
   "source": [
    "O resultado é uma chave derivada de 32 bytes. O código então verifica se as chaves acordadas são iguais usando uma operação de criptografia AES-GCM:"
   ]
  },
  {
   "cell_type": "code",
   "execution_count": 18,
   "metadata": {},
   "outputs": [
    {
     "name": "stdout",
     "output_type": "stream",
     "text": [
      "Chave acordada confirmada com sucesso\n"
     ]
    }
   ],
   "source": [
    "# Verificando se as chaves acordadas são iguais\n",
    "nonce = os.urandom(12)\n",
    "challenge = os.urandom(16)\n",
    "\n",
    "aesgcm = AESGCM(derived_key[:32])\n",
    "encrypted_challenge = aesgcm.encrypt(nonce, challenge, None)\n",
    "decrypted_challenge = aesgcm.decrypt(nonce, encrypted_challenge, None)\n",
    "\n",
    "if challenge == decrypted_challenge:\n",
    "    print('Chave acordada confirmada com sucesso')\n",
    "else:\n",
    "    print('Erro na confirmação da chave acordada')"
   ]
  },
  {
   "attachments": {},
   "cell_type": "markdown",
   "metadata": {},
   "source": [
    "Se a chave acordada for igual, o código exibe uma mensagem confirmando o sucesso da operação. Em seguida, o código usa a chave derivada para cifrar e decifrar uma mensagem usando AES-GCM:"
   ]
  },
  {
   "cell_type": "code",
   "execution_count": 20,
   "metadata": {},
   "outputs": [],
   "source": [
    "# Cifrando a mensagem com AES-GCM\n",
    "nonce = os.urandom(12)\n",
    "aad = b'authenticated but unencrypted data'\n",
    "message = b'Mensagem secreta'\n",
    "\n",
    "aesgcm = AESGCM(derived_key[:32])\n",
    "ciphertext = aesgcm.encrypt(nonce, message, aad)\n",
    "\n",
    "# Decifrando a mensagem com AES-GCM\n",
    "aesgcm = AESGCM(derived_key[:32])\n",
    "plaintext = aesgcm.decrypt(nonce, ciphertext, aad)"
   ]
  },
  {
   "attachments": {},
   "cell_type": "markdown",
   "metadata": {},
   "source": [
    "Por fim, o código assina a mensagem usando a chave privada Ed25519 de Alice e verifica a assinatura usando a chave pública correspondente e exibe o resultado da crifragem e decifragem da mensagem:"
   ]
  },
  {
   "cell_type": "code",
   "execution_count": 22,
   "metadata": {},
   "outputs": [
    {
     "name": "stdout",
     "output_type": "stream",
     "text": [
      "Assinatura válida\n",
      "Chaves geradas:\n",
      "Chave privada X448 de Alice: b'P\\x98\\x98\\xac5b\\xbb\\xff\\xf1\\xfd\\xb8MtD{\\xf9\\x18;\\x7f\\xf4\\xa5\\xe3dB\\x86as\\xb0tC?^\\x04\\xcfi\\x8e~\\x14\\x8f\\x0f\\xb8\"a\\xc4\\xa4\\x86Hn\\xdb:oA]\\x89S\\xeb'\n",
      "Chave pública X448 de Alice: b'\\xe3\\xe2\\xaa\\xe1-\\xfcS=\\xa5\\xe5M\\xbc\\x97\\xa8$s\\xad\\xe4xrv\\x8d\\x80\\xeb3\\xdf\\x1e\\xfb\\xcc0\\xfb#5\\xac\\x16\\x82\\xf7\\x05)\\xb0\\x16\\x12\\xa9E\\x9e\\xfc\\x0c*\\x950\\xd3\\xf8\\x9f\\xddA5'\n",
      "Chave privada Ed25519 de Alice: b'\\xca\\xf2Kr\\xee\\xb8\\xd8~\\xd4\\xa7H>O\\x92\\xd4\\xc3\\xe2\\xb3\\r5\\xe9Xc7\\xbd\\xa7\\xfaI\\x86]\\x8f\\xfc'\n",
      "Chave pública Ed25519 de Alice: b'\\xf7\\x17V\\x01\\xfb\\xe5L\\xbe\\xdf(\\x9b\\xa3\\x84Om##\\xf3\\xaf\\xf4\\xa8\\xc2\\x84%\\x13\\x9e\\x9b\\x92\\xebo\\xeaA'\n",
      "Chave privada X448 de Bob: b'\\xbc\\xff\\xa5o\\x89\\xc7$I\\x92\\xe5\\x93\\x0b\\x1e3cr\\xact\\xbfe\\x82u\\x11\\xec3\\xe9\\x9an\\xf5oq!\\xa8I\\xab\\xdc\\xf2W\\x9bq\\x8a\\xe2\\xb8\\x8bIOA\\xddM\\xf0h\\x86u\\x14\\x8d\\x9e'\n",
      "Chave pública X448 de Bob: b'w\\xab\\x96\\xf5lu\\xb9\\xfa\\xa8\\x95\\x9fYp\\xdb\\xf5\\\\*\\x82\\xe8\"\\xe6\\x9d\\xfd\\x8b\\xc0\\x80\\xe2(\\xe6\\x8f\\x85rR[6x\\r\\x97\\xe0\\xa1\\x85\\xc3\\xae\\x0e \\xf8\\xfc\\x92\\x97\\xbe\\x04%\\x8f,\\x9f\\x90'\n",
      "Chave privada Ed25519 de Bob: b'B\\x7f\\xb6\\xc8\\xd0\\xde\\xca,>?\\xf75\\xbfj\\xf8\\xa2\\x01\\xe7(9t\\xcdc\\xeb\\x8fMY\\x94`\\x88s\\xca'\n",
      "Chave pública Ed25519 de Bob: b'\\xad{\\xa1c\\x8d2\\xf7p\\x19#}\\x8d\\xc0\\xcf\\xa2\\x0f-D;\\xbc\\x16vT\\xf41(\\x8d{\\xcd\\x7f1\\xfe'\n"
     ]
    }
   ],
   "source": [
    "# Assinando a mensagem com Ed25519\n",
    "signature = alice_ed25519_private_key.sign(message)\n",
    "\n",
    "# Verificando a assinatura com a chave pública correspondente\n",
    "try:\n",
    "    alice_ed25519_public_key.verify(signature, message)\n",
    "    print('Assinatura válida')\n",
    "except:\n",
    "    print('Assinatura inválida')\n",
    "    \n",
    "# Exibindo as chaves geradas\n",
    "print('Chaves geradas:')\n",
    "print(f'Chave privada X448 de Alice: {alice_x448_private_key.private_bytes(Encoding.Raw, PrivateFormat.Raw, NoEncryption())}')\n",
    "print(f'Chave pública X448 de Alice: {alice_x448_public_key.public_bytes(Encoding.Raw, PublicFormat.Raw)}')\n",
    "print(f'Chave privada Ed25519 de Alice: {alice_ed25519_private_key.private_bytes(Encoding.Raw, PrivateFormat.Raw, NoEncryption())}')\n",
    "print(f'Chave pública Ed25519 de Alice: {alice_ed25519_public_key.public_bytes(Encoding.Raw, PublicFormat.Raw)}')\n",
    "print(f'Chave privada X448 de Bob: {bob_x448_private_key.private_bytes(Encoding.Raw, PrivateFormat.Raw, NoEncryption())}')\n",
    "print(f'Chave pública X448 de Bob: {bob_x448_public_key.public_bytes(Encoding.Raw, PublicFormat.Raw)}')\n",
    "print(f'Chave privada Ed25519 de Bob: {bob_ed25519_private_key.private_bytes(Encoding.Raw, PrivateFormat.Raw, NoEncryption())}')\n",
    "print(f'Chave pública Ed25519 de Bob: {bob_ed25519_public_key.public_bytes(Encoding.Raw, PublicFormat.Raw)}')"
   ]
  }
 ],
 "metadata": {
  "kernelspec": {
   "display_name": "base",
   "language": "python",
   "name": "python3"
  },
  "language_info": {
   "codemirror_mode": {
    "name": "ipython",
    "version": 3
   },
   "file_extension": ".py",
   "mimetype": "text/x-python",
   "name": "python",
   "nbconvert_exporter": "python",
   "pygments_lexer": "ipython3",
   "version": "3.9.13"
  },
  "orig_nbformat": 4
 },
 "nbformat": 4,
 "nbformat_minor": 2
}
