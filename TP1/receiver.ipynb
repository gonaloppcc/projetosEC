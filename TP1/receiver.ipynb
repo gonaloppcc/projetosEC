{
 "cells": [
  {
   "cell_type": "markdown",
   "metadata": {},
   "source": [
    "# Exercício 1\n",
    "\n",
    "## Enunciado do Problema\n",
    "\n",
    "Use a package **Criptography** para \n",
    "\n",
    "1. Criar um comunicação privada assíncrona entre um agente ***Emitter*** e um agente ***Receiver*** que cubra os seguintes aspectos:\n",
    "    1. Autenticação do criptograma e dos metadados (associated data). Usar uma cifra simétrica num modo **HMAC** que seja seguro contra ataques aos “nounces” .\n",
    "    2. Os “nounces” são gerados por um gerador pseudo aleatório (PRG) construído por um função de hash em modo XOF.\n",
    "    3. O par de chaves **cipher_key**, **mac_key** , para cifra e autenticação, é acordado entre agentes usando o protocolo ECDH com autenticação dos agentes usando assinaturas ECDSA."
   ]
  },
  {
   "attachments": {},
   "cell_type": "markdown",
   "metadata": {},
   "source": [
    "## Descrição do Problema\n",
    "\n",
    "Precisamos de garantir que uma comunicação entre um emitter(pessoa que envia) e um receiver(pessoa que recebe) ocorra de forma segura e privada. Para tal temos que definir os seguintes aspetos:\n",
    "\n",
    "1. Autenticar o criptograma e os seus metadados através de uma cifra simétrica segura contra ataques aos \"nounces\".\n",
    "\n",
    "- Gerar os \"nounces\" através de um PRG constituido por uma função de hash em modo XOF.\n",
    "\n",
    "- Os dois agentes chegarem a um acordo quanto às chaves **cipher_key** e **mac_key** usando o protocolo **ECDH** com a autenticação usando assinaturas ECDSA."
   ]
  },
  {
   "attachments": {},
   "cell_type": "markdown",
   "metadata": {},
   "source": [
    "## Abordagem\n",
    "\n",
    "1. Para autenticar o criptograma, vamos utilizar a função HMAC.\n",
    "2. Para garantir que a comunicação ocorra de forma privada precisamos de encriptar a mensagem e para isso vamos utilizar uma cifra simétrica.\n",
    "3. Para garantir que a cifra simétrica é segura contra ataques aos nounces ou *replay attacks* podemos utilizar a função de hash para autenticar o nounce.\n",
    "4. Para garantir aleatoriedade na geração dos \"nounces\", vamos utilizar uma função de hash em modo XOF (Extendable Output Function).\n",
    "5. Para definirmos as chaves **cipher_key** e **mac_key** entre os dois agentes, vamos utilizar o protocolo **ECDH**(Elliptic-curve Diffie–Hellman) .\n",
    "6. Para autenticar os agentes, vamos utilizar o algoritmo **ECDSA**(Elliptic Curve Digital Signature Algorithm)."
   ]
  },
  {
   "cell_type": "markdown",
   "metadata": {},
   "source": [
    "## Código de resolução\n",
    "\n",
    "..."
   ]
  },
  {
   "cell_type": "code",
   "execution_count": 1,
   "metadata": {
    "vscode": {
     "languageId": "plaintext"
    }
   },
   "outputs": [],
   "source": [
    "import asyncio\n",
    "# noinspection PyUnresolvedReferences\n",
    "import os\n",
    "\n",
    "from asyncio import StreamReader, StreamWriter\n",
    "\n",
    "from cryptography.hazmat.primitives import hashes, hmac\n",
    "from cryptography.hazmat.primitives.asymmetric import ec\n",
    "from cryptography.hazmat.primitives.ciphers import Cipher, algorithms, modes\n",
    "from cryptography.hazmat.primitives.serialization import (\n",
    "    Encoding,\n",
    "    PublicFormat,\n",
    "    load_pem_public_key,\n",
    ")"
   ]
  },
  {
   "cell_type": "code",
   "execution_count": 2,
   "outputs": [],
   "source": [
    "NONCE_HASH_FUNCTION = hashes.SHAKE256\n",
    "NONCE_HASH_SIZE = 16\n",
    "DIGEST_SIZE = 128\n",
    "\n",
    "\n",
    "def generate_random_nonce():\n",
    "    \"\"\" Generate random nonce using XOF hash function \"\"\"\n",
    "    xof = hashes.Hash(NONCE_HASH_FUNCTION(DIGEST_SIZE))\n",
    "    xof.update(os.urandom(NONCE_HASH_SIZE))\n",
    "\n",
    "    return xof.finalize()"
   ],
   "metadata": {
    "collapsed": false
   }
  },
  {
   "cell_type": "code",
   "execution_count": 3,
   "outputs": [],
   "source": [
    "def encrypt_message(message: bytes, key: bytes, nonce: bytes):\n",
    "    cipher = Cipher(algorithms.AES256(key), modes.CBC(nonce))\n",
    "    encryptor = cipher.encryptor()\n",
    "    ciphertext = encryptor.update(message) + encryptor.finalize()\n",
    "\n",
    "    return ciphertext"
   ],
   "metadata": {
    "collapsed": false
   }
  },
  {
   "cell_type": "code",
   "execution_count": 4,
   "outputs": [],
   "source": [
    "def authenticate_message(message: bytes, key: bytes, nonce: bytes) -> bytes:\n",
    "    hmac_algorithm = hmac.HMAC(key, hashes.SHA256())\n",
    "    hmac_algorithm.update(nonce + message)\n",
    "    tag = hmac_algorithm.finalize()\n",
    "\n",
    "    return tag"
   ],
   "metadata": {
    "collapsed": false
   }
  },
  {
   "cell_type": "code",
   "execution_count": 5,
   "outputs": [
    {
     "data": {
      "text/plain": "(b'\\x95Z\\xe5\\xa12JY\\x00\\\\\\x9d\\xeb3\\xae\\xda-f',\n b\"\\xe0\\xa5\\xa4N^X\\xe7\\xe2|\\x89\\x813\\xddn\\xf4v`'n5u\\xd2\\x8c\\xa0\\x86\\xf4tX\\xd8\\x07\\xd4\\xbc\",\n b'b\\x83LA\\x9c\\x8b\\xed.\\xc7pv\\xa8w\\xafb\\x99')"
     },
     "execution_count": 5,
     "metadata": {},
     "output_type": "execute_result"
    }
   ],
   "source": [
    "def authenticate_and_encrypt_message(message: bytes, cipher_key: bytes, mac_key: bytes, nonce: bytes) -> (\n",
    "        bytes, bytes, bytes):\n",
    "    \"\"\"Encrypt message with AES-256 in CBC mode and authenticate with HMAC-SHA256\"\"\"\n",
    "\n",
    "    ciphertext = encrypt_message(message, cipher_key, nonce)\n",
    "\n",
    "    tag = authenticate_message(ciphertext, mac_key, nonce)\n",
    "\n",
    "    return ciphertext, tag, nonce\n",
    "\n",
    "\n",
    "authenticate_and_encrypt_message(b'o' * 16, b'x' * 32, b'a' * 256, generate_random_nonce()[:16])"
   ],
   "metadata": {
    "collapsed": false
   }
  },
  {
   "cell_type": "code",
   "execution_count": 6,
   "metadata": {
    "vscode": {
     "languageId": "plaintext"
    }
   },
   "outputs": [],
   "source": [
    "async def emitter(stream_reader: StreamReader, stream_writer: StreamWriter):\n",
    "    # Generate ECDH (Elliptic-curve Diffie–Hellman) key pair\n",
    "    ecdh_private_key = ec.generate_private_key(ec.SECP384R1())\n",
    "    ecdh_public_key = ecdh_private_key.public_key()\n",
    "\n",
    "    # Send ECDH public key to the receiver\n",
    "    stream_writer.write(ecdh_public_key.public_bytes(Encoding.PEM, PublicFormat.SubjectPublicKeyInfo))\n",
    "\n",
    "    # Receive receiver's ECDH public key\n",
    "    receiver_public_key_bytes = await stream_reader.read()\n",
    "\n",
    "    # Load receiver's public key\n",
    "    receiver_public_key = load_pem_public_key(receiver_public_key_bytes)\n",
    "\n",
    "    # Generate shared secret from ECDH key exchange\n",
    "    shared_secret = ecdh_private_key.exchange(ec.ECDH(), receiver_public_key)\n",
    "\n",
    "    # Derive cipher and MAC keys from shared secret using HKDF\n",
    "    hkdf = HKDF(algorithm=hashes.SHA256(), length=64, salt=None, info=b'secret')\n",
    "    hkdf_output = hkdf.derive(shared_secret)\n",
    "    cipher_key, mac_key = hkdf_output[:32], hkdf_output[32:]\n",
    "\n",
    "    nonce = generate_random_nonce()\n",
    "\n",
    "    message = b'This is a secret message!'\n",
    "    ciphertext, tag, nonce = authenticate_and_encrypt_message(message, cipher_key, mac_key, nonce)\n",
    "\n",
    "    # Send encrypted message and authentication tag to the receiver\n",
    "    sent_message = nonce + ciphertext + tag\n",
    "    stream_writer.write(sent_message)\n",
    "\n",
    "    print('Emitter sent message:', sent_message)\n",
    "    print('Emitter encrypted message:', ciphertext)\n",
    "\n",
    "    # Receive response from the receiver\n",
    "    response = await stream_reader.read()\n",
    "\n",
    "    print('Emitter received response:', response)\n",
    "\n",
    "    stream_writer.close()\n"
   ]
  },
  {
   "cell_type": "code",
   "execution_count": 7,
   "outputs": [],
   "source": [
    "async def get_connection(host: str, port: int) -> (asyncio.StreamReader, asyncio.StreamWriter):\n",
    "    return await asyncio.open_connection(host, port)\n"
   ],
   "metadata": {
    "collapsed": false
   }
  },
  {
   "cell_type": "code",
   "execution_count": 8,
   "outputs": [],
   "source": [
    "LOCALHOST = '127.0.0.1'\n",
    "\n",
    "(reader, writer) = await get_connection(LOCALHOST, 8888)\n",
    "\n",
    "#await emitter(reader, writer)"
   ],
   "metadata": {
    "collapsed": false
   }
  },
  {
   "cell_type": "code",
   "execution_count": 9,
   "outputs": [],
   "source": [
    "def decrypt_message(ciphertext: bytes, key: bytes, nonce: bytes):\n",
    "    cipher = Cipher(algorithms.AES256(key), modes.CBC(nonce))\n",
    "    decryptor = cipher.decryptor()\n",
    "    message = decryptor.update(ciphertext) + decryptor.finalize()\n",
    "\n",
    "    return message"
   ],
   "metadata": {
    "collapsed": false
   }
  },
  {
   "cell_type": "code",
   "execution_count": 10,
   "outputs": [],
   "source": [
    "def verify_message(message: bytes, key: bytes, nonce: bytes, tag: bytes) -> bool:\n",
    "    hmac_algorithm = hmac.HMAC(key, hashes.SHA256())\n",
    "    hmac_algorithm.update(nonce + message)\n",
    "    hmac_algorithm.verify(tag)\n",
    "\n",
    "    return True"
   ],
   "metadata": {
    "collapsed": false
   }
  },
  {
   "cell_type": "code",
   "execution_count": 11,
   "outputs": [],
   "source": [
    "\n",
    "import os\n",
    "from cryptography.hazmat.primitives.ciphers.aead import AESGCM\n",
    "from cryptography.hazmat.primitives.kdf.hkdf import HKDF\n",
    "\n",
    "\n",
    "async def receiver(stream_reader: StreamReader, stream_writer: StreamWriter):\n",
    "    # Generate ECDH (Elliptic-curve Diffie–Hellman) key pair\n",
    "    ecdh_private_key = ec.generate_private_key(ec.SECP384R1())\n",
    "    ecdh_public_key = ecdh_private_key.public_key()\n",
    "\n",
    "    # Receive emitter's ECDH public key\n",
    "    emitter_public_key_bytes = await stream_reader.read()\n",
    "\n",
    "    # Send ECDH public key to the emitter\n",
    "    stream_writer.write(ecdh_public_key.public_bytes(Encoding.PEM, PublicFormat.SubjectPublicKeyInfo))\n",
    "\n",
    "    # Load emitter's public key\n",
    "    emitter_public_key = load_pem_public_key(emitter_public_key_bytes)\n",
    "\n",
    "    # Generate shared secret from ECDH key exchange\n",
    "    shared_secret = ecdh_private_key.exchange(ec.ECDH(), emitter_public_key)\n",
    "\n",
    "    # Derive cipher and MAC keys from shared secret using HKDF\n",
    "    hkdf = HKDF(algorithm=hashes.SHA256(), length=64, salt=None, info=b'secret')\n",
    "    hkdf_output = hkdf.derive(shared_secret)\n",
    "    cipher_key, mac_key = hkdf_output[:32], hkdf_output[32:]\n",
    "\n",
    "    # Receive nonce from the emitter\n",
    "    nonce = await stream_reader.read(16)\n",
    "\n",
    "    # Receive encrypted message and authentication tag from the emitter\n",
    "    received_message = await stream_reader.read()\n",
    "\n",
    "    print('Receiver received message:', received_message)\n",
    "\n",
    "    ciphertext = received_message[16:-32]\n",
    "    tag = received_message[-32:]\n",
    "\n",
    "    print('Receiver received nonce:', nonce)\n",
    "    print('Receiver received ciphertext:', ciphertext)\n",
    "    print('Receiver received tag:', tag)\n",
    "\n",
    "    # Decrypt message with AES-256 in CBC mode\n",
    "    plaintext = decrypt_message(ciphertext, cipher_key, nonce)\n",
    "\n",
    "    print('Receiver decrypted message:', plaintext)\n",
    "\n",
    "    # Authenticate message with HMAC-SHA256\n",
    "    verify_message(plaintext, tag, mac_key, nonce)"
   ],
   "metadata": {
    "collapsed": false
   }
  },
  {
   "cell_type": "code",
   "execution_count": 15,
   "outputs": [],
   "source": [
    "async def main():\n",
    "    server = await asyncio.start_server(receiver, LOCALHOST, 9001)\n",
    "\n",
    "    addrs = ', '.join(str(sock.getsockname()) for sock in server.sockets)\n",
    "    print(f'Serving on {addrs}')\n",
    "\n",
    "    async with server:\n",
    "        await server.serve_forever()\n",
    "        server.close()"
   ],
   "metadata": {
    "collapsed": false
   }
  },
  {
   "cell_type": "code",
   "execution_count": 16,
   "outputs": [
    {
     "name": "stdout",
     "output_type": "stream",
     "text": [
      "Serving on ('127.0.0.1', 9001)\n",
      "Receiver closed...\n"
     ]
    }
   ],
   "source": [
    "import nest_asyncio\n",
    "nest_asyncio.apply()\n",
    "\n",
    "try:\n",
    "    asyncio.run(main())\n",
    "except KeyboardInterrupt:\n",
    "    print(\"Receiver closed...\")"
   ],
   "metadata": {
    "collapsed": false
   }
  },
  {
   "cell_type": "markdown",
   "metadata": {},
   "source": [
    "## Exemplos e testes da aplicação\n",
    "\n",
    "..."
   ]
  },
  {
   "cell_type": "code",
   "execution_count": 4,
   "metadata": {},
   "outputs": [
    {
     "name": "stdout",
     "output_type": "stream",
     "text": [
      "Message: b'Message'\n",
      "Tag: b\"\\xd8\\t\\xe6\\xab\\x8e\\x94=\\x0f\\xb6\\xfb\\x8c5\\xae]\\xfc{\\xbf\\x8e\\x11%\\x13\\xa7\\x8f'\\x0f\\xef\\xa1\\x94~W\\x17\\x15\"\n",
      "Valid signature\n",
      "Invalid signature\n"
     ]
    }
   ],
   "source": [
    "hmac_key = \"0023\".encode()\n",
    "\n",
    "m, t = get_hmac(\"Message\".encode(), hmac_key)\n",
    "\n",
    "print(\"Message:\", m)\n",
    "print(\"Tag:\", t)\n",
    "\n",
    "print(\"Valid signature\" if verify_hmac(m, t, hmac_key) else \"Invalid signature\")\n",
    "print(\"Valid signature\" if verify_hmac(m, t, hmac_key + b\"2\") else \"Invalid signature\")"
   ]
  },
  {
   "cell_type": "code",
   "execution_count": null,
   "metadata": {},
   "outputs": [],
   "source": []
  }
 ],
 "metadata": {
  "kernelspec": {
   "name": "python3",
   "language": "python",
   "display_name": "Python 3 (ipykernel)"
  },
  "language_info": {
   "codemirror_mode": {
    "name": "ipython",
    "version": 3
   },
   "file_extension": ".py",
   "mimetype": "text/x-python",
   "name": "python",
   "nbconvert_exporter": "python",
   "pygments_lexer": "ipython3",
   "version": "3.10.9"
  }
 },
 "nbformat": 4,
 "nbformat_minor": 2
}
