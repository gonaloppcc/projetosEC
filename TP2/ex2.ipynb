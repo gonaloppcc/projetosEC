{
 "cells": [
  {
   "cell_type": "markdown",
   "source": [
    "# Exercício 2\n",
    "\n",
    "## Enunciado do problema\n",
    "\n",
    "Construir uma classe Python que implemente o  EdCDSA a partir do “standard” FIPS186-5\n",
    "   1. A implementação deve conter funções para assinar digitalmente e verificar a assinatura.\n",
    "   2. A implementação da classe deve usar  uma das “Twisted Edwards Curves” definidas no standard e escolhida  na iniciação da classe: a curva  “edwards25519” ou “edwards448”.\n",
    "   3. Por aplicação da transformação de Fiat-Shamir construa um protocolo de autenticação de desafio-resposta.\n"
   ],
   "metadata": {
    "collapsed": false
   }
  },
  {
   "cell_type": "markdown",
   "source": [
    "## Descrição do problema\n",
    "\n",
    "..."
   ],
   "metadata": {
    "collapsed": false
   }
  },
  {
   "cell_type": "markdown",
   "source": [
    "## Abordagem\n",
    "\n",
    "..."
   ],
   "metadata": {
    "collapsed": false
   }
  },
  {
   "cell_type": "markdown",
   "source": [
    "# Código\n",
    "\n",
    "..."
   ],
   "metadata": {
    "collapsed": false
   }
  },
  {
   "cell_type": "markdown",
   "source": [
    "# Testes e exemplos\n",
    "\n",
    "..."
   ],
   "metadata": {
    "collapsed": false
   }
  }
 ],
 "metadata": {
  "kernelspec": {
   "display_name": "Python 3",
   "language": "python",
   "name": "python3"
  },
  "language_info": {
   "codemirror_mode": {
    "name": "ipython",
    "version": 2
   },
   "file_extension": ".py",
   "mimetype": "text/x-python",
   "name": "python",
   "nbconvert_exporter": "python",
   "pygments_lexer": "ipython2",
   "version": "2.7.6"
  }
 },
 "nbformat": 4,
 "nbformat_minor": 0
}
