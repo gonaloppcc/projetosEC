{
 "cells": [
  {
   "cell_type": "markdown",
   "metadata": {},
   "source": [
    "# Exercício 2\n",
    "\n",
    "## Enunciado do problema\n",
    "\n",
    "Construir uma classe Python que implemente o  EdCDSA a partir do “standard” FIPS186-5\n",
    "   1. A implementação deve conter funções para assinar digitalmente e verificar a assinatura.\n",
    "   2. A implementação da classe deve usar  uma das “Twisted Edwards Curves” definidas no standard e escolhida  na iniciação da classe: a curva  “edwards25519” ou “edwards448”.\n",
    "   3. Por aplicação da transformação de Fiat-Shamir construa um protocolo de autenticação de desafio-resposta.\n"
   ]
  },
  {
   "cell_type": "markdown",
   "metadata": {},
   "source": [
    "## Descrição do problema\n",
    "\n",
    "O nosso objetivo é construir uma classe em python que implemente o EdCDSA (Elliptic Curve Digital Signature Algorithm), um algoritmo de assinatura digital baseado em curvas elípticas. Para tal, vamos usar uma das curvas elípticas definidas no standard FIPS186-5, a curva “edwards25519” ou “edwards448”.\n",
    "Por fim, vamos aplicar a transformação de Fiat-Shamir para construir um protocolo de autenticação de desafio-resposta.\n",
    "\n",
    "..."
   ]
  },
  {
   "cell_type": "markdown",
   "metadata": {},
   "source": [
    "## Abordagem\n",
    "\n",
    "Foi escolhida a curva “edwards25519” para a implementação do EdCDSA. Para a implementação de um DSA (Digital Signature Algorithm) é preciso ter em atenção as seguintes operações:\n",
    "\n",
    "- Geração de chaves\n",
    "- Distribuição de chaves\n",
    "- Assinatura digital\n",
    "- Verificação da assinatura\n",
    "\n",
    "De notar que uma curva elíptica só é considerada uma curva de Edwards se satisfizer a seguinte equação:\n",
    "`a * x^2 + y^2 = 1 + d * x^2 * y^2`\n",
    "\n",
    "Para a codificação das operações, foram utilizados como referência os seguintes standards:\n",
    "- [FIPS186-5](https://nvlpubs.nist.gov/nistpubs/FIPS/NIST.FIPS.186-5-draft.pdf)\n",
    "- [RFC8032](https://tools.ietf.org/html/rfc8032)\n",
    "\n",
    "Para a implementação do protocolo de autenticação de desafio-resposta, foi utilizado como referência os seguintes links:\n",
    "- [Fiat-Shamir](https://en.wikipedia.org/wiki/Fiat%E2%80%93Shamir_heuristic)\n",
    "- [Challenge-Response-Authentication](https://en.wikipedia.org/wiki/Challenge%E2%80%93response_authentication)\n",
    "- [Zero Knowledge Proof](https://medium.com/asecuritysite-when-bob-met-alice/feige-fiat-shamir-and-zero-knowledge-proof-cdd2a972237c)\n",
    "\n",
    "De notar, que a implementação realizada foi verificada com a ajuda do package [pure25519](https://pypi.org/project/pure25519/)."
   ]
  },
  {
   "cell_type": "markdown",
   "metadata": {},
   "source": [
    "# Código\n",
    "\n",
    "Foi desenvolvido o seguinte código em python, que implementa o EdCDSA e o protocolo de autenticação de desafio-resposta."
   ]
  },
  {
   "cell_type": "markdown",
   "metadata": {},
   "source": [
    "Classe que implementa uma curva elíptica de Edwards"
   ]
  },
  {
   "cell_type": "code",
   "execution_count": 10,
   "metadata": {},
   "outputs": [],
   "source": [
    "from __future__ import annotations\n",
    "\n",
    "from sage.all import ZZ\n",
    "from sage.arith.misc import is_prime\n",
    "# noinspection PyUnresolvedReferences\n",
    "from sage.rings.finite_rings.integer_mod import Mod\n",
    "from sage.schemes.elliptic_curves.constructor import EllipticCurve\n",
    "from sage.schemes.elliptic_curves.sha_tate import factor\n",
    "\n",
    "\n",
    "# noinspection PyPep8Naming\n",
    "class Ed(object):\n",
    "    def __init__(self, p, a, d, ed=None):\n",
    "        assert a != d and is_prime(p) and p > 3\n",
    "        K = GF(p)\n",
    "\n",
    "        A = 2 * (a + d) / (a - d)\n",
    "        B = 4 / (a - d)\n",
    "\n",
    "        alfa = A / (3 * B)\n",
    "        s = B\n",
    "\n",
    "        a4 = s ^ (-2) - 3 * alfa ^ 2\n",
    "        a6 = -alfa ^ 3 - a4 * alfa\n",
    "\n",
    "        self.K = K\n",
    "        self.constants = {'a': a, 'd': d, 'A': A, 'B': B, 'alfa': alfa, 's': s, 'a4': a4, 'a6': a6}\n",
    "        self.EC = EllipticCurve(K, [a4, a6])\n",
    "\n",
    "        if ed is not None:\n",
    "            self.L = ed['L']\n",
    "            self.P = self.ed2ec(ed['Px'], ed['Py'])  # gerador do gru\n",
    "        else:\n",
    "            self.gen()\n",
    "\n",
    "    def order(self):\n",
    "        # A ordem prima \"n\" do maior subgrupo da curva, e o respetivo cofator \"h\"\n",
    "        oo = self.EC.order()\n",
    "        n, _ = list(factor(oo))[-1]\n",
    "        return n, oo // n\n",
    "\n",
    "    def gen(self):\n",
    "        L, h = self.order()\n",
    "        P = O = self.EC(0)\n",
    "        while L * P == O:\n",
    "            P = self.EC.random_element()\n",
    "        self.P = h * P\n",
    "        self.L = L\n",
    "\n",
    "    def is_edwards(self, x, y):\n",
    "        a = self.constants['a']\n",
    "        d = self.constants['d']\n",
    "        x2 = x ^ 2\n",
    "        y2 = y ^ 2\n",
    "        return a * x2 + y2 == 1 + d * x2 * y2\n",
    "\n",
    "    def ed2ec(self, x, y):  ## mapeia Ed --> EC\n",
    "        if (x, y) == (0, 1):\n",
    "            return self.EC(0)\n",
    "        z = (1 + y) / (1 - y)\n",
    "        w = z / x\n",
    "        alfa = self.constants['alfa']\n",
    "        s = self.constants['s']\n",
    "        return self.EC(z / s + alfa, w / s)\n",
    "\n",
    "    def ec2ed(self, P):  ## mapeia EC --> Ed\n",
    "        if P == self.EC(0):\n",
    "            return 0, 1\n",
    "        x, y = P.xy()\n",
    "        alfa = self.constants['alfa']\n",
    "        s = self.constants['s']\n",
    "        u = s * (x - alfa)\n",
    "        v = s * y\n",
    "        return u / v, (u - 1) / (u + 1)"
   ]
  },
  {
   "cell_type": "markdown",
   "metadata": {},
   "source": [
    "Classe que implementa operações sobre uma curva elíptica de Edwards"
   ]
  },
  {
   "cell_type": "code",
   "execution_count": 79,
   "outputs": [],
   "source": [
    "\n",
    "\n",
    "# noinspection PyPep8Naming\n",
    "class EdPoint(object):\n",
    "    def __init__(self, pt=None, curve=None, x=None, y=None):\n",
    "        if pt is not None:\n",
    "            self.curve = pt.curve\n",
    "            self.x = pt.x\n",
    "            self.y = pt.y\n",
    "            self.w = pt.w\n",
    "        else:\n",
    "            assert isinstance(curve, Ed) and curve.is_edwards(x, y)\n",
    "            self.curve = curve\n",
    "            self.x = x\n",
    "            self.y = y\n",
    "            self.w = x * y\n",
    "\n",
    "    def eq(self, other):\n",
    "        return self.x == other.x and self.y == other.y\n",
    "\n",
    "    def copy(self):\n",
    "        return EdPoint(curve=self.curve, x=self.x, y=self.y)\n",
    "\n",
    "    def zero(self):\n",
    "        return EdPoint(curve=self.curve, x=0, y=1)\n",
    "\n",
    "    def sim(self):\n",
    "        return EdPoint(curve=self.curve, x=-self.x, y=self.y)\n",
    "\n",
    "    def soma(self, other):\n",
    "        a = self.curve.constants['a']\n",
    "        d = self.curve.constants['d']\n",
    "        delta = d * self.w * other.w\n",
    "        self.x, self.y = (self.x * other.y + self.y * other.x) / (1 + delta), (\n",
    "                self.y * other.y - a * self.x * other.x) / (1 - delta)\n",
    "        self.w = self.x * self.y\n",
    "\n",
    "    def duplica(self):\n",
    "        a = self.curve.constants['a']\n",
    "        d = self.curve.constants['d']\n",
    "        delta = d * self.w ^ 2\n",
    "        self.x, self.y = (2 * self.w) / (1 + delta), (self.y ^ 2 - a * self.x ^ 2) / (1 - delta)\n",
    "        self.w = self.x * self.y\n",
    "\n",
    "    def mult(self, n):\n",
    "        m = Mod(n, self.curve.L).lift().digits(2)  ## obter a representação binária do argumento \"n\"\n",
    "        Q = self.copy()\n",
    "        A = self.zero()\n",
    "        for b in m:\n",
    "            if b == 1:\n",
    "                A.soma(Q)\n",
    "            Q.duplica()\n",
    "        return A\n",
    "\n",
    "    def encode(self) -> bytes:\n",
    "        \"\"\"\n",
    "        Encode a point in Ed25519 format.\n",
    "        The input point should be a tuple (x, y) with integers in the range 0 ≤ x, y < p.\n",
    "        \"\"\"\n",
    "        return self.encode_right(self.x, self.y)\n",
    "\n",
    "        x_int = int(self.x)\n",
    "        y_int = int(self.y)\n",
    "\n",
    "        # Copying the least significant bit of the x-coordinate to the most significant bit of the final octet.\n",
    "        return (int(y_int | ((x_int & 1) << 255))).to_bytes(32, \"little\")\n",
    "\n",
    "    @staticmethod\n",
    "    def encode_right(x, y):\n",
    "        from pure25519 import basic\n",
    "\n",
    "        return basic.encodepoint((x, y))\n",
    "\n",
    "    @staticmethod\n",
    "    def decode(s: bytes) -> EdPoint:\n",
    "        \"\"\"\n",
    "        Decode a point in Ed25519 format.\n",
    "        The output point is a tuple (x, y) with integers in the range 0 ≤ x, y < p.\n",
    "        \"\"\"\n",
    "        return EdPoint.decode_right(s)\n",
    "\n",
    "        assert len(s) == 32\n",
    "        # 1. Interpret the octet string as an integer in little-endian representation. The most significant bit of this integer is the least significant bit of the x-coordinate, denoted as x0. The y-coordinate is recovered simply by clearing this bit. If the resulting value is ≥ p, decoding fails.\n",
    "        y = int.from_bytes(s, \"little\") & 0xFFFFFFFFFFFFFFFFFFFFFFFFFFFFFFFFFFFFFFFFFFFFFFFFFFFFFFFFFFFF7F\n",
    "        x0 = int.from_bytes(s, \"little\") >> 255\n",
    "        if not (y < EdCDSA25519.q):\n",
    "            raise ValueError(\"Decoding failed\")\n",
    "\n",
    "        # 2. To recover the x-coordinate, the curve equation requires x2 = (y^2 - 1) / (d*y^2 - a) (mod p). The denominator is always non-zero mod p. Compute a square root to obtain x. Square roots can be computed using the Tonelli-Shanks algorithm.\n",
    "        # Simplified cases to compute the square root:\n",
    "        # Let u = y^2 - 1 and v = d y^2 + 1.\n",
    "        d = EdCDSA25519.d\n",
    "        p = EdCDSA25519.q\n",
    "        u = y ^ 2 - 1\n",
    "        v = d * y ^ 2 + 1\n",
    "\n",
    "        # b) To find a square root of (u/v) if p ≡ 5 (mod 8) (as in Ed25519), first compute the candidate root w = (u/v)^(p+3)/8 = u v^3 (u v^7)^(p-5)/8 (mod p).\n",
    "        w1 = (u / v) ^ ((p + 3) / 8)\n",
    "        print(\"w1: \", w1)\n",
    "        w = ((u * v ^ 3) * ((u * (v ^ 7)) ^ (p - 5) / 8)) % p\n",
    "        print(\"w: \", w)\n",
    "\n",
    "        # To find the root, check three cases:\n",
    "        # If v w^2 = u (mod p), the square root is x = w.\n",
    "        print(\"v * w ^ 2 == u % p <=> \", v * w ^ 2, \" == \", u % p, \" <=> \", v * w ^ 2 == u % p)\n",
    "        print(\"v * w ^ 2 == -u % p <=> \", v * w ^ 2, \" == \", (-u) % p, \" <=> \", v * w ^ 2 == -u % p)\n",
    "        if v * w ^ 2 == u % p:\n",
    "            x = w\n",
    "        # If v w^2 = -u (mod p), the square root is x = w * 2^((p-1)/4).\n",
    "        elif v * w ^ 2 == -u % p:\n",
    "            x = w * 2 ^ ((p - 1) / 4)\n",
    "        # Otherwise, no square root exists for modulo p, and decoding fails.\n",
    "        else:\n",
    "            raise ValueError(\"No square root exists for modulo p, and decoding fails.\")\n",
    "\n",
    "        # For both cases, if x = 0 and x0 = 1, point decoding fails.\n",
    "        if x == 0 and x0 == 1:\n",
    "            raise ValueError(\"Point decoding failed\")\n",
    "\n",
    "        # If x (mod 2) = x0, then the x-coordinate is x.\n",
    "        if x % 2 == x0:\n",
    "            x = x  # Just to make it explicit\n",
    "        # Otherwise, the x-coordinate is p - x.\n",
    "        else:\n",
    "            x = p - x\n",
    "\n",
    "        # 3. Return the decoded point (x,y).\n",
    "        return EdPoint(curve=EdCDSA25519.E, x=x, y=y)\n",
    "\n",
    "    @staticmethod\n",
    "    def decode_right(s: bytes) -> EdPoint:\n",
    "        from pure25519 import basic\n",
    "\n",
    "        P = basic.decodepoint(s)\n",
    "        return EdPoint(curve=EdCDSA25519.E, x=P[0], y=P[1])\n",
    "\n",
    "\n",
    "# Simple test case\n",
    "pub_key_bytes = b'\\x00\\x9c\\x12\\xb1\\xab\\xf03b\\x1c\\x94&8\\xd7\\xb0\\xbd<\\xe6e\\xeel#\\xa1\\x00R\\xf8! \\xee\\xcae\\xf1\\x84'\n",
    "pub_key = EdPoint.decode_right(pub_key_bytes)\n",
    "\n",
    "assert pub_key.encode_right(pub_key.x, pub_key.y) == pub_key_bytes"
   ],
   "metadata": {
    "collapsed": false
   }
  },
  {
   "cell_type": "markdown",
   "metadata": {},
   "source": [
    "Classe que implementa a curva de Edwards 25519"
   ]
  },
  {
   "cell_type": "code",
   "execution_count": 162,
   "metadata": {},
   "outputs": [],
   "source": [
    "import os\n",
    "from hashlib import sha512\n",
    "from sage.rings.finite_rings.all import GF\n",
    "from pure25519.basic import bytes_to_clamped_scalar, Base, bytes_to_element\n",
    "\n",
    "\n",
    "# noinspection PyPep8Naming\n",
    "class EdCDSA25519:\n",
    "    q = 2 ** 255 - 19\n",
    "    K = GF(q)\n",
    "    a = K(-1)\n",
    "    d = -K(121665) / K(121666)\n",
    "\n",
    "    ed25519 = {\n",
    "        'b': 256,  ## tamanho da chave em bits\n",
    "        'Px': K(15112221349535400772501151409588531511454012693041857206046113283949847762202),\n",
    "        # coordenada x do gerador\n",
    "        'Py': K(46316835694926478169428394003475163141307993866256225615783033603165251855960),\n",
    "        # coordenada y do gerador\n",
    "        'L': ZZ(2 ^ 252 + 27742317777372353535851937790883648493),  ## ordem do subgrupo primo\n",
    "        'n': 254,\n",
    "        'h': 8,  # cofator do subgrupo\n",
    "        'c': 3  # logaritmo base 2 do cofator [RFC7748]\n",
    "    }\n",
    "\n",
    "    E = Ed(q, a, d, ed25519)  # Curva de Edwards\n",
    "\n",
    "    @staticmethod\n",
    "    def to_int(x: bytes) -> int:\n",
    "        return int.from_bytes(x, \"little\")\n",
    "\n",
    "    def generate_keys(self) -> (bytes, bytes):\n",
    "        #  1. Obtain a string of b bits from an approved RBG with a security strength of requested_security_strength or more. The private key d is this string of b bits.\n",
    "        d = os.urandom(self.ed25519['b'] // 8)  # Posso passar isto numa XOF para garantir a aleatoriedade.\n",
    "\n",
    "        # 2. Compute the hash of the private key d, H(d) = (h0, h1, ..., h2b-1) using SHA-512 for Ed25519. H(d) may be pre-computed. Note H(d) is also used in the EdDSA signature generation;\n",
    "        private_key_hashed = self.get_hash(d)\n",
    "\n",
    "        # 3. The first half of H(d), (i.e. hdigest1 = (ℎ0,ℎ1,…,ℎ𝑏𝑏−1)) is used to generate the public key. Modify hdigest1 as follows:\n",
    "        # 3.1 For Ed25519, the first three bits of the first octet are set to zero; the last bit of the last octet is set to zero; and the second to last bit of the last octet is set to one. That is, ℎ0=ℎ1=ℎ2=0, ℎ𝑏𝑏−2=1, and ℎ𝑏𝑏−1=0.\n",
    "        hdigest1 = private_key_hashed[:32]\n",
    "\n",
    "        AND_CLAMP = (1 << 254) - 1 - 7\n",
    "        OR_CLAMP = (1 << 254)\n",
    "        hdigest1 = (self.to_int(hdigest1) & AND_CLAMP) | OR_CLAMP\n",
    "\n",
    "        assert bytes_to_clamped_scalar(private_key_hashed[:32]) == hdigest1\n",
    "\n",
    "        # 4. Determine an integer s from hdigest1 using little-endian convention (see Section 7.2).\n",
    "        #s = int.from_bytes(hdigest1, \"little\")\n",
    "        s = hdigest1\n",
    "\n",
    "        # 5. Compute the point [s]G. The corresponding EdDSA public key Q is the encoding (See Section 7.2) of the point [s]G.\n",
    "        P = EdPoint(curve=self.E, x=self.ed25519['Px'], y=self.ed25519['Py'])\n",
    "        Q = Base.scalarmult(s)  #P.mult(s)\n",
    "\n",
    "        #assert Base.scalarmult(s).XYTZ[0] == Q.x\n",
    "        #assert Base.scalarmult(s).XYTZ[1] == Q.y\n",
    "\n",
    "        # Encoding the public key\n",
    "        Q_encoded = Q.to_bytes()\n",
    "\n",
    "        return d, Q_encoded\n",
    "\n",
    "    def sign(self, message: bytes, private_key: bytes, public_key: bytes) -> bytes:\n",
    "        # 1. Compute the hash of the private key d, H(d) = (h0, h1, ..., h2b-1) using SHA-512 for Ed25519. H(d) may be pre-computed.\n",
    "        priv_key_hashed = self.get_hash(private_key)\n",
    "\n",
    "        # 2. Using the second half of the digest hdigest2 = hb || ... || h2b-1, define:\n",
    "        # 2.1 For Ed25519, r = SHA-512(hdigest2 || M); r will be 64-octets.\n",
    "        hdigest2 = priv_key_hashed[32:]\n",
    "        r = self.get_hash(hdigest2 + message)\n",
    "        assert len(r) == 64  # r tem de ter 64 octetos\n",
    "\n",
    "        r_int = int.from_bytes(r, \"little\")\n",
    "\n",
    "        # 3. Compute the point [r]G. The octet string R is the encoding of the point [r]G.\n",
    "        G = EdPoint(curve=self.E, x=self.ed25519['Px'], y=self.ed25519['Py'])  # Generator\n",
    "        R = Base.scalarmult(r_int)  #G.mult(r_int)\n",
    "\n",
    "        # 4. Derive s from H(d) as in the key pair generation algorithm. Use octet strings R, Q, and M to define:\n",
    "        # 4.1 For Ed25519, S = (r + SHA-512(R || Q || M) * s) mod n. -> S = (r + SHA-512(R || public_key || M) * s) mod n.\n",
    "        # The octet string S is the encoding of the resultant integer.\n",
    "        R_bytes = R.to_bytes()\n",
    "        Q = public_key\n",
    "        M = message\n",
    "\n",
    "        h = self.get_hash(R_bytes + Q + M)\n",
    "\n",
    "        h_int = int.from_bytes(h, \"little\")\n",
    "        s = priv_key_hashed[:32]  # s = hdigest1\n",
    "        #s_int = int.from_bytes(s, \"little\")\n",
    "        s_int = bytes_to_clamped_scalar(s)\n",
    "\n",
    "        S = (r_int + h_int * s_int) % self.ed25519['L']\n",
    "\n",
    "        S_bytes = int(S).to_bytes(32, \"little\")\n",
    "\n",
    "        # 5. Form the signature as the concatenation of the octet strings R and S.\n",
    "        signature = R_bytes + S_bytes\n",
    "\n",
    "        return signature\n",
    "\n",
    "    def verify(self, message: bytes, signature: bytes, public_key: bytes) -> bool:\n",
    "        # 1. Decode the first half of the signature as a point R and the second half of the signature as an integer s. Verify that the integer s is in the range of 0 ≤ s < n. Decode the public key Q into a point Q’. If any of the decodings fail, output “reject”.\n",
    "        R = signature[:32]\n",
    "        S = signature[32:]\n",
    "        s = int.from_bytes(signature[32:], \"little\")\n",
    "        assert 0 <= s < self.ed25519['L']\n",
    "\n",
    "        # 2. Form the bit string HashData as the concatenation of the octet strings R, Q, and M (i.e., HashData = R || Q || M).\n",
    "        Q = public_key\n",
    "        M = message\n",
    "        HashData = R + Q + M\n",
    "\n",
    "        # 3. Using the established hash function or XOF,\n",
    "        # 3.1 For Ed25519, compute digest = SHA-512(HashData).\n",
    "        # Interpret digest as a little-endian integer t.\n",
    "        digest = self.get_hash(HashData)\n",
    "        t = int.from_bytes(digest, \"little\")\n",
    "\n",
    "        # 4. Check that the verification equation [2^c * S]G = [2^c]R + (2^c * t)Q. Output “reject” if verification fails; output “accept” otherwise.\n",
    "        G = EdPoint(curve=self.E, x=self.ed25519['Px'], y=self.ed25519['Py'])  # Generator\n",
    "        #R = EdPoint.decode(R)\n",
    "        #Q = EdPoint.decode(Q)\n",
    "        h = self.ed25519['h']  # 2^c = h = 8 (Ed25519)\n",
    "\n",
    "        left = Base.scalarmult(h * s)\n",
    "\n",
    "        right = ((bytes_to_element(R)).scalarmult(h)).add((bytes_to_element(Q)).scalarmult(h * t))\n",
    "\n",
    "        verification = left == right\n",
    "\n",
    "        return verification\n",
    "\n",
    "    @staticmethod\n",
    "    def get_hash(message):\n",
    "        h = sha512(message).digest()\n",
    "        return h"
   ]
  },
  {
   "cell_type": "markdown",
   "metadata": {},
   "source": [
    "# Testes e exemplos\n",
    "\n",
    "De seguida são apresentados alguns exemplos de utilização da classe EdCDSA25519:\n",
    "- Exemplo 1: Geração de chaves e verificação das mesmas\n",
    "- Exemplo 2: Geração de chaves e demonstração das propriedades destas\n",
    "- Exemplo 3: Geração de assinatura e teste da mesma\n",
    "- Exemplo 4: Geração de assinatura e verificação da mesma\n",
    "- Exemplo 5: Demonstração do protocolo de autenticação com base na transformada de Fiat-Shamir"
   ]
  },
  {
   "cell_type": "markdown",
   "source": [
    "## Exemplo 1 - Geração de chaves e verificação das mesmas"
   ],
   "metadata": {
    "collapsed": false
   }
  },
  {
   "cell_type": "code",
   "execution_count": 163,
   "outputs": [
    {
     "name": "stdout",
     "output_type": "stream",
     "text": [
      "Is an edwards curve? True\n"
     ]
    }
   ],
   "source": [
    "E = EdCDSA25519()\n",
    "\n",
    "print(\"Is an edwards curve?\", E.E.is_edwards(E.ed25519['Px'], E.ed25519['Py']))\n",
    "\n",
    "priv_key, pub_key = E.generate_keys()\n",
    "\n",
    "from pure25519.eddsa import publickey\n",
    "\n",
    "real_pub_key = publickey(priv_key)\n",
    "\n",
    "assert real_pub_key == pub_key\n",
    "\n",
    "pub_key_example = bytes.fromhex(\"1972E03EDC718B87CC6E141B1C745E115CE8895C96CBF1037DA8EA2E4C8CCE92\")\n",
    "\n",
    "#pub_key = EdPoint.decode(pub_key_example)\n",
    "#assert EdPoint.decode(pub_key_example) == pub_key"
   ],
   "metadata": {
    "collapsed": false
   }
  },
  {
   "cell_type": "markdown",
   "metadata": {},
   "source": [
    "## Exemplo 2 - Geração de chaves e demonstração das propriedades destas"
   ]
  },
  {
   "cell_type": "code",
   "execution_count": 164,
   "metadata": {},
   "outputs": [
    {
     "name": "stdout",
     "output_type": "stream",
     "text": [
      "Private Key: 93823c7d5225d579833fb8bd8ecba81fbf18ae987d0b3ffaf74c4f6df1e2a729\n",
      "Public Key: 8d3609e9b7165df49133cd2989162819d1b2f23a7b8f6c5e0cafb26d43d8f67c\n"
     ]
    }
   ],
   "source": [
    "E = EdCDSA25519()\n",
    "\n",
    "priv_key, pub_key = E.generate_keys()\n",
    "\n",
    "print(\"Private Key:\", priv_key.hex())\n",
    "print(f\"Public Key: {pub_key.hex()}\")\n",
    "\n",
    "assert EdPoint.encode(EdPoint.decode(pub_key)) == pub_key"
   ]
  },
  {
   "cell_type": "markdown",
   "source": [
    "## Exemplo 3 - Geração de assinatura e teste da mesma"
   ],
   "metadata": {
    "collapsed": false
   }
  },
  {
   "cell_type": "code",
   "execution_count": 165,
   "outputs": [
    {
     "name": "stdout",
     "output_type": "stream",
     "text": [
      "Message:        b'\\xb4\\x04(\\xd0\\x00\\xfa\\xc9\\xafj\\x9c\\xe9\\x17\\xb4@\\xab\\xac'\n",
      "Signature:      b'\\xc8\\x01\\xdf9\\xaaT\\xe4\\x98\\xf9\\xbfq\\t.\\xa0\\xe9\\xe71\\x00m\\xc3i\\x1a&\\xdc\\xc2\\xaf\\xcb\\xac\\x7f\\x1d\\x08y!\\xf1\\xd8\\xbe\\x85\\xe0\\x99au\\x0cm\\xcco\\xa3&\\x92p\\xfa\\xaf\\xa0\\x7f\\x9f\\xe0\\xa9\\xc9\\x98\\x9eI\\xd4/\\x8d\\x05'\n"
     ]
    }
   ],
   "source": [
    "m1 = bytes(\"Hello World\", \"utf-8\")\n",
    "m2 = os.urandom(16)\n",
    "\n",
    "m2_signature = E.sign(m2, priv_key, pub_key)\n",
    "\n",
    "print(\"Message:       \", m2)\n",
    "print(\"Signature:     \", m2_signature)\n",
    "\n",
    "import pure25519.eddsa as eddsa\n",
    "\n",
    "real_signature = eddsa.signature(m2, priv_key, pub_key)\n",
    "\n",
    "assert real_signature == m2_signature"
   ],
   "metadata": {
    "collapsed": false
   }
  },
  {
   "cell_type": "markdown",
   "source": [
    "## Exemplo 4 - Geração de assinatura e verificação da mesma"
   ],
   "metadata": {
    "collapsed": false
   }
  },
  {
   "cell_type": "code",
   "execution_count": 166,
   "outputs": [
    {
     "name": "stdout",
     "output_type": "stream",
     "text": [
      "Is the signature valid? Yes!\n"
     ]
    }
   ],
   "source": [
    "print(\"Is the signature valid?\", \"Yes!\" if E.verify(m2, m2_signature, pub_key) else \"No!!!\")"
   ],
   "metadata": {
    "collapsed": false
   }
  },
  {
   "cell_type": "markdown",
   "source": [
    "## Exemplo 5 - Demonstração do protocolo de autenticação com base na transformada de Fiat-Shamir"
   ],
   "metadata": {
    "collapsed": false
   }
  },
  {
   "cell_type": "code",
   "execution_count": 172,
   "outputs": [
    {
     "name": "stdout",
     "output_type": "stream",
     "text": [
      "Does Alice know the private key associated with her public key?  No!!!\n"
     ]
    }
   ],
   "source": [
    "from pure25519 import basic\n",
    "\n",
    "alice_priv_key, alice_pub_key = E.generate_keys()\n",
    "bob_priv_key, bob_pub_key = E.generate_keys()\n",
    "\n",
    "# Alice wants to prove to Bob that she knows the private key associated with her public key\n",
    "r = os.urandom(32)\n",
    "# Alice generates a random nonce r, computes t = r*G\n",
    "r_int = int.from_bytes(r, \"little\")\n",
    "t = Base.scalarmult(r_int)\n",
    "t_bytes = t.to_bytes()\n",
    "# Alice computes the challenge c = H(Base || public_key || t)\n",
    "base_bytes = basic.encodepoint((Base.XYTZ[0], Base.XYTZ[1]))\n",
    "c = E.get_hash(base_bytes + alice_pub_key + t_bytes)\n",
    "\n",
    "# Alice computes the response s = (r - c*private_key) % L\n",
    "c_int = int.from_bytes(c, \"little\")\n",
    "priv_key_int = int.from_bytes(alice_priv_key, \"little\")\n",
    "L = EdCDSA25519.ed25519['L']\n",
    "s = (r_int - c_int * priv_key_int) % L\n",
    "\n",
    "# Alice sends the point t and the integer s to Bob\n",
    "# Bob verifies the signature by computing c1 = H(Base || public_key || t) and verifying that t = s*G + c1*public_key\n",
    "c1 = E.get_hash(base_bytes + alice_pub_key + t_bytes)\n",
    "c1_int = int.from_bytes(c1, \"little\")\n",
    "left = t_bytes\n",
    "right = (Base.scalarmult(s)).add(bytes_to_element(alice_pub_key).scalarmult(c1_int)).to_bytes()\n",
    "print(\"Does Alice know the private key associated with her public key? \", \"Yes!\" if left == right else \"No!!!\")\n",
    "\n",
    "# FIXME: The following code is not working"
   ],
   "metadata": {
    "collapsed": false
   }
  },
  {
   "cell_type": "code",
   "execution_count": null,
   "outputs": [],
   "source": [],
   "metadata": {
    "collapsed": false
   }
  }
 ],
 "metadata": {
  "kernelspec": {
   "display_name": "SageMath 9.3",
   "language": "sage",
   "name": "sagemath"
  },
  "language_info": {
   "codemirror_mode": {
    "name": "ipython",
    "version": 3
   },
   "file_extension": ".py",
   "mimetype": "text/x-python",
   "name": "python",
   "nbconvert_exporter": "python",
   "pygments_lexer": "ipython3",
   "version": "3.7.10"
  }
 },
 "nbformat": 4,
 "nbformat_minor": 1
}
