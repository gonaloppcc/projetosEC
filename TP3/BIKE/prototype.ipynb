{
 "cells": [
  {
   "cell_type": "markdown",
   "source": [
    "# BIKE - Bit Flipping Key Encapsulation"
   ],
   "metadata": {
    "collapsed": false
   }
  },
  {
   "cell_type": "markdown",
   "source": [
    "- Criação de um protótipo em Sagemath para o algoritmo **BIKE**.\n",
    "- Pretende-se implementar um **KEM**, que seja **IND-CPA** seguro, e um **PKE** que seja **IND-CCA** seguro."
   ],
   "metadata": {
    "collapsed": false
   }
  },
  {
   "cell_type": "markdown",
   "source": [
    "## Protótipo"
   ],
   "metadata": {
    "collapsed": false
   }
  },
  {
   "cell_type": "code",
   "execution_count": 1,
   "outputs": [],
   "source": [
    "from sage.all import *"
   ],
   "metadata": {
    "collapsed": false
   }
  },
  {
   "cell_type": "markdown",
   "source": [
    "### Parâmetros"
   ],
   "metadata": {
    "collapsed": false
   }
  },
  {
   "cell_type": "markdown",
   "source": [
    "Parâmetros para o nível de segurança 1"
   ],
   "metadata": {
    "collapsed": false
   }
  },
  {
   "cell_type": "code",
   "execution_count": 2,
   "outputs": [],
   "source": [
    "r = 257  # 12323  # Comprimento do bloco (block length)\n",
    "n = r * 2  # Comprimento do código (code length)\n",
    "w = 142  # Peso da linha (row weight)\n",
    "t = 16 #134  # Peso do erro (error weight)\n",
    "l = 256  # Comprimento do segredo partilhado (shared secret size) | NOTA: Este parametro é fixo para todos os níveis de segurança\n",
    "\n",
    "# BGF decoder parameters - nível de segurança 1\n",
    "NbIter = 5  # Número de iterações do decoder\n",
    "tau = 3  # Threshold Gap | TODO: Confirmar se este comentário está correto\n",
    "threshold = lambda S, _i: max(floor(0.0069722 * S + 13.530), 36)  # Threshold function"
   ],
   "metadata": {
    "collapsed": false
   }
  },
  {
   "cell_type": "code",
   "execution_count": 3,
   "outputs": [
    {
     "name": "stdout",
     "output_type": "stream",
     "text": [
      "Message space M:    Vector space of dimension 256 over Finite Field of size 2\n",
      "Shared key space K: Vector space of dimension 256 over Finite Field of size 2\n",
      "Polynomial ring R:  Univariate Polynomial Ring in x over Finite Field of size 2 (using GF2X)\n",
      "Quotient ring Rr:   Univariate Quotient Polynomial Ring in xbar over Finite Field of size 2 with modulus x^257 + 1\n",
      "MElement: <class 'sage.modules.vector_mod2_dense.Vector_mod2_dense'>\n",
      "RElement: <class 'sage.rings.polynomial.polynomial_quotient_ring.PolynomialQuotientRing_generic_with_category.element_class'>\n",
      "KElement: <class 'sage.modules.vector_mod2_dense.Vector_mod2_dense'>\n"
     ]
    }
   ],
   "source": [
    "F = GF(2)\n",
    "\n",
    "M = F ** l  # Message space\n",
    "\n",
    "R = PolynomialRing(F, 'x')\n",
    "x = R.gen()\n",
    "Rr = QuotientRing(R, R.ideal(x ** r - 1))  # Polynomial ring R / (x^r - 1)\n",
    "\n",
    "KK = F ** l  # Private key space\n",
    "\n",
    "print(\"Message space M:   \", M)\n",
    "print(\"Shared key space K:\", KK)\n",
    "print(\"Polynomial ring R: \", R)\n",
    "print(\"Quotient ring Rr:  \", Rr)\n",
    "\n",
    "MElement = type(M.random_element())  # Basicamente binário\n",
    "RElement = type(Rr.random_element())  # Elemento de Rr\n",
    "KElement = type(KK.random_element())  # Basicamente binário\n",
    "\n",
    "print(\"MElement:\", MElement)\n",
    "print(\"RElement:\", RElement)\n",
    "print(\"KElement:\", KElement)"
   ],
   "metadata": {
    "collapsed": false
   }
  },
  {
   "cell_type": "markdown",
   "source": [
    "### Funções auxiliares"
   ],
   "metadata": {
    "collapsed": false
   }
  },
  {
   "cell_type": "code",
   "execution_count": 4,
   "outputs": [],
   "source": [
    "def generate_sparse(weight: int, size: int) -> RElement:\n",
    "    \"\"\"\n",
    "    Gera um sparse vector.\n",
    "    Entrada: weight - número de elementos não nulos (Hamming weight)\n",
    "             size - tamanho do vector\n",
    "    Saída: elemento de Rr\n",
    "    \"\"\"\n",
    "    while True:\n",
    "        # Generate a random list of size 'size' with 'weight' non-zero elements\n",
    "        sparse_rep = [0] * size\n",
    "        for _ in range(weight):\n",
    "            rand_index = randint(0, size - 1)\n",
    "            while sparse_rep[rand_index] != 0:\n",
    "                rand_index = randint(0, size - 1)\n",
    "\n",
    "            sparse_rep[rand_index] = 1\n",
    "\n",
    "        assert sum(sparse_rep) == weight\n",
    "        return Rr(sparse_rep)"
   ],
   "metadata": {
    "collapsed": false
   }
  },
  {
   "cell_type": "code",
   "execution_count": 5,
   "outputs": [],
   "source": [
    "def bytes_to_bits(b: bytes) -> list:\n",
    "    assert type(b) == bytes\n",
    "\n",
    "    return [int(bit) for byte in b for bit in bin(byte)[2:].zfill(8)]"
   ],
   "metadata": {
    "collapsed": false
   }
  },
  {
   "cell_type": "code",
   "execution_count": 6,
   "outputs": [],
   "source": [
    "def expand(lis: list, size: int) -> list:\n",
    "    assert type(lis) == list\n",
    "\n",
    "    return lis + [0] * (l - len(lis))"
   ],
   "metadata": {
    "collapsed": false
   }
  },
  {
   "cell_type": "code",
   "execution_count": 7,
   "outputs": [],
   "source": [
    "# noinspection PyPep8Naming\n",
    "def R_to_bytes(r: RElement) -> bytes:\n",
    "    assert type(r) == RElement\n",
    "\n",
    "    return bytes(r.list())\n",
    "\n",
    "\n",
    "# noinspection PyPep8Naming\n",
    "def bytes_to_R(b: bytes) -> RElement:\n",
    "    assert type(b) == bytes\n",
    "\n",
    "    return Rr(list(b))\n",
    "\n",
    "\n",
    "assert bytes_to_R(R_to_bytes(Rr([1, 0, 1]))) == Rr([1, 0, 1])\n",
    "\n",
    "\n",
    "# noinspection PyPep8Naming\n",
    "def M_to_bytes(m: MElement) -> bytes:\n",
    "    assert type(m) == MElement\n",
    "\n",
    "    bits = m.list()\n",
    "    bit_string = ''.join(str(bit) for bit in bits)  # convert the list of bits to a string\n",
    "\n",
    "    return int(bit_string, 2).to_bytes(len(bits) // 8, byteorder='big')\n",
    "\n",
    "\n",
    "# noinspection PyPep8Naming\n",
    "def bytes_to_M(b: bytes) -> MElement:\n",
    "    assert type(b) == bytes\n",
    "\n",
    "    bytess = expand(bytes_to_bits(b), l)\n",
    "\n",
    "    assert len(bytess) == l\n",
    "\n",
    "    return M(bytess)\n",
    "\n",
    "assert bytes_to_M(M_to_bytes(M([1, 0] * (l // 2)))) == M([1, 0] * (l // 2))"
   ],
   "metadata": {
    "collapsed": false
   }
  },
  {
   "cell_type": "code",
   "execution_count": 8,
   "outputs": [],
   "source": [
    "def getHammingWeight(m: MElement) -> int:\n",
    "    acc = 0\n",
    "    for i in m:\n",
    "        if i == 1:\n",
    "            acc += 1\n",
    "\n",
    "    return acc\n",
    "\n",
    "\n",
    "assert getHammingWeight(M([1, 0] * (l // 2))) == l // 2"
   ],
   "metadata": {
    "collapsed": false
   }
  },
  {
   "cell_type": "code",
   "execution_count": 9,
   "outputs": [],
   "source": [
    "def xor(a: MElement, b: MElement) -> MElement:\n",
    "    assert len(a) == len(b)\n",
    "    return M([a[i] ^ b[i] for i in range(len(a))])"
   ],
   "metadata": {
    "collapsed": false
   }
  },
  {
   "cell_type": "markdown",
   "source": [
    "### Funções de Hash necessárias"
   ],
   "metadata": {
    "collapsed": false
   }
  },
  {
   "cell_type": "markdown",
   "source": [
    "#### Função H"
   ],
   "metadata": {
    "collapsed": false
   }
  },
  {
   "cell_type": "code",
   "execution_count": 10,
   "outputs": [
    {
     "data": {
      "text/plain": "(xbar^248 + xbar^243 + xbar^229 + xbar^220 + xbar^204 + xbar^200 + xbar^192 + xbar^154 + xbar^130 + xbar^118 + xbar^100 + xbar^90 + xbar^88 + xbar^82 + xbar^80 + xbar^16,\n xbar^217 + xbar^208 + xbar^181 + xbar^164 + xbar^154 + xbar^112 + xbar^94 + xbar^88 + xbar^75 + xbar^69 + xbar^64 + xbar^51 + xbar^37 + xbar^30 + xbar^24 + xbar^6)"
     },
     "execution_count": 10,
     "metadata": {},
     "output_type": "execute_result"
    }
   ],
   "source": [
    "# noinspection PyPep8Naming\n",
    "def H(m: bytes) -> (RElement, RElement):\n",
    "    # TODO: Migrate this to use AES256-CTR PRNG\n",
    "\n",
    "    e0 = generate_sparse(t, r)\n",
    "    e1 = generate_sparse(t, r)\n",
    "\n",
    "    return e0, e1\n",
    "\n",
    "\n",
    "H(b'')"
   ],
   "metadata": {
    "collapsed": false
   }
  },
  {
   "cell_type": "markdown",
   "source": [
    "#### Função L"
   ],
   "metadata": {
    "collapsed": false
   }
  },
  {
   "cell_type": "code",
   "execution_count": 11,
   "outputs": [
    {
     "data": {
      "text/plain": "(0, 0, 0, 1, 1, 0, 0, 0, 1, 1, 0, 0, 0, 0, 1, 0, 0, 1, 1, 1, 0, 0, 1, 0, 1, 0, 0, 0, 0, 0, 1, 0, 0, 1, 1, 0, 1, 1, 1, 1, 1, 0, 1, 1, 1, 1, 0, 1, 0, 1, 1, 1, 0, 0, 0, 1, 0, 1, 1, 0, 1, 1, 0, 0, 0, 0, 0, 1, 0, 1, 1, 1, 0, 1, 0, 0, 1, 1, 0, 0, 1, 0, 0, 1, 1, 1, 1, 1, 0, 1, 0, 0, 1, 1, 1, 1, 1, 1, 0, 0, 1, 0, 0, 0, 0, 0, 1, 1, 1, 0, 1, 1, 0, 1, 0, 1, 1, 0, 1, 1, 1, 1, 0, 1, 1, 1, 1, 0, 0, 1, 1, 1, 1, 0, 0, 0, 0, 0, 1, 1, 1, 1, 0, 1, 1, 1, 0, 1, 0, 0, 0, 0, 1, 1, 0, 0, 0, 1, 0, 0, 1, 0, 1, 1, 0, 1, 0, 1, 1, 1, 1, 1, 1, 0, 0, 0, 1, 0, 0, 1, 1, 1, 0, 0, 1, 0, 1, 0, 0, 0, 1, 0, 1, 0, 0, 1, 1, 0, 0, 0, 1, 0, 0, 1, 1, 1, 0, 0, 1, 1, 0, 1, 0, 1, 0, 1, 1, 1, 1, 1, 1, 1, 0, 0, 0, 1, 1, 1, 1, 1, 1, 1, 0, 1, 0, 1, 1, 0, 0, 0, 0, 1, 0, 0, 1, 1, 1, 0, 0, 0, 0, 1, 0, 1, 1, 1)"
     },
     "execution_count": 11,
     "metadata": {},
     "output_type": "execute_result"
    }
   ],
   "source": [
    "# noinspection PyPep8Naming\n",
    "def L(e0: RElement, e1: RElement) -> MElement:\n",
    "    # Apply the SHA384 hash function to the concatenation of e0 and e1\n",
    "    from hashlib import sha384\n",
    "\n",
    "    digest = sha384(R_to_bytes(e0) + R_to_bytes(e1)).digest()\n",
    "\n",
    "    # Concat all the bits of the digest into a list of bits\n",
    "    digest = bytes_to_bits(digest[:l // 8])  # We only need l bits (l / 8 bytes)\n",
    "\n",
    "    return M(digest)  # Returns the MElement corresponding to the digest\n",
    "\n",
    "\n",
    "L(Rr([1, 0, 1]), Rr([1, 0, 1]))"
   ],
   "metadata": {
    "collapsed": false
   }
  },
  {
   "cell_type": "markdown",
   "source": [
    "#### Função K"
   ],
   "metadata": {
    "collapsed": false
   }
  },
  {
   "cell_type": "code",
   "execution_count": 12,
   "outputs": [
    {
     "data": {
      "text/plain": "(1, 0, 0, 0, 1, 0, 0, 0, 1, 0, 0, 1, 1, 0, 0, 1, 1, 1, 1, 1, 1, 1, 0, 1, 0, 0, 0, 1, 1, 1, 0, 0, 0, 1, 1, 1, 0, 1, 0, 0, 1, 0, 0, 1, 0, 0, 0, 0, 0, 1, 0, 0, 1, 0, 1, 1, 1, 0, 0, 0, 1, 0, 0, 0, 1, 0, 1, 1, 0, 1, 0, 0, 1, 1, 1, 1, 0, 1, 1, 1, 0, 0, 1, 1, 1, 1, 1, 0, 1, 1, 1, 1, 1, 0, 1, 0, 0, 0, 1, 0, 0, 1, 1, 0, 1, 1, 1, 1, 1, 0, 0, 1, 0, 1, 1, 0, 1, 1, 0, 1, 0, 1, 0, 0, 1, 1, 0, 0, 0, 0, 1, 1, 1, 1, 0, 1, 0, 0, 1, 0, 1, 0, 1, 1, 0, 0, 1, 0, 1, 1, 0, 0, 1, 0, 1, 1, 0, 1, 0, 0, 1, 1, 0, 0, 1, 0, 1, 0, 0, 1, 0, 1, 1, 1, 0, 0, 0, 0, 0, 1, 1, 0, 1, 1, 1, 1, 0, 0, 0, 1, 1, 0, 1, 0, 0, 1, 1, 0, 0, 0, 0, 1, 0, 0, 0, 0, 1, 1, 1, 0, 0, 1, 0, 0, 0, 0, 1, 1, 1, 1, 1, 1, 1, 1, 1, 0, 0, 0, 0, 0, 1, 0, 0, 1, 1, 0, 1, 1, 0, 0, 0, 0, 1, 0, 1, 1, 1, 0, 1, 0, 1, 0, 0, 1, 0, 0)"
     },
     "execution_count": 12,
     "metadata": {},
     "output_type": "execute_result"
    }
   ],
   "source": [
    "# noinspection PyPep8Naming\n",
    "def K(m: MElement, c0: RElement, c1: MElement) -> KElement:\n",
    "    # Apply the SHA384 hash function to the concatenation of m, c0 and c1\n",
    "    from hashlib import sha384\n",
    "\n",
    "    digest = sha384(M_to_bytes(m) + R_to_bytes(c0) + M_to_bytes(c1)).digest()\n",
    "\n",
    "    digest = bytes_to_bits(digest[:l // 8])  # We only need l bits (l / 8 bytes)\n",
    "\n",
    "    return KK(digest)  # Returns the KElement corresponding to the digest\n",
    "\n",
    "\n",
    "K(M([1, 0] * 128), Rr([1, 0, 1]), M([1, 0] * 128))"
   ],
   "metadata": {
    "collapsed": false
   }
  },
  {
   "cell_type": "markdown",
   "source": [
    "### Função de computação do sindrome (syndrome computation)"
   ],
   "metadata": {
    "collapsed": false
   }
  },
  {
   "cell_type": "code",
   "execution_count": 13,
   "outputs": [],
   "source": [
    "def compute_syndrome(c0: RElement, h0: RElement) -> RElement:\n",
    "    return c0 * h0"
   ],
   "metadata": {
    "collapsed": false
   }
  },
  {
   "cell_type": "markdown",
   "source": [
    "### Geração de chaves"
   ],
   "metadata": {
    "collapsed": false
   }
  },
  {
   "cell_type": "code",
   "execution_count": 14,
   "metadata": {
    "collapsed": true
   },
   "outputs": [],
   "source": [
    "\n",
    "def keygen() -> ((RElement, RElement), MElement, RElement):\n",
    "    \"\"\"\n",
    "    Geração de chaves\n",
    "    Entrada: Nenhum\n",
    "    Saída: (pk, sk)\n",
    "    \"\"\"\n",
    "    h0 = generate_sparse(w // 2, l)\n",
    "    h1 = generate_sparse(w // 2, l)\n",
    "\n",
    "    sigma = os.urandom(32)  # FIXME: Estou a gerar o sigma assim por agora.\n",
    "\n",
    "    h0_inv = 1 / h0\n",
    "    h = h1 * h0_inv\n",
    "\n",
    "    return (h0, h1), sigma, h"
   ]
  },
  {
   "cell_type": "code",
   "execution_count": 15,
   "outputs": [
    {
     "name": "stdout",
     "output_type": "stream",
     "text": [
      "public_key:  x^255 + x^253 + x^252 + x^249 + x^245 + x^244 + x^240 + x^239 + x^237 + x^236 + x^234 + x^233 + x^231 + x^224 + x^223 + x^220 + x^218 + x^217 + x^215 + x^214 + x^211 + x^210 + x^209 + x^206 + x^205 + x^202 + x^201 + x^198 + x^197 + x^196 + x^194 + x^192 + x^190 + x^189 + x^188 + x^186 + x^184 + x^182 + x^179 + x^177 + x^176 + x^171 + x^170 + x^169 + x^168 + x^165 + x^163 + x^162 + x^161 + x^160 + x^158 + x^157 + x^156 + x^154 + x^153 + x^152 + x^151 + x^146 + x^142 + x^141 + x^137 + x^134 + x^133 + x^131 + x^130 + x^128 + x^127 + x^125 + x^124 + x^123 + x^119 + x^118 + x^117 + x^113 + x^108 + x^106 + x^104 + x^101 + x^100 + x^97 + x^95 + x^93 + x^91 + x^89 + x^86 + x^85 + x^84 + x^82 + x^77 + x^76 + x^75 + x^74 + x^72 + x^68 + x^63 + x^61 + x^60 + x^59 + x^56 + x^55 + x^51 + x^50 + x^44 + x^37 + x^36 + x^35 + x^34 + x^33 + x^32 + x^31 + x^29 + x^27 + x^26 + x^25 + x^23 + x^20 + x^16 + x^14 + x^13 + x^12 + x^10 + x^9 + x^8 + x^6 + x^5\n"
     ]
    }
   ],
   "source": [
    "# Teste TODO: Mover isto para a secção de testes\n",
    "\n",
    "(priv_key, sigma, public_key) = keygen()\n",
    "\n",
    "# Print the hex representation of the public key and secret key\n",
    "print(\"public_key: \", public_key.lift())"
   ],
   "metadata": {
    "collapsed": false
   }
  },
  {
   "cell_type": "markdown",
   "source": [
    "### Encapsulamento"
   ],
   "metadata": {
    "collapsed": false
   }
  },
  {
   "cell_type": "code",
   "execution_count": 16,
   "outputs": [],
   "source": [
    "def calculate_c(e0: RElement, e1: RElement, h: RElement, seed: MElement) -> (RElement, MElement):\n",
    "    return e0 + e1 * h, seed + L(e0, e1)"
   ],
   "metadata": {
    "collapsed": false
   }
  },
  {
   "cell_type": "code",
   "execution_count": 17,
   "outputs": [],
   "source": [
    "def encapsulate(h: RElement) -> (KElement, (RElement, MElement)):\n",
    "    seed: MElement = M.random_element()\n",
    "    (e0, e1) = H(seed)\n",
    "\n",
    "    c = calculate_c(e0, e1, h, seed)\n",
    "    c0, c1 = c\n",
    "\n",
    "    k = K(seed, c0, c1)\n",
    "\n",
    "    return k, c"
   ],
   "metadata": {
    "collapsed": false
   }
  },
  {
   "cell_type": "code",
   "execution_count": 18,
   "outputs": [
    {
     "name": "stdout",
     "output_type": "stream",
     "text": [
      "k:  (1, 1, 0, 0, 0, 1, 0, 0, 0, 1, 0, 0, 1, 1, 0, 1, 1, 0, 0, 0, 0, 0, 1, 1, 0, 1, 0, 0, 1, 0, 0, 1, 1, 1, 1, 0, 0, 0, 0, 1, 0, 1, 1, 1, 0, 1, 0, 1, 0, 0, 0, 1, 1, 1, 1, 0, 1, 0, 1, 1, 1, 1, 0, 0, 0, 1, 0, 0, 0, 1, 1, 0, 0, 0, 1, 0, 1, 0, 0, 1, 1, 1, 1, 0, 1, 1, 0, 1, 0, 1, 0, 0, 0, 1, 0, 0, 0, 0, 1, 0, 0, 0, 0, 0, 0, 0, 1, 0, 1, 1, 0, 0, 0, 0, 0, 1, 1, 1, 1, 1, 0, 1, 1, 0, 1, 1, 0, 1, 0, 0, 1, 1, 0, 0, 1, 1, 0, 0, 1, 0, 0, 1, 0, 1, 0, 0, 0, 1, 1, 0, 0, 1, 1, 1, 0, 0, 1, 1, 1, 1, 0, 0, 1, 1, 0, 0, 1, 0, 0, 0, 1, 1, 1, 1, 1, 1, 0, 0, 1, 1, 0, 0, 1, 1, 0, 1, 1, 1, 0, 0, 0, 1, 0, 1, 1, 0, 0, 1, 0, 1, 1, 0, 0, 0, 0, 0, 1, 0, 0, 0, 1, 1, 1, 0, 1, 0, 1, 1, 1, 1, 1, 0, 0, 0, 0, 0, 0, 1, 0, 1, 0, 1, 0, 0, 1, 1, 0, 1, 0, 0, 0, 1, 1, 0, 1, 0, 1, 0, 1, 1, 0, 1, 0, 1, 0, 1)\n",
      "c:  (xbar^254 + xbar^253 + xbar^252 + xbar^251 + xbar^250 + xbar^249 + xbar^248 + xbar^247 + xbar^246 + xbar^245 + xbar^244 + xbar^243 + xbar^242 + xbar^239 + xbar^235 + xbar^232 + xbar^228 + xbar^221 + xbar^220 + xbar^219 + xbar^217 + xbar^215 + xbar^213 + xbar^209 + xbar^208 + xbar^205 + xbar^198 + xbar^195 + xbar^194 + xbar^192 + xbar^191 + xbar^187 + xbar^185 + xbar^184 + xbar^183 + xbar^182 + xbar^178 + xbar^177 + xbar^176 + xbar^175 + xbar^174 + xbar^171 + xbar^167 + xbar^165 + xbar^162 + xbar^160 + xbar^159 + xbar^155 + xbar^152 + xbar^147 + xbar^146 + xbar^145 + xbar^143 + xbar^142 + xbar^141 + xbar^138 + xbar^137 + xbar^135 + xbar^134 + xbar^128 + xbar^127 + xbar^126 + xbar^125 + xbar^122 + xbar^120 + xbar^119 + xbar^117 + xbar^116 + xbar^115 + xbar^112 + xbar^110 + xbar^109 + xbar^108 + xbar^106 + xbar^103 + xbar^101 + xbar^99 + xbar^97 + xbar^96 + xbar^95 + xbar^94 + xbar^93 + xbar^91 + xbar^89 + xbar^86 + xbar^85 + xbar^83 + xbar^79 + xbar^76 + xbar^75 + xbar^74 + xbar^73 + xbar^72 + xbar^71 + xbar^69 + xbar^64 + xbar^63 + xbar^62 + xbar^61 + xbar^60 + xbar^59 + xbar^58 + xbar^56 + xbar^54 + xbar^53 + xbar^52 + xbar^51 + xbar^50 + xbar^47 + xbar^40 + xbar^38 + xbar^36 + xbar^33 + xbar^31 + xbar^29 + xbar^27 + xbar^26 + xbar^25 + xbar^21 + xbar^17 + xbar^15 + xbar^14 + xbar^11 + xbar^8 + xbar^6 + xbar^4 + xbar^3 + xbar^2 + xbar + 1, (1, 0, 0, 1, 0, 1, 1, 0, 1, 0, 0, 0, 0, 1, 0, 1, 0, 1, 1, 0, 1, 0, 1, 0, 1, 1, 0, 1, 1, 1, 0, 0, 1, 0, 0, 0, 0, 1, 1, 1, 0, 0, 1, 1, 0, 0, 0, 1, 0, 0, 1, 0, 0, 1, 0, 1, 0, 1, 1, 0, 0, 1, 0, 1, 1, 0, 0, 1, 0, 0, 1, 1, 1, 1, 0, 0, 1, 0, 1, 1, 0, 0, 0, 0, 1, 0, 0, 0, 0, 0, 0, 1, 1, 0, 1, 1, 1, 0, 0, 1, 0, 1, 1, 0, 1, 1, 1, 0, 0, 1, 1, 0, 0, 1, 0, 1, 0, 0, 0, 0, 1, 1, 1, 1, 1, 1, 1, 0, 1, 1, 0, 1, 0, 0, 1, 0, 0, 1, 0, 0, 0, 0, 1, 1, 1, 0, 0, 0, 0, 1, 1, 0, 1, 1, 1, 0, 1, 0, 1, 0, 1, 0, 0, 1, 1, 1, 1, 1, 0, 0, 1, 0, 0, 0, 0, 0, 0, 0, 1, 1, 0, 0, 0, 1, 1, 0, 0, 0, 0, 0, 0, 1, 1, 1, 0, 1, 0, 0, 0, 1, 0, 0, 1, 1, 0, 0, 0, 0, 1, 0, 0, 0, 0, 1, 1, 1, 1, 0, 0, 0, 0, 1, 0, 1, 0, 1, 1, 0, 0, 0, 0, 0, 1, 1, 1, 0, 0, 0, 0, 1, 1, 0, 0, 1, 1, 1, 0, 1, 1, 1, 1, 1, 0, 0, 1, 1))\n"
     ]
    }
   ],
   "source": [
    "# Teste TODO: Mover isto para a secção de testes\n",
    "\n",
    "(priv_key, sigma, public_key) = keygen()\n",
    "\n",
    "(k, c) = encapsulate(public_key)\n",
    "\n",
    "print(\"k: \", k.lift())\n",
    "print(\"c: \", c)"
   ],
   "metadata": {
    "collapsed": false
   }
  },
  {
   "cell_type": "markdown",
   "source": [
    "### Desencapsulamento"
   ],
   "metadata": {
    "collapsed": false
   }
  },
  {
   "cell_type": "code",
   "execution_count": 24,
   "outputs": [],
   "source": [
    "# noinspection PyUnresolvedReferences\n",
    "from sage.matrix.matrix_integer_dense import Matrix_integer_dense\n",
    "\n",
    "\n",
    "def decoder(x: RElement, h0: RElement, h1: RElement) -> (RElement, RElement):\n",
    "    print(\"decoder function\")\n",
    "\n",
    "    # Convert x to a vectorSpace element\n",
    "    x = RElement_to_VectorSpace(x)\n",
    "\n",
    "\n",
    "    H_mat = get_H_matrix(h0, h1)\n",
    "\n",
    "    BGF(x, H_mat)\n",
    "\n",
    "\n",
    "\n",
    "def BGF(s: RElement, H: Matrix_integer_dense) -> (RElement, RElement):\n",
    "    print(\"BGF function\")\n",
    "    e = copy(VectorSpace(GF(2), n).zero())\n",
    "    d = w // 2\n",
    "\n",
    "    HTranspose = H.transpose()\n",
    "\n",
    "    for i in range(1, NbIter + 1):\n",
    "        T = threshold(getHammingWeight(s + e * HTranspose), i)\n",
    "        #e, black, gray = BFIter(s + e * HTranspose, e, T, H)\n",
    "        #if i == 1:\n",
    "        #    e = BFMaskedIter(s + e * HTranspose, e, black, ((d + 1) // 2) + 1, H)\n",
    "        #    e = BFMaskedIter(s + e * HTranspose, e, gray, ((d + 1) // 2) + 1, H)\n",
    "\n",
    "    if s == e * HTranspose:\n",
    "        (e0, e1) = e[:r], e[r:]\n",
    "        return e0, e1\n",
    "    else:\n",
    "        print(\"Decoding failed!\")\n",
    "        return None, None\n",
    "\n",
    "def BFIter(s: RElement, e: RElement, T: int, H: Matrix_integer_dense) -> (RElement, RElement, RElement):\n",
    "    \"\"\"\n",
    "    Black-Gray-Flip (BGF) BFIter function.\n",
    "    :param s: the syndrome vector\n",
    "    :param e: the error vector\n",
    "    :param T: the threshold\n",
    "    :param H: the parity-check matrix\n",
    "    :return: a tuple containing the updated error vector, the set of black bits, and the set of gray bits\n",
    "    \"\"\"\n",
    "    n = H.ncols()\n",
    "    black = copy(VectorSpace(GF(2), n).zero())\n",
    "    gray = copy(VectorSpace(GF(2), n).zero())\n",
    "\n",
    "    for j in range(n):\n",
    "        if ctr(H, s, j) >= T:\n",
    "            e[j] += 1  # TODO: Check if this is correct\n",
    "            black[j] = 1\n",
    "        elif ctr(H, s, j) >= T - tau:\n",
    "            gray[j] = 1\n",
    "\n",
    "    return e, black, gray\n",
    "\n",
    "\n",
    "def ctr(H: Matrix_integer_dense, s: RElement, j: int) -> int:\n",
    "    \"\"\"\n",
    "    ctr(H; s; j). This function computes a quantity referred to as the counter (aka the number of unsatisfied parity-checks) of j.\n",
    "    It is the number of ’1’ (set bits) that appear in the same position in the syndrome s and in the j-th column of the matrix H.\n",
    "    \"\"\"\n",
    "    return getHammingWeight(s.pairwise_product(H.column(j)))\n",
    "\n",
    "\n",
    "def BFMaskedIter(s: RElement, e: RElement, mask: RElement, T: int, H: Matrix_integer_dense) -> RElement:\n",
    "    \"\"\"\n",
    "    Black-Gray-Flip (BGF) BFMaskedIter function.\n",
    "    :param s: the syndrome vector\n",
    "    :param e: the error vector\n",
    "    :param mask: the mask vector\n",
    "    :param T: the threshold\n",
    "    :param H: the parity-check matrix\n",
    "    :return: the updated error vector\n",
    "    \"\"\"\n",
    "    n = H.ncols()\n",
    "\n",
    "    for j in range(n):\n",
    "        if ctr(H, s, j) >= T:\n",
    "            e[j] += 1\n",
    "\n",
    "    return e"
   ],
   "metadata": {
    "collapsed": false
   }
  },
  {
   "cell_type": "code",
   "execution_count": 25,
   "outputs": [],
   "source": [
    "def RElement_to_VectorSpace(element: RElement) -> type(VectorSpace(GF(2), n)):\n",
    "    print(\"RElement_to_VectorSpace function\")\n",
    "\n",
    "    elem_coefs = element.lift().list()\n",
    "\n",
    "    v = vector(GF(2), elem_coefs + [0] * (r - len(elem_coefs)))\n",
    "\n",
    "    return v\n"
   ],
   "metadata": {
    "collapsed": false
   }
  },
  {
   "cell_type": "code",
   "execution_count": 26,
   "outputs": [],
   "source": [
    "def get_H_matrix(h0: RElement, h1: RElement) -> Matrix_integer_dense:\n",
    "    print(\"get_H_matrix function\")\n",
    "    #print(\"H0: \", len(get_circulant_matrix(h0)[0]))\n",
    "    #print(\"H1: \", len(get_circulant_matrix(h1)[0]))\n",
    "    #print(\"H: \", block_matrix(1, 2, [get_circulant_matrix(h0), get_circulant_matrix(h1)]))\n",
    "\n",
    "    H = block_matrix(1, 2, [get_circulant_matrix(h0), get_circulant_matrix(h1)])\n",
    "\n",
    "    print(\"H dimensions: \", H.dimensions())\n",
    "    assert H.dimensions() == (r, n)\n",
    "\n",
    "    return H\n",
    "\n",
    "\n",
    "# noinspection PyUnresolvedReferences\n",
    "def get_circulant_matrix(element: RElement) -> Matrix_integer_dense:\n",
    "    print(\"get_circulant_matrix function\")\n",
    "    vec = element.lift().list()\n",
    "    # Fill the rest of the vector with zeros\n",
    "    vec = vec + [0] * (r - len(vec))\n",
    "\n",
    "    circ = matrix.circulant(vec)\n",
    "    #print(\"circ: \", circ)\n",
    "\n",
    "    return circ\n",
    "\n",
    "#get_circulant_matrix(Rr([1, 0, 1])).augment(get_circulant_matrix(Rr([0, 0, 1])))\n",
    "#block_matrix(1, 2, [get_circulant_matrix(Rr([1, 0, 1])), get_circulant_matrix(Rr([0, 0, 1]))])"
   ],
   "metadata": {
    "collapsed": false
   }
  },
  {
   "cell_type": "code",
   "execution_count": 29,
   "outputs": [],
   "source": [
    "def decapsulate(h0: RElement, h1: RElement, sigma: bytes, c0: RElement, c1: MElement) -> KElement:\n",
    "    e_ = decoder(c0 * h0, h0, h1)\n",
    "\n",
    "    print(\"e_: \", e_)\n",
    "\n",
    "    if e_ == (None, None):\n",
    "        return None\n",
    "\n",
    "    m_ = c1 + L(e_[0], e_[1])\n",
    "\n",
    "    if e_ == H(m_):\n",
    "        return K(m_, c0, c1)\n",
    "    else:\n",
    "        return K(sigma, c0, c1)"
   ],
   "metadata": {
    "collapsed": false
   }
  },
  {
   "cell_type": "code",
   "execution_count": 30,
   "outputs": [
    {
     "name": "stdout",
     "output_type": "stream",
     "text": [
      "decoder function\n",
      "RElement_to_VectorSpace function\n",
      "get_H_matrix function\n",
      "get_circulant_matrix function\n",
      "get_circulant_matrix function\n",
      "H dimensions:  (257, 514)\n",
      "BGF function\n",
      "Decoding failed!\n",
      "e_:  None\n"
     ]
    },
    {
     "ename": "TypeError",
     "evalue": "'NoneType' object is not subscriptable",
     "output_type": "error",
     "traceback": [
      "\u001B[0;31m---------------------------------------------------------------------------\u001B[0m",
      "\u001B[0;31mTypeError\u001B[0m                                 Traceback (most recent call last)",
      "\u001B[0;32m/tmp/ipykernel_200/2441097136.py\u001B[0m in \u001B[0;36m<module>\u001B[0;34m\u001B[0m\n\u001B[1;32m      5\u001B[0m \u001B[0;34m(\u001B[0m\u001B[0mk\u001B[0m\u001B[0;34m,\u001B[0m \u001B[0;34m(\u001B[0m\u001B[0mc0\u001B[0m\u001B[0;34m,\u001B[0m \u001B[0mc1\u001B[0m\u001B[0;34m)\u001B[0m\u001B[0;34m)\u001B[0m \u001B[0;34m=\u001B[0m \u001B[0mencapsulate\u001B[0m\u001B[0;34m(\u001B[0m\u001B[0mpublic_key\u001B[0m\u001B[0;34m)\u001B[0m\u001B[0;34m\u001B[0m\u001B[0;34m\u001B[0m\u001B[0m\n\u001B[1;32m      6\u001B[0m \u001B[0;34m\u001B[0m\u001B[0m\n\u001B[0;32m----> 7\u001B[0;31m \u001B[0mk_\u001B[0m \u001B[0;34m=\u001B[0m \u001B[0mdecapsulate\u001B[0m\u001B[0;34m(\u001B[0m\u001B[0;34m*\u001B[0m\u001B[0mpriv_key\u001B[0m\u001B[0;34m,\u001B[0m \u001B[0msigma\u001B[0m\u001B[0;34m,\u001B[0m \u001B[0mc0\u001B[0m\u001B[0;34m,\u001B[0m \u001B[0mc1\u001B[0m\u001B[0;34m)\u001B[0m\u001B[0;34m\u001B[0m\u001B[0;34m\u001B[0m\u001B[0m\n\u001B[0m",
      "\u001B[0;32m/tmp/ipykernel_200/2369274436.py\u001B[0m in \u001B[0;36mdecapsulate\u001B[0;34m(h0, h1, sigma, c0, c1)\u001B[0m\n\u001B[1;32m      7\u001B[0m         \u001B[0;32mreturn\u001B[0m \u001B[0;32mNone\u001B[0m\u001B[0;34m\u001B[0m\u001B[0;34m\u001B[0m\u001B[0m\n\u001B[1;32m      8\u001B[0m \u001B[0;34m\u001B[0m\u001B[0m\n\u001B[0;32m----> 9\u001B[0;31m     \u001B[0mm_\u001B[0m \u001B[0;34m=\u001B[0m \u001B[0mc1\u001B[0m \u001B[0;34m+\u001B[0m \u001B[0mL\u001B[0m\u001B[0;34m(\u001B[0m\u001B[0me_\u001B[0m\u001B[0;34m[\u001B[0m\u001B[0;36m0\u001B[0m\u001B[0;34m]\u001B[0m\u001B[0;34m,\u001B[0m \u001B[0me_\u001B[0m\u001B[0;34m[\u001B[0m\u001B[0;36m1\u001B[0m\u001B[0;34m]\u001B[0m\u001B[0;34m)\u001B[0m\u001B[0;34m\u001B[0m\u001B[0;34m\u001B[0m\u001B[0m\n\u001B[0m\u001B[1;32m     10\u001B[0m \u001B[0;34m\u001B[0m\u001B[0m\n\u001B[1;32m     11\u001B[0m     \u001B[0;32mif\u001B[0m \u001B[0me_\u001B[0m \u001B[0;34m==\u001B[0m \u001B[0mH\u001B[0m\u001B[0;34m(\u001B[0m\u001B[0mm_\u001B[0m\u001B[0;34m)\u001B[0m\u001B[0;34m:\u001B[0m\u001B[0;34m\u001B[0m\u001B[0;34m\u001B[0m\u001B[0m\n",
      "\u001B[0;31mTypeError\u001B[0m: 'NoneType' object is not subscriptable"
     ]
    }
   ],
   "source": [
    "# Teste TODO: Mover isto para a secção de testes\n",
    "\n",
    "(priv_key, sigma, public_key) = keygen()\n",
    "\n",
    "(k, (c0, c1)) = encapsulate(public_key)\n",
    "\n",
    "k_ = decapsulate(*priv_key, sigma, c0, c1)"
   ],
   "metadata": {
    "collapsed": false
   }
  },
  {
   "cell_type": "markdown",
   "source": [
    "## KEM (Key Encapsulation Mechanism) - IND-CPA (INDistinguishable under Chosen Plaintext Attack)"
   ],
   "metadata": {
    "collapsed": false
   }
  },
  {
   "cell_type": "markdown",
   "source": [
    "## PKE (Public Key Encryption) - IND-CCA (INDistinguishable under Chosen Ciphertext Attack)"
   ],
   "metadata": {
    "collapsed": false
   }
  },
  {
   "cell_type": "code",
   "execution_count": 104,
   "outputs": [],
   "source": [
    "def encrypt(h: RElement, m: MElement) -> (RElement, MElement):\n",
    "    e0 = generate_sparse(t, r)\n",
    "    e1 = generate_sparse(t, r)\n",
    "\n",
    "    c0 = e0 + e1 * h\n",
    "    c1 = m + L(e0, e1)\n",
    "\n",
    "    return c0, c1"
   ],
   "metadata": {
    "collapsed": false
   }
  },
  {
   "cell_type": "code",
   "execution_count": 108,
   "outputs": [],
   "source": [
    "def decrypt(h0: RElement, h1: RElement, s: RElement) -> (RElement, RElement):\n",
    "    return decoder(s * h0, h0, h1)"
   ],
   "metadata": {
    "collapsed": false
   }
  },
  {
   "cell_type": "code",
   "execution_count": 109,
   "outputs": [
    {
     "name": "stdout",
     "output_type": "stream",
     "text": [
      "256\n"
     ]
    },
    {
     "ename": "TypeError",
     "evalue": "'sage.modules.vector_mod2_dense.Vector_mod2_dense' object cannot be interpreted as an integer",
     "output_type": "error",
     "traceback": [
      "\u001B[0;31m---------------------------------------------------------------------------\u001B[0m",
      "\u001B[0;31mTypeError\u001B[0m                                 Traceback (most recent call last)",
      "\u001B[0;32m/tmp/ipykernel_406/3594150499.py\u001B[0m in \u001B[0;36m<module>\u001B[0;34m\u001B[0m\n\u001B[1;32m      6\u001B[0m \u001B[0;34m(\u001B[0m\u001B[0mc0\u001B[0m\u001B[0;34m,\u001B[0m \u001B[0mc1\u001B[0m\u001B[0;34m)\u001B[0m \u001B[0;34m=\u001B[0m \u001B[0mencrypt\u001B[0m\u001B[0;34m(\u001B[0m\u001B[0mpublic_key\u001B[0m\u001B[0;34m,\u001B[0m \u001B[0mmessageM\u001B[0m\u001B[0;34m)\u001B[0m\u001B[0;34m\u001B[0m\u001B[0;34m\u001B[0m\u001B[0m\n\u001B[1;32m      7\u001B[0m \u001B[0;34m\u001B[0m\u001B[0m\n\u001B[0;32m----> 8\u001B[0;31m \u001B[0mm_\u001B[0m \u001B[0;34m=\u001B[0m \u001B[0mdecrypt\u001B[0m\u001B[0;34m(\u001B[0m\u001B[0mpriv_key\u001B[0m\u001B[0;34m,\u001B[0m \u001B[0mc0\u001B[0m\u001B[0;34m,\u001B[0m \u001B[0mc1\u001B[0m\u001B[0;34m)\u001B[0m\u001B[0;34m\u001B[0m\u001B[0;34m\u001B[0m\u001B[0m\n\u001B[0m",
      "\u001B[0;32m/tmp/ipykernel_406/3770459140.py\u001B[0m in \u001B[0;36mdecrypt\u001B[0;34m(h0, h1, s)\u001B[0m\n\u001B[1;32m      1\u001B[0m \u001B[0;32mdef\u001B[0m \u001B[0mdecrypt\u001B[0m\u001B[0;34m(\u001B[0m\u001B[0mh0\u001B[0m\u001B[0;34m:\u001B[0m \u001B[0mRElement\u001B[0m\u001B[0;34m,\u001B[0m \u001B[0mh1\u001B[0m\u001B[0;34m:\u001B[0m \u001B[0mRElement\u001B[0m\u001B[0;34m,\u001B[0m \u001B[0ms\u001B[0m\u001B[0;34m:\u001B[0m \u001B[0mRElement\u001B[0m\u001B[0;34m)\u001B[0m \u001B[0;34m->\u001B[0m \u001B[0;34m(\u001B[0m\u001B[0mRElement\u001B[0m\u001B[0;34m,\u001B[0m \u001B[0mRElement\u001B[0m\u001B[0;34m)\u001B[0m\u001B[0;34m:\u001B[0m\u001B[0;34m\u001B[0m\u001B[0;34m\u001B[0m\u001B[0m\n\u001B[0;32m----> 2\u001B[0;31m     \u001B[0;32mreturn\u001B[0m \u001B[0mdecoder\u001B[0m\u001B[0;34m(\u001B[0m\u001B[0ms\u001B[0m \u001B[0;34m*\u001B[0m \u001B[0mh0\u001B[0m\u001B[0;34m,\u001B[0m \u001B[0mh0\u001B[0m\u001B[0;34m,\u001B[0m \u001B[0mh1\u001B[0m\u001B[0;34m)\u001B[0m\u001B[0;34m\u001B[0m\u001B[0;34m\u001B[0m\u001B[0m\n\u001B[0m",
      "\u001B[0;32m/usr/lib/python3/dist-packages/sage/structure/element.pyx\u001B[0m in \u001B[0;36msage.structure.element.Vector.__mul__ (build/cythonized/sage/structure/element.c:22545)\u001B[0;34m()\u001B[0m\n\u001B[1;32m   3482\u001B[0m         \u001B[0;32mif\u001B[0m \u001B[0mhave_same_parent\u001B[0m\u001B[0;34m(\u001B[0m\u001B[0mleft\u001B[0m\u001B[0;34m,\u001B[0m \u001B[0mright\u001B[0m\u001B[0;34m)\u001B[0m\u001B[0;34m:\u001B[0m\u001B[0;34m\u001B[0m\u001B[0;34m\u001B[0m\u001B[0m\n\u001B[1;32m   3483\u001B[0m             \u001B[0;32mreturn\u001B[0m \u001B[0;34m(\u001B[0m\u001B[0;34m<\u001B[0m\u001B[0mVector\u001B[0m\u001B[0;34m>\u001B[0m\u001B[0mleft\u001B[0m\u001B[0;34m)\u001B[0m\u001B[0;34m.\u001B[0m\u001B[0m_dot_product_\u001B[0m\u001B[0;34m(\u001B[0m\u001B[0;34m<\u001B[0m\u001B[0mVector\u001B[0m\u001B[0;34m>\u001B[0m\u001B[0mright\u001B[0m\u001B[0;34m)\u001B[0m\u001B[0;34m\u001B[0m\u001B[0;34m\u001B[0m\u001B[0m\n\u001B[0;32m-> 3484\u001B[0;31m         \u001B[0;32mreturn\u001B[0m \u001B[0mcoercion_model\u001B[0m\u001B[0;34m.\u001B[0m\u001B[0mbin_op\u001B[0m\u001B[0;34m(\u001B[0m\u001B[0mleft\u001B[0m\u001B[0;34m,\u001B[0m \u001B[0mright\u001B[0m\u001B[0;34m,\u001B[0m \u001B[0mmul\u001B[0m\u001B[0;34m)\u001B[0m\u001B[0;34m\u001B[0m\u001B[0;34m\u001B[0m\u001B[0m\n\u001B[0m\u001B[1;32m   3485\u001B[0m \u001B[0;34m\u001B[0m\u001B[0m\n\u001B[1;32m   3486\u001B[0m     \u001B[0mcpdef\u001B[0m \u001B[0m_dot_product_\u001B[0m\u001B[0;34m(\u001B[0m\u001B[0mVector\u001B[0m \u001B[0mleft\u001B[0m\u001B[0;34m,\u001B[0m \u001B[0mVector\u001B[0m \u001B[0mright\u001B[0m\u001B[0;34m)\u001B[0m\u001B[0;34m:\u001B[0m\u001B[0;34m\u001B[0m\u001B[0;34m\u001B[0m\u001B[0m\n",
      "\u001B[0;32m/usr/lib/python3/dist-packages/sage/structure/coerce.pyx\u001B[0m in \u001B[0;36msage.structure.coerce.CoercionModel.bin_op (build/cythonized/sage/structure/coerce.c:11745)\u001B[0;34m()\u001B[0m\n\u001B[1;32m   1240\u001B[0m             \u001B[0mmul_method\u001B[0m \u001B[0;34m=\u001B[0m \u001B[0mgetattr\u001B[0m\u001B[0;34m(\u001B[0m\u001B[0my\u001B[0m\u001B[0;34m,\u001B[0m \u001B[0;34m'__r%s__'\u001B[0m\u001B[0;34m%\u001B[0m\u001B[0mop_name\u001B[0m\u001B[0;34m,\u001B[0m \u001B[0;32mNone\u001B[0m\u001B[0;34m)\u001B[0m\u001B[0;34m\u001B[0m\u001B[0;34m\u001B[0m\u001B[0m\n\u001B[1;32m   1241\u001B[0m             \u001B[0;32mif\u001B[0m \u001B[0mmul_method\u001B[0m \u001B[0;32mis\u001B[0m \u001B[0;32mnot\u001B[0m \u001B[0;32mNone\u001B[0m\u001B[0;34m:\u001B[0m\u001B[0;34m\u001B[0m\u001B[0;34m\u001B[0m\u001B[0m\n\u001B[0;32m-> 1242\u001B[0;31m                 \u001B[0mres\u001B[0m \u001B[0;34m=\u001B[0m \u001B[0mmul_method\u001B[0m\u001B[0;34m(\u001B[0m\u001B[0mx\u001B[0m\u001B[0;34m)\u001B[0m\u001B[0;34m\u001B[0m\u001B[0;34m\u001B[0m\u001B[0m\n\u001B[0m\u001B[1;32m   1243\u001B[0m                 \u001B[0;32mif\u001B[0m \u001B[0mres\u001B[0m \u001B[0;32mis\u001B[0m \u001B[0;32mnot\u001B[0m \u001B[0;32mNone\u001B[0m \u001B[0;32mand\u001B[0m \u001B[0mres\u001B[0m \u001B[0;32mis\u001B[0m \u001B[0;32mnot\u001B[0m \u001B[0mNotImplemented\u001B[0m\u001B[0;34m:\u001B[0m\u001B[0;34m\u001B[0m\u001B[0;34m\u001B[0m\u001B[0m\n\u001B[1;32m   1244\u001B[0m                     \u001B[0;32mreturn\u001B[0m \u001B[0mres\u001B[0m\u001B[0;34m\u001B[0m\u001B[0;34m\u001B[0m\u001B[0m\n",
      "\u001B[0;31mTypeError\u001B[0m: 'sage.modules.vector_mod2_dense.Vector_mod2_dense' object cannot be interpreted as an integer"
     ]
    }
   ],
   "source": [
    "(priv_key, sigma, public_key) = keygen()\n",
    "\n",
    "message = \"Hello World!\"\n",
    "messageM = bytes_to_M(bytes(message, 'utf-8'))\n",
    "\n",
    "(c0, c1) = encrypt(public_key, messageM)\n",
    "\n",
    "m_ = decrypt(priv_key, c0, c1)"
   ],
   "metadata": {
    "collapsed": false
   }
  },
  {
   "cell_type": "code",
   "execution_count": null,
   "outputs": [],
   "source": [],
   "metadata": {
    "collapsed": false
   }
  }
 ],
 "metadata": {
  "kernelspec": {
   "display_name": "Python 3",
   "language": "python",
   "name": "python3"
  },
  "language_info": {
   "codemirror_mode": {
    "name": "ipython",
    "version": 2
   },
   "file_extension": ".py",
   "mimetype": "text/x-python",
   "name": "python",
   "nbconvert_exporter": "python",
   "pygments_lexer": "ipython2",
   "version": "2.7.6"
  }
 },
 "nbformat": 4,
 "nbformat_minor": 0
}
