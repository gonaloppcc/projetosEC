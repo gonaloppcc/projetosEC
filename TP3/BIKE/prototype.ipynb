{
 "cells": [
  {
   "cell_type": "markdown",
   "source": [
    "# BIKE - Bit Flipping Key Encapsulation"
   ],
   "metadata": {
    "collapsed": false
   }
  },
  {
   "cell_type": "markdown",
   "source": [
    "- Criação de um protótipo em Sagemath para o algoritmo **BIKE**.\n",
    "- Pretende-se implementar um **KEM**, que seja **IND-CPA** seguro, e um **PKE** que seja **IND-CCA** seguro."
   ],
   "metadata": {
    "collapsed": false
   }
  },
  {
   "cell_type": "markdown",
   "source": [
    "## Protótipo"
   ],
   "metadata": {
    "collapsed": false
   }
  },
  {
   "cell_type": "code",
   "execution_count": 240,
   "outputs": [],
   "source": [
    "from sage.all import *\n",
    "# noinspection PyUnresolvedReferences\n",
    "from sage.modules.vector_mod2_dense import Vector_mod2_dense"
   ],
   "metadata": {
    "collapsed": false
   }
  },
  {
   "cell_type": "markdown",
   "source": [
    "### Parâmetros"
   ],
   "metadata": {
    "collapsed": false
   }
  },
  {
   "cell_type": "markdown",
   "source": [
    "Parâmetros para o nível de segurança 1"
   ],
   "metadata": {
    "collapsed": false
   }
  },
  {
   "cell_type": "code",
   "execution_count": 263,
   "outputs": [],
   "source": [
    "r = 257  # 12323  # Comprimento do bloco (block length)\n",
    "n = r * 2  # Comprimento do código (code length)\n",
    "w = 142  # Peso da linha (row weight)\n",
    "t = 134  # Peso do erro (error weight)\n",
    "l = 256  # Comprimento do segredo partilhado (shared secret size) | NOTA: Este parametro é fixo para todos os níveis de segurança\n",
    "\n",
    "# BGF decoder parameters - nível de segurança 1\n",
    "NbIter = 5  # Número de iterações do decoder\n",
    "tau = 3  # Threshold Gap | TODO: Confirmar se este comentário está correto\n",
    "threshold = lambda S, _i: max(floor(0.0069722 * S + 13.530), 36)  # Threshold function"
   ],
   "metadata": {
    "collapsed": false
   }
  },
  {
   "cell_type": "code",
   "execution_count": 264,
   "outputs": [
    {
     "name": "stdout",
     "output_type": "stream",
     "text": [
      "Message space M:    Vector space of dimension 256 over Finite Field of size 2\n",
      "Shared key space K: Vector space of dimension 256 over Finite Field of size 2\n",
      "Polynomial ring R:  Univariate Polynomial Ring in x over Finite Field of size 2 (using GF2X)\n",
      "Quotient ring Rr:   Univariate Quotient Polynomial Ring in xbar over Finite Field of size 2 with modulus x^257 + 1\n",
      "MElement: <class 'sage.modules.vector_mod2_dense.Vector_mod2_dense'>\n",
      "RElement: <class 'sage.rings.polynomial.polynomial_quotient_ring.PolynomialQuotientRing_generic_with_category.element_class'>\n",
      "KElement: <class 'sage.modules.vector_mod2_dense.Vector_mod2_dense'>\n"
     ]
    }
   ],
   "source": [
    "F = GF(2)\n",
    "\n",
    "M = F ** l  # Message space\n",
    "\n",
    "R = PolynomialRing(F, 'x')\n",
    "x = R.gen()\n",
    "Rr = QuotientRing(R, R.ideal(x ** r - 1))  # Polynomial ring R / (x^r - 1)\n",
    "\n",
    "KK = F ** l  # Private key space\n",
    "\n",
    "print(\"Message space M:   \", M)\n",
    "print(\"Shared key space K:\", KK)\n",
    "print(\"Polynomial ring R: \", R)\n",
    "print(\"Quotient ring Rr:  \", Rr)\n",
    "\n",
    "MElement = type(M.random_element())  # Basicamente binário\n",
    "RElement = type(Rr.random_element())  # Elemento de Rr\n",
    "KElement = type(KK.random_element())  # Basicamente binário\n",
    "\n",
    "print(\"MElement:\", MElement)\n",
    "print(\"RElement:\", RElement)\n",
    "print(\"KElement:\", KElement)"
   ],
   "metadata": {
    "collapsed": false
   }
  },
  {
   "cell_type": "markdown",
   "source": [
    "### Funções auxiliares"
   ],
   "metadata": {
    "collapsed": false
   }
  },
  {
   "cell_type": "code",
   "execution_count": 265,
   "outputs": [],
   "source": [
    "def generate_sparse(weight: int, size: int) -> RElement:\n",
    "    \"\"\"\n",
    "    Gera um sparse vector.\n",
    "    Entrada: weight - número de elementos não nulos (Hamming weight)\n",
    "             size - tamanho do vector\n",
    "    Saída: elemento de Rr\n",
    "    \"\"\"\n",
    "    while True:\n",
    "        # Generate a random list of size 'size' with 'weight' non-zero elements\n",
    "        sparse_rep = [0] * size\n",
    "        for _ in range(weight):\n",
    "            rand_index = randint(0, size - 1)\n",
    "            while sparse_rep[rand_index] != 0:\n",
    "                rand_index = randint(0, size - 1)\n",
    "\n",
    "            sparse_rep[rand_index] = 1\n",
    "\n",
    "        assert sum(sparse_rep) == weight\n",
    "        return Rr(sparse_rep)"
   ],
   "metadata": {
    "collapsed": false
   }
  },
  {
   "cell_type": "code",
   "execution_count": 266,
   "outputs": [],
   "source": [
    "def bytes_to_bits(b: bytes) -> list:\n",
    "    assert type(b) == bytes\n",
    "\n",
    "    return [int(bit) for byte in b for bit in bin(byte)[2:].zfill(8)]"
   ],
   "metadata": {
    "collapsed": false
   }
  },
  {
   "cell_type": "code",
   "execution_count": 267,
   "outputs": [],
   "source": [
    "def expand(lis: list, size: int) -> list:\n",
    "    assert type(lis) == list\n",
    "\n",
    "    return lis + [0] * (l - len(lis))"
   ],
   "metadata": {
    "collapsed": false
   }
  },
  {
   "cell_type": "code",
   "execution_count": 268,
   "outputs": [],
   "source": [
    "# noinspection PyPep8Naming\n",
    "def R_to_bytes(r: RElement) -> bytes:\n",
    "    assert type(r) == RElement\n",
    "\n",
    "    return bytes(r.list())\n",
    "\n",
    "\n",
    "# noinspection PyPep8Naming\n",
    "def bytes_to_R(b: bytes) -> RElement:\n",
    "    assert type(b) == bytes\n",
    "\n",
    "    return Rr(list(b))\n",
    "\n",
    "\n",
    "assert bytes_to_R(R_to_bytes(Rr([1, 0, 1]))) == Rr([1, 0, 1])\n",
    "\n",
    "\n",
    "# noinspection PyPep8Naming\n",
    "def M_to_bytes(m: MElement) -> bytes:\n",
    "    assert type(m) == MElement\n",
    "\n",
    "    bits = m.list()\n",
    "    bit_string = ''.join(str(bit) for bit in bits)  # convert the list of bits to a string\n",
    "\n",
    "    return int(bit_string, 2).to_bytes(len(bits) // 8, byteorder='big')\n",
    "\n",
    "\n",
    "# noinspection PyPep8Naming\n",
    "def bytes_to_M(b: bytes) -> MElement:\n",
    "    assert type(b) == bytes\n",
    "\n",
    "    bytess = expand(bytes_to_bits(b), l)\n",
    "\n",
    "    assert len(bytess) == l\n",
    "\n",
    "    return M(bytess)\n",
    "\n",
    "\n",
    "assert bytes_to_M(M_to_bytes(M([1, 0] * (l // 2)))) == M([1, 0] * (l // 2))"
   ],
   "metadata": {
    "collapsed": false
   }
  },
  {
   "cell_type": "code",
   "execution_count": 269,
   "outputs": [],
   "source": [
    "def getHammingWeight(m: MElement) -> int:\n",
    "    acc = 0\n",
    "    for i in m:\n",
    "        if i == 1:\n",
    "            acc += 1\n",
    "\n",
    "    return acc\n",
    "\n",
    "\n",
    "assert getHammingWeight(M([1, 0] * (l // 2))) == l // 2"
   ],
   "metadata": {
    "collapsed": false
   }
  },
  {
   "cell_type": "code",
   "execution_count": 270,
   "outputs": [],
   "source": [
    "def xor(a: MElement, b: MElement) -> MElement:\n",
    "    assert len(a) == len(b)\n",
    "    return M([a[i] ^ b[i] for i in range(len(a))])"
   ],
   "metadata": {
    "collapsed": false
   }
  },
  {
   "cell_type": "markdown",
   "source": [
    "### Funções de Hash necessárias"
   ],
   "metadata": {
    "collapsed": false
   }
  },
  {
   "cell_type": "markdown",
   "source": [
    "#### Função H"
   ],
   "metadata": {
    "collapsed": false
   }
  },
  {
   "cell_type": "code",
   "execution_count": 271,
   "outputs": [
    {
     "data": {
      "text/plain": "(xbar^254 + xbar^253 + xbar^251 + xbar^250 + xbar^249 + xbar^247 + xbar^246 + xbar^245 + xbar^243 + xbar^242 + xbar^241 + xbar^238 + xbar^237 + xbar^236 + xbar^235 + xbar^233 + xbar^232 + xbar^231 + xbar^229 + xbar^228 + xbar^227 + xbar^223 + xbar^222 + xbar^220 + xbar^217 + xbar^215 + xbar^213 + xbar^208 + xbar^207 + xbar^205 + xbar^201 + xbar^200 + xbar^197 + xbar^196 + xbar^195 + xbar^194 + xbar^192 + xbar^190 + xbar^189 + xbar^188 + xbar^187 + xbar^186 + xbar^184 + xbar^183 + xbar^182 + xbar^180 + xbar^178 + xbar^177 + xbar^175 + xbar^173 + xbar^170 + xbar^169 + xbar^167 + xbar^164 + xbar^163 + xbar^162 + xbar^161 + xbar^160 + xbar^156 + xbar^154 + xbar^153 + xbar^148 + xbar^147 + xbar^146 + xbar^145 + xbar^144 + xbar^143 + xbar^141 + xbar^140 + xbar^139 + xbar^138 + xbar^137 + xbar^135 + xbar^134 + xbar^130 + xbar^129 + xbar^128 + xbar^125 + xbar^124 + xbar^123 + xbar^120 + xbar^119 + xbar^117 + xbar^115 + xbar^114 + xbar^113 + xbar^112 + xbar^111 + xbar^108 + xbar^107 + xbar^105 + xbar^104 + xbar^102 + xbar^99 + xbar^97 + xbar^90 + xbar^89 + xbar^87 + xbar^85 + xbar^84 + xbar^78 + xbar^74 + xbar^64 + xbar^63 + xbar^62 + xbar^61 + xbar^56 + xbar^54 + xbar^52 + xbar^47 + xbar^43 + xbar^42 + xbar^41 + xbar^40 + xbar^39 + xbar^36 + xbar^33 + xbar^32 + xbar^31 + xbar^29 + xbar^28 + xbar^21 + xbar^20 + xbar^18 + xbar^15 + xbar^13 + xbar^12 + xbar^11 + xbar^10 + xbar^9 + xbar^7 + xbar^6 + xbar^5 + xbar,\n xbar^255 + xbar^254 + xbar^253 + xbar^252 + xbar^250 + xbar^249 + xbar^248 + xbar^246 + xbar^244 + xbar^243 + xbar^241 + xbar^239 + xbar^237 + xbar^236 + xbar^235 + xbar^234 + xbar^233 + xbar^232 + xbar^231 + xbar^229 + xbar^228 + xbar^227 + xbar^224 + xbar^218 + xbar^217 + xbar^216 + xbar^215 + xbar^214 + xbar^212 + xbar^211 + xbar^210 + xbar^209 + xbar^208 + xbar^206 + xbar^205 + xbar^201 + xbar^198 + xbar^197 + xbar^196 + xbar^195 + xbar^192 + xbar^191 + xbar^187 + xbar^186 + xbar^183 + xbar^181 + xbar^177 + xbar^176 + xbar^175 + xbar^174 + xbar^173 + xbar^172 + xbar^170 + xbar^169 + xbar^164 + xbar^156 + xbar^154 + xbar^153 + xbar^152 + xbar^149 + xbar^147 + xbar^145 + xbar^144 + xbar^143 + xbar^140 + xbar^139 + xbar^138 + xbar^137 + xbar^132 + xbar^130 + xbar^129 + xbar^128 + xbar^127 + xbar^126 + xbar^122 + xbar^117 + xbar^114 + xbar^112 + xbar^111 + xbar^110 + xbar^106 + xbar^105 + xbar^101 + xbar^98 + xbar^96 + xbar^94 + xbar^93 + xbar^92 + xbar^91 + xbar^90 + xbar^89 + xbar^87 + xbar^85 + xbar^84 + xbar^81 + xbar^80 + xbar^79 + xbar^76 + xbar^72 + xbar^68 + xbar^66 + xbar^64 + xbar^63 + xbar^61 + xbar^60 + xbar^59 + xbar^57 + xbar^53 + xbar^52 + xbar^51 + xbar^50 + xbar^48 + xbar^46 + xbar^43 + xbar^40 + xbar^39 + xbar^38 + xbar^36 + xbar^30 + xbar^29 + xbar^28 + xbar^27 + xbar^25 + xbar^24 + xbar^21 + xbar^16 + xbar^15 + xbar^12 + xbar^10 + xbar^9 + xbar^7 + xbar^5 + xbar^4 + xbar^2)"
     },
     "execution_count": 271,
     "metadata": {},
     "output_type": "execute_result"
    }
   ],
   "source": [
    "# noinspection PyPep8Naming\n",
    "def H(m: MElement) -> (RElement, RElement):\n",
    "    assert type(m) == MElement\n",
    "    # TODO: Migrate this to use AES256-CTR PRNG\n",
    "\n",
    "    e0 = generate_sparse(t, r)\n",
    "    e1 = generate_sparse(t, r)\n",
    "\n",
    "    return e0, e1\n",
    "\n",
    "\n",
    "H(M([1, 0] * (l // 2)))"
   ],
   "metadata": {
    "collapsed": false
   }
  },
  {
   "cell_type": "markdown",
   "source": [
    "#### Função L"
   ],
   "metadata": {
    "collapsed": false
   }
  },
  {
   "cell_type": "code",
   "execution_count": 288,
   "outputs": [
    {
     "data": {
      "text/plain": "(0, 1, 1, 1, 1, 0, 0, 0, 0, 0, 1, 1, 1, 1, 0, 1, 1, 1, 0, 1, 0, 0, 0, 0, 1, 1, 0, 0, 0, 1, 0, 0, 1, 0, 1, 1, 0, 1, 0, 1, 1, 1, 1, 1, 1, 0, 0, 0, 1, 0, 0, 1, 1, 1, 0, 0, 1, 0, 1, 0, 0, 0, 1, 0, 1, 0, 0, 1, 1, 0, 0, 0, 1, 0, 0, 1, 1, 1, 0, 0, 1, 1, 0, 1, 0, 1, 0, 1, 1, 1, 1, 1, 1, 1, 0, 0, 0, 1, 1, 1, 1, 1, 1, 1, 0, 1, 0, 1, 1, 0, 0, 0, 0, 1, 0, 0, 1, 1, 1, 0, 0, 0, 0, 1, 0, 1, 1, 1, 0, 0, 1, 1, 0, 0, 0, 0, 0, 1, 1, 1, 1, 1, 1, 1, 0, 0, 1, 1, 1, 0, 0, 1, 0, 1, 1, 0, 1, 1, 0, 0, 0, 1, 0, 1, 1, 0, 0, 1, 0, 1, 1, 0, 0, 1, 0, 1, 0, 1, 1, 0, 1, 0, 0, 1, 0, 1, 0, 1, 1, 1, 1, 0, 1, 1, 1, 1, 0, 0, 1, 0, 1, 0, 0, 1, 0, 1, 1, 1, 1, 0, 0, 1, 0, 0, 0, 0, 0, 0, 1, 1, 1, 1, 1, 1, 1, 0, 1, 1, 0, 0, 0, 1, 0, 0, 0, 1, 1, 0, 0, 1, 0, 1, 0, 0, 0, 0, 0, 1, 0, 0, 0, 1, 0, 1, 1, 1)"
     },
     "execution_count": 288,
     "metadata": {},
     "output_type": "execute_result"
    }
   ],
   "source": [
    "# noinspection PyPep8Naming\n",
    "def L(e0: RElement, e1: RElement) -> MElement:\n",
    "    assert type(e0) == RElement\n",
    "    assert type(e1) == RElement\n",
    "\n",
    "    # Apply the SHA384 hash function to the concatenation of e0 and e1\n",
    "    from hashlib import sha384\n",
    "\n",
    "    m = sha384()\n",
    "\n",
    "    m.update(R_to_bytes(e0))\n",
    "\n",
    "    m.update(R_to_bytes(e1))\n",
    "\n",
    "    digest = m.digest()\n",
    "\n",
    "    # Concat all the bits of the digest into a list of bits\n",
    "    digest = bytes_to_bits(digest[-l // 8:])  # We only need l bits (l / 8 bytes)\n",
    "\n",
    "    return M(digest)  # Returns the MElement corresponding to the digest\n",
    "\n",
    "\n",
    "L(Rr([1, 0, 1]), Rr([1, 0, 1]))"
   ],
   "metadata": {
    "collapsed": false
   }
  },
  {
   "cell_type": "markdown",
   "source": [
    "#### Função K"
   ],
   "metadata": {
    "collapsed": false
   }
  },
  {
   "cell_type": "code",
   "execution_count": 289,
   "outputs": [
    {
     "data": {
      "text/plain": "(1, 0, 0, 0, 1, 0, 0, 0, 1, 0, 0, 1, 1, 0, 0, 1, 1, 1, 1, 1, 1, 1, 0, 1, 0, 0, 0, 1, 1, 1, 0, 0, 0, 1, 1, 1, 0, 1, 0, 0, 1, 0, 0, 1, 0, 0, 0, 0, 0, 1, 0, 0, 1, 0, 1, 1, 1, 0, 0, 0, 1, 0, 0, 0, 1, 0, 1, 1, 0, 1, 0, 0, 1, 1, 1, 1, 0, 1, 1, 1, 0, 0, 1, 1, 1, 1, 1, 0, 1, 1, 1, 1, 1, 0, 1, 0, 0, 0, 1, 0, 0, 1, 1, 0, 1, 1, 1, 1, 1, 0, 0, 1, 0, 1, 1, 0, 1, 1, 0, 1, 0, 1, 0, 0, 1, 1, 0, 0, 0, 0, 1, 1, 1, 1, 0, 1, 0, 0, 1, 0, 1, 0, 1, 1, 0, 0, 1, 0, 1, 1, 0, 0, 1, 0, 1, 1, 0, 1, 0, 0, 1, 1, 0, 0, 1, 0, 1, 0, 0, 1, 0, 1, 1, 1, 0, 0, 0, 0, 0, 1, 1, 0, 1, 1, 1, 1, 0, 0, 0, 1, 1, 0, 1, 0, 0, 1, 1, 0, 0, 0, 0, 1, 0, 0, 0, 0, 1, 1, 1, 0, 0, 1, 0, 0, 0, 0, 1, 1, 1, 1, 1, 1, 1, 1, 1, 0, 0, 0, 0, 0, 1, 0, 0, 1, 1, 0, 1, 1, 0, 0, 0, 0, 1, 0, 1, 1, 1, 0, 1, 0, 1, 0, 0, 1, 0, 0)"
     },
     "execution_count": 289,
     "metadata": {},
     "output_type": "execute_result"
    }
   ],
   "source": [
    "# noinspection PyPep8Naming\n",
    "def K(m: MElement, c0: RElement, c1: MElement) -> KElement:\n",
    "    assert type(m) == MElement\n",
    "    assert type(c0) == RElement\n",
    "    assert type(c1) == MElement\n",
    "\n",
    "    # Apply the SHA384 hash function to the concatenation of m, c0 and c1\n",
    "    from hashlib import sha384\n",
    "\n",
    "    digest = sha384(M_to_bytes(m) + R_to_bytes(c0) + M_to_bytes(c1)).digest()\n",
    "\n",
    "    digest = bytes_to_bits(digest[:l // 8])  # We only need l bits (l / 8 bytes)\n",
    "\n",
    "    return KK(digest)  # Returns the KElement corresponding to the digest\n",
    "\n",
    "\n",
    "K(M([1, 0] * 128), Rr([1, 0, 1]), M([1, 0] * 128))"
   ],
   "metadata": {
    "collapsed": false
   }
  },
  {
   "cell_type": "markdown",
   "source": [
    "### Função de computação do sindrome (syndrome computation)"
   ],
   "metadata": {
    "collapsed": false
   }
  },
  {
   "cell_type": "code",
   "execution_count": 290,
   "outputs": [],
   "source": [
    "def compute_syndrome(c0: RElement, h0: RElement) -> RElement:\n",
    "    assert type(c0) == RElement\n",
    "    assert type(h0) == RElement\n",
    "\n",
    "    return c0 * h0"
   ],
   "metadata": {
    "collapsed": false
   }
  },
  {
   "cell_type": "markdown",
   "source": [
    "### Geração de chaves"
   ],
   "metadata": {
    "collapsed": false
   }
  },
  {
   "cell_type": "code",
   "execution_count": 291,
   "metadata": {
    "collapsed": true
   },
   "outputs": [],
   "source": [
    "\n",
    "def keygen() -> ((RElement, RElement), MElement, RElement):\n",
    "    \"\"\"\n",
    "    Geração de chaves\n",
    "    Entrada: Nenhum\n",
    "    Saída: (pk, sk)\n",
    "    \"\"\"\n",
    "    h0 = generate_sparse(w // 2, l)\n",
    "    h1 = generate_sparse(w // 2, l)\n",
    "\n",
    "    sigma = M.random_element()\n",
    "\n",
    "    h0_inv = 1 / h0\n",
    "    h = h1 * h0_inv\n",
    "\n",
    "    return (h0, h1), sigma, h"
   ]
  },
  {
   "cell_type": "code",
   "execution_count": 292,
   "outputs": [
    {
     "name": "stdout",
     "output_type": "stream",
     "text": [
      "public_key:  x^253 + x^249 + x^248 + x^246 + x^242 + x^241 + x^240 + x^238 + x^237 + x^233 + x^232 + x^231 + x^230 + x^227 + x^222 + x^219 + x^218 + x^215 + x^212 + x^209 + x^207 + x^205 + x^203 + x^201 + x^198 + x^197 + x^194 + x^191 + x^189 + x^188 + x^187 + x^186 + x^184 + x^181 + x^180 + x^179 + x^177 + x^176 + x^175 + x^173 + x^169 + x^167 + x^166 + x^163 + x^161 + x^160 + x^159 + x^157 + x^156 + x^153 + x^149 + x^143 + x^138 + x^137 + x^136 + x^135 + x^126 + x^121 + x^120 + x^119 + x^117 + x^116 + x^114 + x^111 + x^110 + x^107 + x^106 + x^103 + x^102 + x^100 + x^97 + x^96 + x^95 + x^93 + x^90 + x^85 + x^83 + x^82 + x^81 + x^80 + x^76 + x^75 + x^72 + x^69 + x^68 + x^67 + x^65 + x^63 + x^62 + x^57 + x^56 + x^54 + x^51 + x^50 + x^46 + x^45 + x^40 + x^34 + x^30 + x^29 + x^25 + x^24 + x^21 + x^20 + x^17 + x^16 + x^15 + x^11 + x^9 + x^8 + x^7 + x^4 + x^3\n"
     ]
    }
   ],
   "source": [
    "# Teste TODO: Mover isto para a secção de testes\n",
    "\n",
    "(priv_key, sigma, public_key) = keygen()\n",
    "\n",
    "# Print the hex representation of the public key and secret key\n",
    "print(\"public_key: \", public_key.lift())"
   ],
   "metadata": {
    "collapsed": false
   }
  },
  {
   "cell_type": "markdown",
   "source": [
    "### Encapsulamento"
   ],
   "metadata": {
    "collapsed": false
   }
  },
  {
   "cell_type": "code",
   "execution_count": 293,
   "outputs": [],
   "source": [
    "def calculate_c(e0: RElement, e1: RElement, h: RElement, seed: MElement) -> (RElement, MElement):\n",
    "    assert type(e0) == RElement\n",
    "    assert type(e1) == RElement\n",
    "    assert type(h) == RElement\n",
    "    assert type(seed) == MElement\n",
    "\n",
    "    return e0 + e1 * h, seed + L(e0, e1)"
   ],
   "metadata": {
    "collapsed": false
   }
  },
  {
   "cell_type": "code",
   "execution_count": 294,
   "outputs": [],
   "source": [
    "def encapsulate(h: RElement) -> (KElement, (RElement, MElement)):\n",
    "    assert type(h) == RElement\n",
    "\n",
    "    seed: MElement = M.random_element()\n",
    "    (e0, e1) = H(seed)\n",
    "\n",
    "    c = calculate_c(e0, e1, h, seed)\n",
    "    c0, c1 = c\n",
    "\n",
    "    k = K(seed, c0, c1)\n",
    "\n",
    "    return k, c"
   ],
   "metadata": {
    "collapsed": false
   }
  },
  {
   "cell_type": "code",
   "execution_count": 295,
   "outputs": [
    {
     "name": "stdout",
     "output_type": "stream",
     "text": [
      "k:  (0, 0, 0, 0, 0, 1, 0, 0, 1, 1, 1, 0, 1, 0, 0, 0, 1, 0, 0, 1, 1, 1, 1, 1, 1, 0, 0, 1, 0, 1, 0, 1, 1, 1, 0, 1, 1, 1, 0, 0, 0, 1, 0, 0, 0, 1, 1, 1, 0, 0, 0, 1, 0, 1, 1, 1, 0, 1, 0, 0, 1, 0, 0, 0, 1, 1, 0, 0, 0, 0, 0, 1, 1, 0, 0, 1, 1, 1, 0, 1, 0, 0, 1, 0, 1, 1, 0, 1, 0, 1, 1, 0, 1, 1, 0, 0, 1, 1, 1, 0, 1, 1, 0, 0, 1, 0, 0, 1, 0, 0, 0, 1, 1, 1, 1, 0, 1, 1, 1, 0, 0, 0, 0, 1, 1, 1, 1, 1, 1, 1, 0, 0, 0, 0, 0, 0, 1, 1, 1, 1, 1, 1, 1, 0, 0, 1, 0, 1, 0, 0, 0, 0, 1, 1, 0, 1, 1, 0, 1, 0, 1, 1, 1, 0, 1, 1, 1, 0, 1, 1, 1, 0, 0, 0, 0, 1, 0, 1, 1, 0, 1, 0, 1, 1, 0, 1, 0, 1, 0, 0, 0, 0, 0, 1, 1, 1, 0, 0, 0, 0, 0, 1, 0, 0, 0, 1, 0, 1, 0, 0, 1, 0, 1, 1, 0, 1, 1, 0, 1, 1, 0, 1, 0, 0, 1, 1, 0, 1, 1, 1, 0, 1, 0, 0, 1, 1, 0, 1, 0, 0, 1, 1, 0, 1, 0, 0, 0, 1, 0, 0, 1, 1, 0, 0, 1, 1)\n",
      "c:  (xbar^255 + xbar^251 + xbar^250 + xbar^249 + xbar^246 + xbar^245 + xbar^243 + xbar^239 + xbar^238 + xbar^236 + xbar^235 + xbar^234 + xbar^232 + xbar^229 + xbar^227 + xbar^226 + xbar^223 + xbar^216 + xbar^215 + xbar^214 + xbar^212 + xbar^211 + xbar^210 + xbar^204 + xbar^203 + xbar^202 + xbar^201 + xbar^199 + xbar^198 + xbar^196 + xbar^193 + xbar^192 + xbar^191 + xbar^188 + xbar^187 + xbar^185 + xbar^183 + xbar^182 + xbar^181 + xbar^179 + xbar^177 + xbar^175 + xbar^173 + xbar^171 + xbar^169 + xbar^168 + xbar^167 + xbar^166 + xbar^165 + xbar^163 + xbar^162 + xbar^161 + xbar^157 + xbar^156 + xbar^154 + xbar^153 + xbar^152 + xbar^151 + xbar^150 + xbar^148 + xbar^146 + xbar^145 + xbar^144 + xbar^143 + xbar^140 + xbar^139 + xbar^137 + xbar^136 + xbar^130 + xbar^129 + xbar^125 + xbar^122 + xbar^120 + xbar^117 + xbar^115 + xbar^113 + xbar^112 + xbar^109 + xbar^106 + xbar^104 + xbar^103 + xbar^101 + xbar^100 + xbar^99 + xbar^92 + xbar^90 + xbar^89 + xbar^87 + xbar^86 + xbar^84 + xbar^81 + xbar^80 + xbar^79 + xbar^78 + xbar^77 + xbar^76 + xbar^75 + xbar^71 + xbar^68 + xbar^67 + xbar^66 + xbar^65 + xbar^63 + xbar^62 + xbar^61 + xbar^60 + xbar^58 + xbar^57 + xbar^56 + xbar^53 + xbar^52 + xbar^49 + xbar^48 + xbar^45 + xbar^41 + xbar^38 + xbar^37 + xbar^36 + xbar^34 + xbar^33 + xbar^31 + xbar^29 + xbar^28 + xbar^27 + xbar^25 + xbar^21 + xbar^16 + xbar^15 + xbar^14 + xbar^13 + xbar^12 + xbar^8 + xbar^6 + xbar^3 + xbar^2 + xbar, (1, 1, 1, 1, 0, 0, 1, 1, 1, 0, 1, 0, 0, 1, 0, 0, 0, 1, 1, 0, 1, 0, 0, 1, 0, 0, 0, 1, 1, 0, 1, 0, 0, 0, 1, 0, 0, 1, 1, 1, 0, 0, 1, 0, 1, 1, 0, 1, 0, 1, 0, 1, 0, 0, 0, 0, 0, 1, 1, 0, 0, 0, 0, 1, 0, 1, 0, 1, 0, 1, 0, 0, 1, 1, 0, 1, 0, 1, 0, 1, 0, 0, 1, 0, 0, 0, 0, 0, 0, 1, 1, 1, 0, 1, 1, 0, 1, 0, 0, 0, 0, 1, 0, 1, 0, 0, 1, 0, 0, 0, 1, 1, 1, 1, 0, 1, 1, 0, 1, 0, 0, 0, 1, 0, 0, 0, 1, 1, 1, 0, 0, 1, 0, 1, 1, 1, 0, 1, 0, 0, 0, 1, 0, 1, 1, 1, 1, 0, 0, 1, 1, 0, 1, 0, 1, 1, 0, 1, 0, 1, 1, 1, 1, 1, 0, 0, 1, 1, 1, 1, 1, 0, 0, 0, 0, 1, 0, 0, 0, 0, 0, 1, 0, 0, 1, 1, 1, 1, 1, 0, 1, 0, 1, 0, 1, 0, 0, 1, 1, 0, 1, 1, 0, 1, 1, 0, 1, 0, 0, 0, 0, 0, 0, 0, 1, 0, 0, 1, 0, 1, 1, 0, 1, 1, 1, 1, 1, 1, 1, 1, 1, 0, 0, 0, 0, 1, 0, 1, 1, 1, 1, 0, 1, 1, 0, 0, 1, 0, 0, 0, 0, 0, 1, 1, 0, 1))\n"
     ]
    }
   ],
   "source": [
    "# Teste TODO: Mover isto para a secção de testes\n",
    "\n",
    "(priv_key, sigma, public_key) = keygen()\n",
    "\n",
    "(k, c) = encapsulate(public_key)\n",
    "\n",
    "print(\"k: \", k.lift())\n",
    "print(\"c: \", c)"
   ],
   "metadata": {
    "collapsed": false
   }
  },
  {
   "cell_type": "markdown",
   "source": [
    "### Desencapsulamento"
   ],
   "metadata": {
    "collapsed": false
   }
  },
  {
   "cell_type": "code",
   "execution_count": 296,
   "outputs": [],
   "source": [
    "# noinspection PyUnresolvedReferences\n",
    "from sage.matrix.matrix_mod2_dense import Matrix_mod2_dense\n",
    "# noinspection PyUnresolvedReferences\n",
    "from sage.matrix.matrix_integer_dense import Matrix_integer_dense\n",
    "\n",
    "\n",
    "def decoder(x: RElement, h0: RElement, h1: RElement) -> (RElement, RElement):\n",
    "    assert type(x) == RElement\n",
    "    assert type(h0) == RElement\n",
    "    assert type(h1) == RElement\n",
    "\n",
    "    print(\"decoder function\")\n",
    "\n",
    "    # Convert x to a vectorSpace element\n",
    "    x = RElement_to_VectorSpace(x)\n",
    "\n",
    "    H_mat = get_H_matrix(h0, h1)\n",
    "\n",
    "    return BGF(x, H_mat)\n",
    "\n",
    "\n",
    "def BGF(s: Vector_mod2_dense, H: Matrix_mod2_dense) -> (RElement, RElement):\n",
    "    assert type(s) == Vector_mod2_dense\n",
    "    assert type(H) == Matrix_mod2_dense\n",
    "\n",
    "    print(\"BGF function\")\n",
    "    e: Vector_mod2_dense = copy(VectorSpace(GF(2), n).zero())\n",
    "    d = w // 2\n",
    "\n",
    "    HTranspose = H.transpose()\n",
    "\n",
    "    for i in range(1, NbIter + 1):\n",
    "        T = threshold(getHammingWeight(s + e * HTranspose), i)\n",
    "        e, black, gray = BFIter(s + e * HTranspose, e, T, H)\n",
    "        if i == 1:\n",
    "            e = BFMaskedIter(s + e * HTranspose, e, black, ((d + 1) // 2) + 1, H)\n",
    "            e = BFMaskedIter(s + e * HTranspose, e, gray, ((d + 1) // 2) + 1, H)\n",
    "\n",
    "    if s == e * HTranspose:\n",
    "        (e0, e1) = e[:r], e[r:]\n",
    "        return e0, e1\n",
    "    else:\n",
    "        return Rr(0), Rr(0)\n",
    "\n",
    "\n",
    "def BFIter(s: Vector_mod2_dense, e: Vector_mod2_dense, T: int, H: Matrix_mod2_dense) -> (RElement, RElement, RElement):\n",
    "    \"\"\"\n",
    "    Black-Gray-Flip (BGF) BFIter function.\n",
    "    :param s: the syndrome vector\n",
    "    :param e: the error vector\n",
    "    :param T: the threshold\n",
    "    :param H: the parity-check matrix\n",
    "    :return: a tuple containing the updated error vector, the set of black bits, and the set of gray bits\n",
    "    \"\"\"\n",
    "    assert type(s) == Vector_mod2_dense\n",
    "    assert type(e) == Vector_mod2_dense\n",
    "    assert type(T) == int\n",
    "    assert type(H) == Matrix_mod2_dense\n",
    "\n",
    "    n = H.ncols()\n",
    "    black = copy(VectorSpace(GF(2), n).zero())\n",
    "    gray = copy(VectorSpace(GF(2), n).zero())\n",
    "\n",
    "    for j in range(n):\n",
    "        if ctr(H, s, j) >= T:\n",
    "            e[j] += 1\n",
    "            black[j] = 1\n",
    "        elif ctr(H, s, j) >= T - tau:\n",
    "            gray[j] = 1\n",
    "\n",
    "    return e, black, gray\n",
    "\n",
    "\n",
    "def ctr(H: Matrix_mod2_dense, s: Vector_mod2_dense, j: int) -> int:\n",
    "    \"\"\"\n",
    "    ctr(H; s; j). This function computes a quantity referred to as the counter (aka the number of unsatisfied parity-checks) of j.\n",
    "    It is the number of ’1’ (set bits) that appear in the same position in the syndrome s and in the j-th column of the matrix H.\n",
    "    \"\"\"\n",
    "    assert type(H) == Matrix_mod2_dense\n",
    "    assert type(s) == Vector_mod2_dense\n",
    "    assert type(j) == int\n",
    "\n",
    "    return getHammingWeight(s.pairwise_product(H.column(j)))\n",
    "\n",
    "\n",
    "def BFMaskedIter(s: Vector_mod2_dense, e: Vector_mod2_dense, mask: Vector_mod2_dense, T: int,\n",
    "                 H: Matrix_mod2_dense) -> RElement:\n",
    "    \"\"\"\n",
    "    Black-Gray-Flip (BGF) BFMaskedIter function.\n",
    "    :param s: the syndrome vector\n",
    "    :param e: the error vector\n",
    "    :param mask: the mask vector\n",
    "    :param T: the threshold\n",
    "    :param H: the parity-check matrix\n",
    "    :return: the updated error vector\n",
    "    \"\"\"\n",
    "    assert type(s) == Vector_mod2_dense\n",
    "    assert type(e) == Vector_mod2_dense\n",
    "    assert type(mask) == Vector_mod2_dense\n",
    "    assert type(T) == int\n",
    "    assert type(H) == Matrix_mod2_dense\n",
    "\n",
    "    n = H.ncols()\n",
    "\n",
    "    for j in range(n):\n",
    "        if ctr(H, s, j) >= T:\n",
    "            e[j] = e[j] + mask[j]\n",
    "\n",
    "    return e"
   ],
   "metadata": {
    "collapsed": false
   }
  },
  {
   "cell_type": "code",
   "execution_count": 297,
   "outputs": [],
   "source": [
    "def RElement_to_VectorSpace(element: RElement) -> Vector_mod2_dense:\n",
    "    assert type(element) == RElement\n",
    "\n",
    "    elem_coefs = element.lift().list()\n",
    "\n",
    "    v = vector(GF(2), elem_coefs + [0] * (r - len(elem_coefs)))\n",
    "\n",
    "    return v"
   ],
   "metadata": {
    "collapsed": false
   }
  },
  {
   "cell_type": "code",
   "execution_count": 298,
   "outputs": [],
   "source": [
    "def get_H_matrix(h0: RElement, h1: RElement) -> Matrix_integer_dense:\n",
    "    assert type(h0) == RElement\n",
    "\n",
    "    print(\"get_H_matrix function\")\n",
    "\n",
    "    H = block_matrix(1, 2, [get_circulant_matrix(h0), get_circulant_matrix(h1)])\n",
    "\n",
    "    assert H.dimensions() == (r, n)\n",
    "\n",
    "    return H\n",
    "\n",
    "\n",
    "def get_circulant_matrix(element: RElement) -> Matrix_mod2_dense:\n",
    "    assert type(element) == RElement\n",
    "\n",
    "    print(\"get_circulant_matrix function\")\n",
    "    vec = element.lift().list()\n",
    "    # Fill the rest of the vector with zeros\n",
    "    vec = vec + [0] * (r - len(vec))\n",
    "\n",
    "    circ = matrix.circulant(vec)\n",
    "\n",
    "    return circ"
   ],
   "metadata": {
    "collapsed": false
   }
  },
  {
   "cell_type": "code",
   "execution_count": 299,
   "outputs": [],
   "source": [
    "def decapsulate(h0: RElement, h1: RElement, sigma: MElement, c0: RElement, c1: MElement) -> KElement:\n",
    "    assert type(h0) == RElement\n",
    "    assert type(h1) == RElement\n",
    "    assert type(sigma) == MElement\n",
    "    assert type(c0) == RElement\n",
    "    assert type(c1) == MElement\n",
    "\n",
    "    e_ = decoder(c0 * h0, h0, h1)\n",
    "\n",
    "    m_ = c1 + L(e_[0], e_[1])\n",
    "\n",
    "    if e_ == H(m_):\n",
    "        return K(m_, c0, c1)\n",
    "    else:\n",
    "        return K(sigma, c0, c1)"
   ],
   "metadata": {
    "collapsed": false
   }
  },
  {
   "cell_type": "code",
   "execution_count": 303,
   "outputs": [
    {
     "name": "stdout",
     "output_type": "stream",
     "text": [
      "decoder function\n",
      "get_H_matrix function\n",
      "get_circulant_matrix function\n",
      "get_circulant_matrix function\n",
      "BGF function\n",
      "k:  (1, 1, 1, 0, 1, 0, 1, 1, 1, 0, 1, 0, 1, 0, 1, 0, 0, 1, 0, 1, 1, 1, 1, 1, 0, 1, 1, 1, 0, 1, 0, 0, 1, 1, 1, 1, 1, 1, 0, 0, 1, 1, 1, 1, 0, 1, 1, 1, 0, 0, 1, 0, 1, 0, 1, 1, 0, 0, 1, 0, 1, 1, 1, 0, 0, 1, 1, 0, 0, 1, 1, 0, 0, 0, 1, 0, 0, 0, 0, 0, 1, 0, 1, 1, 1, 0, 0, 1, 1, 0, 0, 1, 0, 0, 1, 0, 0, 0, 0, 1, 0, 0, 1, 1, 1, 1, 0, 0, 1, 0, 0, 1, 1, 0, 1, 1, 1, 0, 1, 0, 1, 0, 0, 0, 0, 0, 1, 1, 0, 1, 1, 1, 1, 1, 0, 0, 0, 0, 0, 1, 1, 0, 1, 0, 1, 1, 1, 1, 0, 0, 1, 0, 0, 1, 1, 0, 0, 1, 1, 1, 0, 1, 1, 0, 1, 1, 1, 0, 1, 0, 1, 0, 0, 1, 1, 0, 0, 1, 0, 0, 0, 0, 1, 1, 0, 1, 1, 0, 0, 1, 0, 0, 1, 0, 1, 0, 0, 1, 0, 0, 0, 0, 1, 0, 0, 1, 0, 0, 1, 1, 1, 1, 1, 1, 1, 1, 1, 1, 0, 0, 0, 0, 1, 1, 0, 1, 0, 1, 1, 1, 1, 0, 1, 1, 1, 0, 0, 1, 0, 0, 0, 0, 0, 0, 1, 1, 1, 1, 1, 0, 0, 1, 0, 0, 0, 0)\n",
      "k_:  (0, 1, 0, 1, 0, 1, 1, 1, 0, 0, 0, 0, 1, 1, 1, 0, 1, 1, 0, 0, 0, 1, 1, 0, 1, 0, 0, 1, 1, 0, 0, 1, 1, 0, 1, 0, 1, 0, 1, 1, 1, 1, 1, 1, 1, 0, 1, 0, 0, 0, 0, 1, 1, 1, 1, 0, 0, 1, 1, 1, 0, 0, 0, 0, 0, 0, 1, 0, 1, 1, 1, 0, 1, 1, 0, 0, 0, 1, 0, 0, 1, 0, 1, 1, 0, 0, 0, 0, 1, 0, 0, 0, 0, 0, 1, 1, 1, 1, 1, 1, 0, 0, 0, 0, 1, 1, 1, 0, 0, 1, 1, 0, 0, 1, 1, 0, 0, 0, 0, 1, 1, 0, 0, 0, 0, 1, 0, 1, 1, 1, 0, 0, 0, 0, 0, 0, 1, 1, 1, 0, 1, 0, 0, 0, 0, 0, 0, 1, 0, 0, 1, 0, 1, 0, 0, 0, 0, 1, 0, 0, 0, 0, 0, 0, 1, 0, 0, 1, 1, 0, 0, 1, 0, 1, 0, 0, 0, 0, 0, 0, 0, 0, 0, 1, 0, 0, 1, 0, 1, 1, 0, 1, 1, 1, 1, 1, 1, 1, 1, 1, 0, 1, 1, 0, 1, 1, 0, 0, 0, 0, 1, 1, 0, 0, 0, 1, 0, 1, 1, 1, 0, 1, 0, 1, 1, 0, 1, 1, 1, 0, 0, 0, 0, 1, 0, 0, 0, 1, 0, 0, 1, 0, 0, 0, 1, 1, 0, 0, 0, 1, 1, 1, 0, 1, 1, 0)\n",
      "Total bits:  256\n",
      "Different bits:  126\n"
     ]
    }
   ],
   "source": [
    "# Teste TODO: Mover isto para a secção de testes\n",
    "\n",
    "(priv_key, sigma, public_key) = keygen()\n",
    "\n",
    "(k, (c0, c1)) = encapsulate(public_key)\n",
    "\n",
    "k_ = decapsulate(*priv_key, sigma, c0, c1)\n",
    "\n",
    "print(\"k: \", k)\n",
    "print(\"k_: \", k_)\n",
    "\n",
    "print(\"Total bits: \", l)\n",
    "print(\"Different bits: \", getHammingWeight(k - k_))"
   ],
   "metadata": {
    "collapsed": false
   }
  },
  {
   "cell_type": "markdown",
   "source": [
    "## KEM (Key Encapsulation Mechanism) - IND-CPA (INDistinguishable under Chosen Plaintext Attack)"
   ],
   "metadata": {
    "collapsed": false
   }
  },
  {
   "cell_type": "markdown",
   "source": [
    "## PKE (Public Key Encryption) - IND-CCA (INDistinguishable under Chosen Ciphertext Attack)"
   ],
   "metadata": {
    "collapsed": false
   }
  },
  {
   "cell_type": "code",
   "execution_count": 285,
   "outputs": [],
   "source": [
    "def encrypt(h: RElement, m: MElement) -> (RElement, MElement):\n",
    "    e0 = generate_sparse(t, r)\n",
    "    e1 = generate_sparse(t, r)\n",
    "\n",
    "    c0 = e0 + e1 * h\n",
    "    c1 = m + L(e0, e1)\n",
    "\n",
    "    return c0, c1"
   ],
   "metadata": {
    "collapsed": false
   }
  },
  {
   "cell_type": "code",
   "execution_count": 180,
   "outputs": [],
   "source": [
    "def decrypt(h0: RElement, h1: RElement, s: RElement) -> (RElement, RElement):\n",
    "    return decoder(s * h0, h0, h1)"
   ],
   "metadata": {
    "collapsed": false
   }
  },
  {
   "cell_type": "code",
   "execution_count": 301,
   "outputs": [
    {
     "ename": "TypeError",
     "evalue": "'sage.modules.vector_mod2_dense.Vector_mod2_dense' object cannot be interpreted as an integer",
     "output_type": "error",
     "traceback": [
      "\u001B[0;31m---------------------------------------------------------------------------\u001B[0m",
      "\u001B[0;31mTypeError\u001B[0m                                 Traceback (most recent call last)",
      "\u001B[0;32m/tmp/ipykernel_211/3594150499.py\u001B[0m in \u001B[0;36m<module>\u001B[0;34m\u001B[0m\n\u001B[1;32m      6\u001B[0m \u001B[0;34m(\u001B[0m\u001B[0mc0\u001B[0m\u001B[0;34m,\u001B[0m \u001B[0mc1\u001B[0m\u001B[0;34m)\u001B[0m \u001B[0;34m=\u001B[0m \u001B[0mencrypt\u001B[0m\u001B[0;34m(\u001B[0m\u001B[0mpublic_key\u001B[0m\u001B[0;34m,\u001B[0m \u001B[0mmessageM\u001B[0m\u001B[0;34m)\u001B[0m\u001B[0;34m\u001B[0m\u001B[0;34m\u001B[0m\u001B[0m\n\u001B[1;32m      7\u001B[0m \u001B[0;34m\u001B[0m\u001B[0m\n\u001B[0;32m----> 8\u001B[0;31m \u001B[0mm_\u001B[0m \u001B[0;34m=\u001B[0m \u001B[0mdecrypt\u001B[0m\u001B[0;34m(\u001B[0m\u001B[0mpriv_key\u001B[0m\u001B[0;34m,\u001B[0m \u001B[0mc0\u001B[0m\u001B[0;34m,\u001B[0m \u001B[0mc1\u001B[0m\u001B[0;34m)\u001B[0m\u001B[0;34m\u001B[0m\u001B[0;34m\u001B[0m\u001B[0m\n\u001B[0m",
      "\u001B[0;32m/tmp/ipykernel_211/3770459140.py\u001B[0m in \u001B[0;36mdecrypt\u001B[0;34m(h0, h1, s)\u001B[0m\n\u001B[1;32m      1\u001B[0m \u001B[0;32mdef\u001B[0m \u001B[0mdecrypt\u001B[0m\u001B[0;34m(\u001B[0m\u001B[0mh0\u001B[0m\u001B[0;34m:\u001B[0m \u001B[0mRElement\u001B[0m\u001B[0;34m,\u001B[0m \u001B[0mh1\u001B[0m\u001B[0;34m:\u001B[0m \u001B[0mRElement\u001B[0m\u001B[0;34m,\u001B[0m \u001B[0ms\u001B[0m\u001B[0;34m:\u001B[0m \u001B[0mRElement\u001B[0m\u001B[0;34m)\u001B[0m \u001B[0;34m->\u001B[0m \u001B[0;34m(\u001B[0m\u001B[0mRElement\u001B[0m\u001B[0;34m,\u001B[0m \u001B[0mRElement\u001B[0m\u001B[0;34m)\u001B[0m\u001B[0;34m:\u001B[0m\u001B[0;34m\u001B[0m\u001B[0;34m\u001B[0m\u001B[0m\n\u001B[0;32m----> 2\u001B[0;31m     \u001B[0;32mreturn\u001B[0m \u001B[0mdecoder\u001B[0m\u001B[0;34m(\u001B[0m\u001B[0ms\u001B[0m \u001B[0;34m*\u001B[0m \u001B[0mh0\u001B[0m\u001B[0;34m,\u001B[0m \u001B[0mh0\u001B[0m\u001B[0;34m,\u001B[0m \u001B[0mh1\u001B[0m\u001B[0;34m)\u001B[0m\u001B[0;34m\u001B[0m\u001B[0;34m\u001B[0m\u001B[0m\n\u001B[0m",
      "\u001B[0;32m/usr/lib/python3/dist-packages/sage/structure/element.pyx\u001B[0m in \u001B[0;36msage.structure.element.Vector.__mul__ (build/cythonized/sage/structure/element.c:22545)\u001B[0;34m()\u001B[0m\n\u001B[1;32m   3482\u001B[0m         \u001B[0;32mif\u001B[0m \u001B[0mhave_same_parent\u001B[0m\u001B[0;34m(\u001B[0m\u001B[0mleft\u001B[0m\u001B[0;34m,\u001B[0m \u001B[0mright\u001B[0m\u001B[0;34m)\u001B[0m\u001B[0;34m:\u001B[0m\u001B[0;34m\u001B[0m\u001B[0;34m\u001B[0m\u001B[0m\n\u001B[1;32m   3483\u001B[0m             \u001B[0;32mreturn\u001B[0m \u001B[0;34m(\u001B[0m\u001B[0;34m<\u001B[0m\u001B[0mVector\u001B[0m\u001B[0;34m>\u001B[0m\u001B[0mleft\u001B[0m\u001B[0;34m)\u001B[0m\u001B[0;34m.\u001B[0m\u001B[0m_dot_product_\u001B[0m\u001B[0;34m(\u001B[0m\u001B[0;34m<\u001B[0m\u001B[0mVector\u001B[0m\u001B[0;34m>\u001B[0m\u001B[0mright\u001B[0m\u001B[0;34m)\u001B[0m\u001B[0;34m\u001B[0m\u001B[0;34m\u001B[0m\u001B[0m\n\u001B[0;32m-> 3484\u001B[0;31m         \u001B[0;32mreturn\u001B[0m \u001B[0mcoercion_model\u001B[0m\u001B[0;34m.\u001B[0m\u001B[0mbin_op\u001B[0m\u001B[0;34m(\u001B[0m\u001B[0mleft\u001B[0m\u001B[0;34m,\u001B[0m \u001B[0mright\u001B[0m\u001B[0;34m,\u001B[0m \u001B[0mmul\u001B[0m\u001B[0;34m)\u001B[0m\u001B[0;34m\u001B[0m\u001B[0;34m\u001B[0m\u001B[0m\n\u001B[0m\u001B[1;32m   3485\u001B[0m \u001B[0;34m\u001B[0m\u001B[0m\n\u001B[1;32m   3486\u001B[0m     \u001B[0mcpdef\u001B[0m \u001B[0m_dot_product_\u001B[0m\u001B[0;34m(\u001B[0m\u001B[0mVector\u001B[0m \u001B[0mleft\u001B[0m\u001B[0;34m,\u001B[0m \u001B[0mVector\u001B[0m \u001B[0mright\u001B[0m\u001B[0;34m)\u001B[0m\u001B[0;34m:\u001B[0m\u001B[0;34m\u001B[0m\u001B[0;34m\u001B[0m\u001B[0m\n",
      "\u001B[0;32m/usr/lib/python3/dist-packages/sage/structure/coerce.pyx\u001B[0m in \u001B[0;36msage.structure.coerce.CoercionModel.bin_op (build/cythonized/sage/structure/coerce.c:11745)\u001B[0;34m()\u001B[0m\n\u001B[1;32m   1240\u001B[0m             \u001B[0mmul_method\u001B[0m \u001B[0;34m=\u001B[0m \u001B[0mgetattr\u001B[0m\u001B[0;34m(\u001B[0m\u001B[0my\u001B[0m\u001B[0;34m,\u001B[0m \u001B[0;34m'__r%s__'\u001B[0m\u001B[0;34m%\u001B[0m\u001B[0mop_name\u001B[0m\u001B[0;34m,\u001B[0m \u001B[0;32mNone\u001B[0m\u001B[0;34m)\u001B[0m\u001B[0;34m\u001B[0m\u001B[0;34m\u001B[0m\u001B[0m\n\u001B[1;32m   1241\u001B[0m             \u001B[0;32mif\u001B[0m \u001B[0mmul_method\u001B[0m \u001B[0;32mis\u001B[0m \u001B[0;32mnot\u001B[0m \u001B[0;32mNone\u001B[0m\u001B[0;34m:\u001B[0m\u001B[0;34m\u001B[0m\u001B[0;34m\u001B[0m\u001B[0m\n\u001B[0;32m-> 1242\u001B[0;31m                 \u001B[0mres\u001B[0m \u001B[0;34m=\u001B[0m \u001B[0mmul_method\u001B[0m\u001B[0;34m(\u001B[0m\u001B[0mx\u001B[0m\u001B[0;34m)\u001B[0m\u001B[0;34m\u001B[0m\u001B[0;34m\u001B[0m\u001B[0m\n\u001B[0m\u001B[1;32m   1243\u001B[0m                 \u001B[0;32mif\u001B[0m \u001B[0mres\u001B[0m \u001B[0;32mis\u001B[0m \u001B[0;32mnot\u001B[0m \u001B[0;32mNone\u001B[0m \u001B[0;32mand\u001B[0m \u001B[0mres\u001B[0m \u001B[0;32mis\u001B[0m \u001B[0;32mnot\u001B[0m \u001B[0mNotImplemented\u001B[0m\u001B[0;34m:\u001B[0m\u001B[0;34m\u001B[0m\u001B[0;34m\u001B[0m\u001B[0m\n\u001B[1;32m   1244\u001B[0m                     \u001B[0;32mreturn\u001B[0m \u001B[0mres\u001B[0m\u001B[0;34m\u001B[0m\u001B[0;34m\u001B[0m\u001B[0m\n",
      "\u001B[0;31mTypeError\u001B[0m: 'sage.modules.vector_mod2_dense.Vector_mod2_dense' object cannot be interpreted as an integer"
     ]
    }
   ],
   "source": [
    "(priv_key, sigma, public_key) = keygen()\n",
    "\n",
    "message = \"Hello World!\"\n",
    "messageM = bytes_to_M(bytes(message, 'utf-8'))\n",
    "\n",
    "(c0, c1) = encrypt(public_key, messageM)\n",
    "\n",
    "m_ = decrypt(priv_key, c0, c1)"
   ],
   "metadata": {
    "collapsed": false
   }
  },
  {
   "cell_type": "code",
   "execution_count": null,
   "outputs": [],
   "source": [],
   "metadata": {
    "collapsed": false,
    "pycharm": {
     "is_executing": true
    }
   }
  },
  {
   "cell_type": "code",
   "execution_count": null,
   "outputs": [],
   "source": [],
   "metadata": {
    "collapsed": false,
    "pycharm": {
     "is_executing": true
    }
   }
  },
  {
   "cell_type": "code",
   "execution_count": 181,
   "outputs": [],
   "source": [],
   "metadata": {
    "collapsed": false
   }
  }
 ],
 "metadata": {
  "kernelspec": {
   "display_name": "Python 3",
   "language": "python",
   "name": "python3"
  },
  "language_info": {
   "codemirror_mode": {
    "name": "ipython",
    "version": 2
   },
   "file_extension": ".py",
   "mimetype": "text/x-python",
   "name": "python",
   "nbconvert_exporter": "python",
   "pygments_lexer": "ipython2",
   "version": "2.7.6"
  }
 },
 "nbformat": 4,
 "nbformat_minor": 0
}
