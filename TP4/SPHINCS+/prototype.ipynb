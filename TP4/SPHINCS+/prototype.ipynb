{
 "cells": [
  {
   "cell_type": "markdown",
   "source": [
    "# Prototype SPHINCS+\n",
    "\n",
    "## Enunciado do Problema\n",
    "\n",
    "Neste trabalho pretende-se implementar em Sagemath de algumas dos candidatos a “standartização” ao concurso NIST Post-Quantum Cryptography na categoria de esquemas de assinatura digital. Ver também a diretoria com a documentação. Construa\n",
    "- Um protótipo Sagemath do algoritmo Sphincs+.\n",
    "\n",
    "## Descrição do Problema\n",
    "O problema consiste em implementar um protótipo do algoritmo **SPHINCS+**.\n",
    "\n",
    "## Abordagem\n",
    "Através da documentação disponibilizada no site oficial do [SPHINCS+](https://sphincs.org/), foi possível dividir o problema em várias partes:\n",
    "1. Definição dos parâmetros\n",
    "2. Funções matemáticas necessárias\n",
    "3. Funções auxiliares necessárias\n",
    "4. Definição da classe ADRS\n",
    "5. Funções de hash\n",
    "6. Funções de WOTS+\n",
    "7. Funções de XMSS\n",
    "8. Funções do Hypertree\n",
    "9. Funções de FORS\n",
    "10. Funções de SPHINCS+\n",
    "\n",
    "## Código\n",
    "Segue-se o código desenvolvido para este protótipo do algoritmo **SPHINCS+**"
   ],
   "metadata": {
    "collapsed": false
   }
  },
  {
   "cell_type": "markdown",
   "source": [
    "### Definição dos parâmetros\n",
    "\n",
    "Foram definidos os parâmetros da variante **SPHINCS+-128s**."
   ],
   "metadata": {
    "collapsed": false
   }
  },
  {
   "cell_type": "code",
   "execution_count": 1,
   "outputs": [],
   "source": [
    "RANDOMIZE = True\n",
    "\n",
    "n = 16  # The security parameter in bytes\n",
    "w = 16  # The Winternitz parameter\n",
    "h = 63  # The height of the hypertree\n",
    "d = 7  # The number of layers in the hypertree\n",
    "k = 14  # The number of trees in FORS\n",
    "a = 12  # The number of leaves of a FORS tree (lg t)\n",
    "t = 2 ^ a  # The number of leaves of a FORS tree"
   ],
   "metadata": {
    "collapsed": false
   }
  },
  {
   "cell_type": "markdown",
   "source": [
    "### Math Functions needed"
   ],
   "metadata": {
    "collapsed": false
   }
  },
  {
   "cell_type": "code",
   "execution_count": 2,
   "outputs": [],
   "source": [
    "def lg(x: int) -> float:\n",
    "    return math.log(x, 2)\n",
    "\n",
    "\n",
    "def ceil(x: float) -> int:\n",
    "    return math.ceil(x)\n",
    "\n",
    "\n",
    "def floor(x: float) -> int:\n",
    "    return math.floor(x)"
   ],
   "metadata": {
    "collapsed": false
   }
  },
  {
   "cell_type": "markdown",
   "source": [
    "### Compute the message digest lenght and the number of n-byte string elements in WOTS+ private key, public key and signature values"
   ],
   "metadata": {
    "collapsed": false
   }
  },
  {
   "cell_type": "code",
   "execution_count": 3,
   "outputs": [],
   "source": [
    "m_digest_len = floor((k * lg(t) + 7) / 8) + floor((h - h / d + 7) / 8) + floor((h / d + 7) / 8)\n",
    "\n",
    "len_1 = ceil(8 * n / lg(w))\n",
    "len_2 = floor(lg(len_1 * (w - 1)) / lg(w)) + 1\n",
    "_len = len_1 + len_2"
   ],
   "metadata": {
    "collapsed": false
   }
  },
  {
   "cell_type": "markdown",
   "source": [
    "### Function toByte"
   ],
   "metadata": {
    "collapsed": false
   }
  },
  {
   "cell_type": "code",
   "execution_count": 4,
   "outputs": [
    {
     "name": "stdout",
     "output_type": "stream",
     "text": [
      "b'\\x00\\xff'\n"
     ]
    }
   ],
   "source": [
    "def toByte(x: int, y: int):\n",
    "    \"\"\"\n",
    "    x, y non-negative integers\n",
    "    x - number to be converted\n",
    "    y - number of bytes in the output\n",
    "    Z = toByte(x, y) is the y-byte string representation of x\n",
    "    \"\"\"\n",
    "\n",
    "    return int(x).to_bytes(int(y), 'big')\n",
    "\n",
    "\n",
    "x = 255\n",
    "y = 2\n",
    "\n",
    "result = toByte(x, y)\n",
    "print(result)  # Output: b'\\x00\\xff'"
   ],
   "metadata": {
    "collapsed": false
   }
  },
  {
   "cell_type": "markdown",
   "source": [
    "### Function base_w"
   ],
   "metadata": {
    "collapsed": false
   }
  },
  {
   "cell_type": "code",
   "execution_count": 5,
   "outputs": [
    {
     "name": "stdout",
     "output_type": "stream",
     "text": [
      "[1, 2, 3, 4]\n"
     ]
    }
   ],
   "source": [
    "from typing import List\n",
    "\n",
    "\n",
    "def base_w(X: str, w: int, out_len: int) -> List[int]:\n",
    "    \"\"\"\n",
    "    Input: len_X-byte string X, int w, output length out_len\n",
    "    Output: out_len int array basew\n",
    "    \"\"\"\n",
    "    _in = 0\n",
    "    out = 0\n",
    "    total = 0\n",
    "    bits = 0\n",
    "    basew = []\n",
    "\n",
    "    for consumed in range(out_len):\n",
    "        if bits == 0:\n",
    "            total = X[_in]\n",
    "            _in += 1\n",
    "            bits += 8\n",
    "        bits -= int(lg(w))\n",
    "        basew.append((total >> bits) & (w - 1))\n",
    "        out += 1\n",
    "\n",
    "    return basew\n",
    "\n",
    "\n",
    "X = b'\\x12\\x34'\n",
    "w = 16\n",
    "out_len = 4\n",
    "\n",
    "result = base_w(X, w, out_len)\n",
    "print(result)  # Output: [1, 2, 3, 4]"
   ],
   "metadata": {
    "collapsed": false
   }
  },
  {
   "cell_type": "markdown",
   "source": [
    "## ADRS"
   ],
   "metadata": {
    "collapsed": false
   }
  },
  {
   "cell_type": "code",
   "execution_count": 6,
   "outputs": [],
   "source": [
    "class ADRS:\n",
    "    # Types\n",
    "    TYPE_WOTS = 0\n",
    "    TYPE_WOTSPK = 1\n",
    "    TYPE_HASHTREE = 2\n",
    "    TYPE_FORSTREE = 3\n",
    "    TYPE_FORSPK = 4\n",
    "\n",
    "    def __init__(self):\n",
    "        self.layer_address = 0\n",
    "        self.tree_address = 0\n",
    "        self.type = 0\n",
    "\n",
    "        # Differs from type to type\n",
    "        self.word1 = 0\n",
    "        self.word2 = 0\n",
    "        self.word3 = 0\n",
    "\n",
    "    def copy(self):\n",
    "        adrs = ADRS()\n",
    "        adrs.layer_address = self.layer_address\n",
    "        adrs.tree_address = self.tree_address\n",
    "\n",
    "        adrs.type = self.type\n",
    "        adrs.word1 = self.word1\n",
    "        adrs.word2 = self.word2\n",
    "        adrs.word3 = self.word3\n",
    "        return adrs\n",
    "\n",
    "    def to_bytes(self):\n",
    "        adrs = toByte(self.layer_address, 4)\n",
    "        adrs += toByte(self.tree_address, 12)\n",
    "\n",
    "        adrs += toByte(self.type, 4)\n",
    "        adrs += toByte(self.word1, 4)\n",
    "        adrs += toByte(self.word2, 4)\n",
    "        adrs += toByte(self.word3, 4)\n",
    "\n",
    "        return adrs\n",
    "\n",
    "    def reset_words(self):\n",
    "        self.word1 = 0\n",
    "        self.word2 = 0\n",
    "        self.word3 = 0\n",
    "\n",
    "    def set_type(self, val):\n",
    "        self.type = val\n",
    "\n",
    "        self.word2 = 0\n",
    "        self.word3 = 0\n",
    "        self.word1 = 0\n",
    "\n",
    "    def set_layer_address(self, val):\n",
    "        self.layer_address = val\n",
    "\n",
    "    def set_tree_address(self, val):\n",
    "        self.tree_address = val\n",
    "\n",
    "    def set_key_pair_address(self, val):\n",
    "        self.word1 = val\n",
    "\n",
    "    def get_key_pair_address(self):\n",
    "        return self.word1\n",
    "\n",
    "    def set_chain_address(self, val):\n",
    "        self.word2 = val\n",
    "\n",
    "    def set_hash_address(self, val):\n",
    "        self.word3 = val\n",
    "\n",
    "    def set_tree_height(self, val):\n",
    "        self.word2 = val\n",
    "\n",
    "    def get_tree_height(self):\n",
    "        return self.word2\n",
    "\n",
    "    def set_tree_index(self, val):\n",
    "        self.word3 = val\n",
    "\n",
    "    def get_tree_index(self):\n",
    "        return self.word3"
   ],
   "metadata": {
    "collapsed": false
   }
  },
  {
   "cell_type": "markdown",
   "source": [
    "### F, H, T Functions (Tweakable Hash Functions)\n",
    "\n",
    "For the simple variant, we instead define the tweakable hash functions as\n",
    "```math\n",
    "F(PK.seed, ADRS, M1) = SHAKE256(PK.seed || ADRS|| M1, 8n),\n",
    "```\n",
    "```math\n",
    "H(PK.seed, ADRS, M1||M2) = SHAKE256(PK.seed || ADRS || M1 || M2, 8n),\n",
    "```\n",
    "```math\n",
    "T(PK.seed, ADRS, M) = SHAKE256(PK.seed || ADRS || M, 8n)\n",
    "```"
   ],
   "metadata": {
    "collapsed": false
   }
  },
  {
   "cell_type": "code",
   "execution_count": 7,
   "outputs": [],
   "source": [
    "def F(pk_seed: bytes, adrs: ADRS, m: bytes) -> bytes:\n",
    "    \"\"\"\n",
    "    Input: pk_seed, adrs, m\n",
    "    Output: m hash\n",
    "    \"\"\"\n",
    "    sha256 = hashlib.sha256()\n",
    "\n",
    "    sha256.update(pk_seed)\n",
    "    sha256.update(adrs.to_bytes())\n",
    "    sha256.update(m)\n",
    "\n",
    "    pre_hashed = sha256.digest()\n",
    "    hashed = pre_hashed[:m_digest_len]\n",
    "\n",
    "    return hashed\n",
    "\n",
    "\n",
    "\n",
    "def H(seed, adrs: ADRS, value, digest_size=n):\n",
    "    \"\"\"\n",
    "    Input: seed, adrs, value\n",
    "    Output: digest_size-byte hash\n",
    "    \"\"\"\n",
    "    m = hashlib.sha256()\n",
    "\n",
    "    m.update(seed)\n",
    "    m.update(adrs.to_bytes())\n",
    "    m.update(value)\n",
    "\n",
    "    pre_hashed = m.digest()\n",
    "    hashed = pre_hashed[:digest_size]\n",
    "\n",
    "    return hashed\n",
    "\n",
    "\n",
    "def PRF(secret_seed, adrs):\n",
    "    random.seed(int.from_bytes(secret_seed + adrs.to_bytes(), \"big\"))\n",
    "    return int(random.randint(0, 256 ^ n)).to_bytes(n, byteorder='big')\n",
    "\n",
    "\n",
    "def hash_msg(r, public_seed, public_root, value, digest_size=n):\n",
    "    m = hashlib.sha256()\n",
    "\n",
    "    m.update(str(r).encode('ASCII'))\n",
    "    m.update(public_seed)\n",
    "    m.update(public_root)\n",
    "    m.update(value)\n",
    "\n",
    "    pre_hashed = m.digest()\n",
    "    hashed     = pre_hashed[:digest_size]\n",
    "    i = 0\n",
    "    while len(hashed) < digest_size:\n",
    "        i += 1\n",
    "        m = hashlib.sha256()\n",
    "\n",
    "        m.update(str(r).encode('ASCII'))\n",
    "        m.update(public_seed)\n",
    "        m.update(public_root)\n",
    "        m.update(value)\n",
    "        m.update(bytes([i]))\n",
    "\n",
    "        hashed += m.digest()[:digest_size - len(hashed)]\n",
    "\n",
    "    return hashed\n",
    "\n",
    "\n",
    "def PRF_msg(secret_seed, opt, m):\n",
    "    random.seed(int.from_bytes(secret_seed + opt + hash_msg(b'0', b'0', b'0', m, n*2), \"big\"))\n",
    "    return int(random.randint(0, 256 ^ n)).to_bytes(n, byteorder='big')\n",
    "\n",
    "def mgf1_sha256(seed, mask_len):\n",
    "    output = b\"\"\n",
    "    counter = int(0)\n",
    "\n",
    "    while len(output) < mask_len:\n",
    "        c = int.to_bytes(counter, length=4, byteorder='big')\n",
    "        data = seed + c\n",
    "        hash_value = hashlib.sha256(data).digest()\n",
    "        output += hash_value\n",
    "        counter += 1\n",
    "\n",
    "    return output[:mask_len]\n",
    "\n",
    "\n",
    "def H_msg(R, PK_seed, PK_root, M, mask_len=m_digest_len):\n",
    "    input_data = R + PK_seed + PK_root + M\n",
    "    hash_input = hashlib.sha256(input_data).digest()\n",
    "    mask = mgf1_sha256(hash_input, mask_len)\n",
    "    return mask"
   ],
   "metadata": {
    "collapsed": false
   }
  },
  {
   "cell_type": "markdown",
   "source": [
    "## WOTS+ (Winternitz One Time Signature Plus)\n",
    "\n",
    "Foram definidas as seguintes funções para o esquema WOTS+:\n",
    "- `chain`: função que itera a função F s vezes em uma string X\n",
    "- `wots_sk_gen`: gera a chave privada WOTS+ a partir de uma seed secreta SK.seed (não é usada no algoritmo em si, apenas para ajudar a perceber o funcionamento dos algoritmos)\n",
    "- `wots_pk_gen`: gera a chave pública WOTS+ a partir de uma chave privada sk\n",
    "- `wots_sign`: gera uma assinatura WOTS+ a partir de uma mensagem M e uma chave privada sk\n",
    "- `wots_pk_from_sig`: calcula a chave pública WOTS+ a partir de uma assinatura sig e uma mensagem M"
   ],
   "metadata": {
    "collapsed": false
   }
  },
  {
   "cell_type": "code",
   "execution_count": 8,
   "outputs": [],
   "source": [
    "from typing import Optional\n",
    "\n",
    "\n",
    "def chain(x, i, s, pk_seed, adrs: ADRS) -> Optional[bytes]:\n",
    "    \"\"\"\n",
    "    Input: Input string X, start index i, number of steps s, public seed PK.seed, address ADRS\n",
    "    Output: value of F iterated s times on X\n",
    "    \"\"\"\n",
    "    if s == 0:\n",
    "        return bytes(x)\n",
    "\n",
    "    if (i + s) > (w - 1):\n",
    "        return None\n",
    "\n",
    "    tmp = chain(x, i, s - 1, pk_seed, adrs)\n",
    "\n",
    "    adrs.set_hash_address(i + s - 1)\n",
    "    tmp = F(pk_seed, adrs, tmp)\n",
    "\n",
    "    return tmp\n",
    "\n",
    "\n",
    "def wots_sk_gen(sk_seed, adrs: ADRS):\n",
    "    \"\"\"\n",
    "    Input: secret seed SK.seed, address ADRS\n",
    "    Output: WOTS+ private key sk\n",
    "    \"\"\"\n",
    "    sk = []\n",
    "    for i in range(0, _len):\n",
    "        adrs.set_chain_address(i)\n",
    "        adrs.set_hash_address(0)\n",
    "        sk.append(PRF(sk_seed, adrs))\n",
    "    return sk\n",
    "\n",
    "\n",
    "def wots_pk_gen(sk_seed, pk_seed, adrs: ADRS):\n",
    "    \"\"\"\n",
    "    Input: secret seed SK.seed, address ADRS, public seed PK.seed\n",
    "    Output: WOTS+ public key pk\n",
    "    \"\"\"\n",
    "    wots_pk_adrs = adrs.copy()\n",
    "    tmp = bytes()\n",
    "    for i in range(0, _len):\n",
    "        adrs.set_chain_address(i)\n",
    "        adrs.set_hash_address(0)\n",
    "        sk = PRF(sk_seed, adrs)\n",
    "        tmp += bytes(chain(sk, 0, w - 1, pk_seed, adrs.copy()))\n",
    "\n",
    "    wots_pk_adrs.set_type(ADRS.TYPE_WOTSPK)\n",
    "    wots_pk_adrs.set_key_pair_address(adrs.get_key_pair_address())\n",
    "\n",
    "    pk = F(pk_seed, wots_pk_adrs, tmp)  # T_len(PK.seed, wotspkADRS, tmp);\n",
    "\n",
    "    return pk\n",
    "\n",
    "\n",
    "def wots_sign(m, sk_seed, pk_seed, adrs):\n",
    "    \"\"\"\n",
    "    Input: Message M, secret seed SK.seed, public seed PK.seed, address ADRS\n",
    "    Output: WOTS+ signature sig\n",
    "    \"\"\"\n",
    "    csum = 0\n",
    "\n",
    "    # convert message to base w\n",
    "    msg = base_w(m, w, len_1)\n",
    "\n",
    "    # compute checksum\n",
    "    for i in range(len_1):\n",
    "        csum = csum + w - 1 - msg[i]\n",
    "\n",
    "    # convert checksum to base w\n",
    "    if (lg(w) % 8) != 0:\n",
    "        csum = csum << (8 - ((len_2 * lg(w)) % 8))\n",
    "\n",
    "    len_2_bytes = ceil((len_2 * lg(w)) / 8)\n",
    "    msg = msg + base_w(toByte(csum, len_2_bytes), w, len_2)\n",
    "\n",
    "    sig = []\n",
    "    for i in range(0, _len):\n",
    "        adrs.set_chain_address(i)\n",
    "        adrs.set_hash_address(0)\n",
    "        sk = PRF(sk_seed, adrs.copy())\n",
    "        sig.append(chain(sk, 0, msg[i], pk_seed, adrs.copy()))\n",
    "\n",
    "    return sig\n",
    "\n",
    "\n",
    "def wots_pk_from_sig(sig, m, pk_seed, adrs: ADRS):\n",
    "    \"\"\"\n",
    "    Input: Message M, WOTS+ signature sig, address ADRS, public seed PK.seed\n",
    "    Output: WOTS+ public key pk_sig derived from sig\n",
    "    \"\"\"\n",
    "    csum = 0\n",
    "    wots_pk_adrs = adrs.copy()\n",
    "\n",
    "    # convert message to base w\n",
    "    msg = base_w(m, w, len_1)\n",
    "\n",
    "    # compute checksum\n",
    "    for i in range(0, len_1):\n",
    "        csum += w - 1 - msg[i]\n",
    "\n",
    "    # convert checksum to base w\n",
    "    csum = csum << (8 - ((len_2 * lg(w)) % 8))\n",
    "    len_2_bytes = ceil((len_2 * lg(w)) / 8)\n",
    "    msg = msg + base_w(toByte(csum, len_2_bytes), w, len_2)\n",
    "\n",
    "    tmp = bytes()\n",
    "    for i in range(0, _len):\n",
    "        adrs.set_chain_address(i)\n",
    "        tmp += chain(sig[i], msg[i], w - 1 - msg[i], pk_seed, adrs.copy())\n",
    "\n",
    "    wots_pk_adrs.set_type(ADRS.TYPE_WOTSPK)\n",
    "    wots_pk_adrs.set_key_pair_address(adrs.get_key_pair_address())\n",
    "    pk_sig = F(pk_seed, wots_pk_adrs, tmp)\n",
    "\n",
    "    return pk_sig"
   ],
   "metadata": {
    "collapsed": false
   }
  },
  {
   "cell_type": "markdown",
   "source": [
    "### XMSS (eXtended Merkle Signature Scheme)\n",
    "\n",
    "As principais funções definidas para o esquema XMSS foram:\n",
    "- `treehash`: calcula o nodo raiz de uma árvore de altura `h` com a folha mais à esquerda com a chave `pk` no index `s`.\n",
    "- `xmss_pk_gen`: gera a chave pública do esquema XMSS.\n",
    "- `xmss_sign`: gera uma assinatura para a mensagem `m` com a chave privada `sk`.\n",
    "- `xmss_pk_from_sig`: calcula a chave pública de uma assinatura"
   ],
   "metadata": {
    "collapsed": false
   }
  },
  {
   "cell_type": "code",
   "execution_count": 9,
   "outputs": [],
   "source": [
    "# XMSS Sub-Trees height\n",
    "_h = h // d\n",
    "\n",
    "def sig_wots_from_sig_xmss(sig):\n",
    "    return sig[0:_len]\n",
    "\n",
    "\n",
    "def auth_from_sig_xmss(sig):\n",
    "    return sig[_len:]\n",
    "\n",
    "\n",
    "def sigs_xmss_from_sig_ht(sig):\n",
    "    sigs = []\n",
    "    for i in range(0, d):\n",
    "        sigs.append(sig[i * (_h + _len):(i + 1) * (_h + _len)])\n",
    "\n",
    "    return sigs\n",
    "\n",
    "\n",
    "def auths_from_sig_fors(sig):\n",
    "    sigs = []\n",
    "    for i in range(0, k):\n",
    "        sigs.append([])\n",
    "        sigs[i].append(sig[(a + 1) * i])\n",
    "        sigs[i].append(sig[((a + 1) * i + 1):((a + 1) * (i + 1))])\n",
    "\n",
    "    return sigs"
   ],
   "metadata": {
    "collapsed": false
   }
  },
  {
   "cell_type": "code",
   "execution_count": 10,
   "outputs": [],
   "source": [
    "def treehash(secret_seed, s, z, public_seed, adrs: ADRS):\n",
    "    \"\"\"\n",
    "    Input: Secret seed SK.seed, start index s, target node height z, public seed PK.seed, address ADRS\n",
    "    Output: n-byte root node - top node on Stack\n",
    "    \"\"\"\n",
    "    if s % (1 << z) != 0:\n",
    "        return -1\n",
    "\n",
    "    stack = []\n",
    "\n",
    "    for i in range(0, 2^z):\n",
    "        adrs.set_type(ADRS.TYPE_WOTS)\n",
    "        adrs.set_key_pair_address(s + i)\n",
    "        node = wots_pk_gen(secret_seed, public_seed, adrs.copy())\n",
    "\n",
    "        adrs.set_type(ADRS.TYPE_HASHTREE)\n",
    "        adrs.set_tree_height(1)\n",
    "        adrs.set_tree_index(s + i)\n",
    "\n",
    "        if len(stack) > 0:\n",
    "            while stack[len(stack) - 1]['height'] == adrs.get_tree_height():\n",
    "                adrs.set_tree_index((adrs.get_tree_index() - 1) // 2)\n",
    "                node = H(public_seed, adrs.copy(), stack.pop()['node'] + node, n)\n",
    "                adrs.set_tree_height(adrs.get_tree_height() + 1)\n",
    "\n",
    "                if len(stack) <= 0:\n",
    "                    break\n",
    "\n",
    "        stack.append({'node': node, 'height': adrs.get_tree_height()})\n",
    "\n",
    "    return stack.pop()['node']\n",
    "\n",
    "\n",
    "def xmss_pk_gen(secret_seed, public_key, adrs: ADRS):\n",
    "    \"\"\"\n",
    "    Input: Secret seed SK.seed, public seed PK.seed, address ADRS\n",
    "    Output: XMSS public key PK\n",
    "    \"\"\"\n",
    "    pk = treehash(secret_seed, 0, _h, public_key, adrs.copy())\n",
    "    return pk\n",
    "\n",
    "\n",
    "def xmss_sign(m, secret_seed, idx, public_seed, adrs):\n",
    "    \"\"\"\n",
    "    Input: n-byte message M, secret seed SK.seed, index idx, public seed PK.seed, address ADRS\n",
    "    Output: XMSS signature SIG_XMSS = (sig || AUTH)\n",
    "    \"\"\"\n",
    "    auth = []\n",
    "    for j in range(0, _h):\n",
    "        ki = floor(idx // 2^j)\n",
    "        if ki % 2 == 1: # XOR\n",
    "            ki -= 1\n",
    "        else:\n",
    "            ki += 1\n",
    "\n",
    "        auth.append(treehash(secret_seed, ki * 2^j, j, public_seed, adrs.copy()))\n",
    "\n",
    "    adrs.set_type(ADRS.TYPE_WOTS)\n",
    "    adrs.set_key_pair_address(idx)\n",
    "\n",
    "    sig = wots_sign(m, secret_seed, public_seed, adrs.copy())\n",
    "    sig_xmss = sig + auth\n",
    "    return sig_xmss\n",
    "\n",
    "\n",
    "def xmss_pk_from_sig(idx, sig_xmss, m, pk_seed, adrs):\n",
    "    \"\"\"\n",
    "    Input: index idx, XMSS signature SIG_XMSS = (sig || AUTH), n-byte message M, public seed PK.seed, address ADRS\n",
    "    Output: n-byte root value node[0]\n",
    "    \"\"\"\n",
    "    adrs.set_type(ADRS.TYPE_WOTS)\n",
    "    adrs.set_key_pair_address(idx)\n",
    "    sig = sig_wots_from_sig_xmss(sig_xmss)\n",
    "    auth = auth_from_sig_xmss(sig_xmss)\n",
    "\n",
    "    node_0 = wots_pk_from_sig(sig, m, pk_seed, adrs.copy())\n",
    "\n",
    "    adrs.set_type(ADRS.TYPE_HASHTREE)\n",
    "    adrs.set_tree_index(idx)\n",
    "    for i in range(0, _h):\n",
    "        adrs.set_tree_height(i + 1)\n",
    "\n",
    "        if math.floor(idx / 2^i) % 2 == 0:\n",
    "            adrs.set_tree_index(adrs.get_tree_index() // 2)\n",
    "            node_1 = H(pk_seed, adrs.copy(), node_0 + auth[i], n)\n",
    "        else:\n",
    "            adrs.set_tree_index( (adrs.get_tree_index() - 1) // 2)\n",
    "            node_1 = H(pk_seed, adrs.copy(), auth[i] + node_0, n)\n",
    "\n",
    "        node_0 = node_1\n",
    "\n",
    "    return node_0"
   ],
   "metadata": {
    "collapsed": false
   }
  },
  {
   "cell_type": "markdown",
   "source": [
    "### HyperTree\n",
    "\n",
    "É essencialmente uma árvore de certificação de instâncias XMSS.\n",
    "\n",
    "Foram definidas as seguintes funções:\n",
    "- `ht_pkGen`: gera a chave pública a partir da seed privada e pública.\n",
    "- `ht_sign`: gera a assinatura a partir da mensagem, seed privada e pública, índice da árvore e índice da folha.\n",
    "- `ht_verify`: verifica a assinatura a partir da mensagem, chave pública, índice da árvore e índice da folha."
   ],
   "metadata": {
    "collapsed": false
   }
  },
  {
   "cell_type": "code",
   "execution_count": 11,
   "outputs": [],
   "source": [
    "def ht_pkGen(sk_seed, pk_seed):\n",
    "    \"\"\"\n",
    "    Input: Private seed SK.seed, public seed PK.seed\n",
    "    Output: HT public key PK_HT\n",
    "    \"\"\"\n",
    "    adrs = ADRS()  # Análogo a initializar 32 bytes a 0 (toBytes(0, 32) na especificação)\n",
    "    adrs.set_layer_address(d - 1)\n",
    "    adrs.set_tree_address(0)\n",
    "    root = xmss_pk_gen(sk_seed, pk_seed, adrs.copy())\n",
    "    return root\n",
    "\n",
    "def ht_sign(m, secret_seed, public_seed, idx_tree, idx_leaf):\n",
    "    \"\"\"\n",
    "    Input: Message M, private seed SK.seed, public seed PK.seed, tree index idx_tree, leaf index idx_leaf\n",
    "    Output: HT signature SIG_HT\n",
    "    \"\"\"\n",
    "    # init\n",
    "    adrs = ADRS()  # Análogo a initializar 32 bytes a 0 (toBytes(0, 32) na especificação)\n",
    "\n",
    "    # sign\n",
    "    adrs.set_layer_address(0)\n",
    "    adrs.set_tree_address(idx_tree)\n",
    "    sig_tmp = xmss_sign(m, secret_seed, idx_leaf, public_seed, adrs.copy())\n",
    "    sig_ht = sig_tmp\n",
    "    root = xmss_pk_from_sig(idx_leaf, sig_tmp, m, public_seed, adrs.copy())\n",
    "\n",
    "    for j in range(1, d):\n",
    "        idx_leaf = idx_tree % 2 ^ _h\n",
    "        idx_tree = idx_tree >> _h\n",
    "\n",
    "        adrs.set_layer_address(j)\n",
    "        adrs.set_tree_address(idx_tree)\n",
    "\n",
    "        sig_tmp = xmss_sign(root, secret_seed, idx_leaf, public_seed, adrs.copy())\n",
    "        sig_ht = sig_ht + sig_tmp\n",
    "\n",
    "        if j < d - 1:\n",
    "            root = xmss_pk_from_sig(idx_leaf, sig_tmp, root, public_seed, adrs.copy())\n",
    "\n",
    "    return sig_ht\n",
    "\n",
    "def ht_verify(m, sig_ht, public_seed, idx_tree, idx_leaf, public_key_ht):\n",
    "    \"\"\"\n",
    "    Input: Message M, signature SIG_HT, public seed PK.seed, tree index idx_tree, leaf index idx_leaf, HT public key PK_HT\n",
    "    Output: Boolean\n",
    "    \"\"\"\n",
    "    # init\n",
    "    adrs = ADRS()  # Análogo a initializar 32 bytes a 0 (toBytes(0, 32) na especificação)\n",
    "\n",
    "    # verify\n",
    "    sigs_xmss = sigs_xmss_from_sig_ht(sig_ht)\n",
    "    sig_tmp = sigs_xmss[0]\n",
    "    adrs.set_layer_address(0)\n",
    "    adrs.set_tree_address(idx_tree)\n",
    "    node = xmss_pk_from_sig(idx_leaf, sig_tmp, m, public_seed, adrs)\n",
    "\n",
    "    for j in range(1, d):\n",
    "        idx_leaf = idx_tree % 2 ^ _h\n",
    "        idx_tree = idx_tree >> _h\n",
    "\n",
    "        sig_tmp = sigs_xmss[j]\n",
    "\n",
    "        adrs.set_layer_address(j)\n",
    "        adrs.set_tree_address(idx_tree)\n",
    "\n",
    "        node = xmss_pk_from_sig(idx_leaf, sig_tmp, node, public_seed, adrs)\n",
    "\n",
    "    if node == public_key_ht:\n",
    "        return True\n",
    "    else:\n",
    "        return False"
   ],
   "metadata": {
    "collapsed": false
   }
  },
  {
   "cell_type": "markdown",
   "source": [
    "### FORS (Forest of Random Subsets)\n",
    "\n",
    "Função fors_SKgen:\n",
    "- `fors_SKgen`: gera a chave privada a partir da seed privada, endereço e índice.\n",
    "- `fors_treehash`: calcula o nodo raiz da árvore de altura z com a folha mais à esquerda com o hash da chave privada no indice s.\n",
    "- `fors_PKgen`: gera a chave pública a partir da seed privada e pública (não é usada no algoritmo em si, apenas para ajudar a perceber o funcionamento dos algoritmos).\n",
    "- `fors_sign`: gera a assinatura a partir da mensagem, seed privada e pública, índice da árvore e índice da folha.\n",
    "-`fors_pkFromSig`: gera a chave pública a partir da assinatura, mensagem, índice da árvore, índice da folha, seed pública e endereço."
   ],
   "metadata": {
    "collapsed": false
   }
  },
  {
   "cell_type": "code",
   "execution_count": 12,
   "outputs": [],
   "source": [
    "\n",
    "def fors_SKgen(secret_seed, adrs: ADRS, idx):\n",
    "    \"\"\"\n",
    "    Input: secret seed SK.seed, address ADRS, secret key index idx = it+j\n",
    "    Output: FORS private key sk\n",
    "    \"\"\"\n",
    "    adrs.set_tree_height(0)\n",
    "    adrs.set_tree_index(idx)\n",
    "    sk = PRF(secret_seed, adrs.copy())\n",
    "\n",
    "    return sk\n",
    "\n",
    "\n",
    "def fors_treehash(secret_seed, s, z, public_seed, adrs):\n",
    "    \"\"\"\n",
    "    Input: Secret seed SK.seed, start index s, target node height z, public seed PK.seed, address ADRS\n",
    "    Output: n-byte root node - top node on Stack\n",
    "    \"\"\"\n",
    "    if s % (1 << z) != 0:\n",
    "        return -1\n",
    "\n",
    "    stack = []\n",
    "\n",
    "    for i in range(0, 2^z):\n",
    "        adrs.set_tree_height(0)\n",
    "        adrs.set_tree_index(s + i)\n",
    "        sk = PRF(secret_seed, adrs.copy())\n",
    "        node = H(public_seed, adrs.copy(), sk, n)\n",
    "\n",
    "        adrs.set_tree_height(1)\n",
    "        adrs.set_tree_index(s + i)\n",
    "        if len(stack) > 0:\n",
    "            while stack[len(stack) - 1]['height'] == adrs.get_tree_height():\n",
    "                adrs.set_tree_index((adrs.get_tree_index() - 1) // 2)\n",
    "                node = H(public_seed, adrs.copy(), stack.pop()['node'] + node, n)\n",
    "\n",
    "                adrs.set_tree_height(adrs.get_tree_height() + 1)\n",
    "\n",
    "                if len(stack) <= 0:\n",
    "                    break\n",
    "        stack.append({'node': node, 'height': adrs.get_tree_height()})\n",
    "\n",
    "    return stack.pop()['node']\n",
    "\n",
    "def fors_PKgen(secret_seed, public_seed, adrs: ADRS):\n",
    "    \"\"\"\n",
    "    Input: Secret seed SK.seed, public seed PK.seed, address ADRS\n",
    "    Output: FORS public key PK\n",
    "    \"\"\"\n",
    "    fors_pk_adrs = adrs.copy()\n",
    "\n",
    "    root = bytes()\n",
    "    for i in range(0, k):\n",
    "        root += fors_treehash(secret_seed, i * t, a, public_seed, adrs)\n",
    "\n",
    "    fors_pk_adrs.set_type(ADRS.TYPE_FORSPK)\n",
    "    fors_pk_adrs.set_key_pair_address(adrs.get_key_pair_address())\n",
    "    pk = H(public_seed, fors_pk_adrs, root)\n",
    "    return pk\n",
    "\n",
    "def fors_sign(m, secret_seed, public_seed, adrs):\n",
    "    \"\"\"\n",
    "    Input: Bit string M, secret seed SK.seed, address ADRS, public seed PK.seed\n",
    "    Output: FORS signature SIG_FORS\n",
    "    \"\"\"\n",
    "    m_int = int.from_bytes(m, 'big')\n",
    "    sig_fors = []\n",
    "\n",
    "    for i in range(0, k):\n",
    "        idx = (m_int >> (k - 1 - i) * a) % t\n",
    "\n",
    "        adrs.set_tree_height(0)\n",
    "        adrs.set_tree_index(i * t + idx)\n",
    "        sig_fors += [PRF(secret_seed, adrs.copy())]\n",
    "\n",
    "        auth = []\n",
    "\n",
    "        for j in range(0, a):\n",
    "            s = math.floor(idx // 2 ^ j)\n",
    "            if s % 2 == 1:  # XOR 1\n",
    "                s -= 1\n",
    "            else:\n",
    "                s += 1\n",
    "\n",
    "            auth += [fors_treehash(secret_seed, i * t + s * 2^j, j, public_seed, adrs.copy())]\n",
    "\n",
    "        sig_fors += auth\n",
    "\n",
    "    return sig_fors\n",
    "\n",
    "def fors_pkFromSig(sig_fors, m, public_seed, adrs: ADRS):\n",
    "    \"\"\"\n",
    "    Input: FORS signature SIG_FORS, (k lg t)-bit string M, public seed PK.seed, address ADRS\n",
    "    Output: FORS public key\n",
    "    \"\"\"\n",
    "    m_int = int.from_bytes(m, 'big')\n",
    "\n",
    "    sigs = auths_from_sig_fors(sig_fors)\n",
    "    root = bytes()\n",
    "\n",
    "    for i in range(0, k):\n",
    "        idx = (m_int >> (k - 1 - i) * a) % t\n",
    "\n",
    "        sk = sigs[i][0]\n",
    "        adrs.set_tree_height(0)\n",
    "        adrs.set_tree_index(i * t + idx)\n",
    "        node_0 = H(public_seed, adrs.copy(), sk)\n",
    "\n",
    "        auth = sigs[i][1]\n",
    "        adrs.set_tree_index(i * t + idx)\n",
    "\n",
    "        for j in range(0, a):\n",
    "            adrs.set_tree_height(j+1)\n",
    "\n",
    "            if math.floor(idx / 2^j) % 2 == 0:\n",
    "                adrs.set_tree_index(adrs.get_tree_index() // 2)\n",
    "                node_1 = H(public_seed, adrs.copy(), node_0 + auth[j], n)\n",
    "            else:\n",
    "                adrs.set_tree_index((adrs.get_tree_index() - 1) // 2)\n",
    "                node_1 = H(public_seed, adrs.copy(), auth[j] + node_0, n)\n",
    "\n",
    "            node_0 = node_1\n",
    "\n",
    "        root += node_0\n",
    "\n",
    "    fors_pk_adrs = adrs.copy()\n",
    "    fors_pk_adrs.set_type(ADRS.TYPE_FORSPK)\n",
    "    fors_pk_adrs.set_key_pair_address(adrs.get_key_pair_address())\n",
    "\n",
    "    pk = H(public_seed, fors_pk_adrs, root, n)\n",
    "    return pk"
   ],
   "metadata": {
    "collapsed": false
   }
  },
  {
   "cell_type": "markdown",
   "source": [
    "## SPHINCS+\n",
    "\n",
    "As principais funções desenvolvidas foram:\n",
    "- `spx_keygen()`: Gera um par de chaves SPHINCS+. Retorna um tuplo `(SK, PK)`, onde `SK` é a chave privada e `PK` é a chave pública.\n",
    "- `spx_sign(m, SK, PK)`: Gera uma assinatura SPHINCS+ para a mensagem `m` com a chave privada `SK` e a chave pública `PK`. Retorna a assinatura correspondente.\n",
    "- `spx_verify(m, sig, PK)`: Verifica se a assinatura `sig` é válida para a mensagem `m` e a chave pública `PK`. Retorna `True` se a assinatura for válida e `False` caso contrário."
   ],
   "metadata": {
    "collapsed": false
   }
  },
  {
   "cell_type": "code",
   "execution_count": 13,
   "outputs": [],
   "source": [
    "def sec_rand(n):\n",
    "    return os.urandom(n)"
   ],
   "metadata": {
    "collapsed": false
   }
  },
  {
   "cell_type": "markdown",
   "source": [
    "#### Types used in SPHINCS+"
   ],
   "metadata": {
    "collapsed": false
   }
  },
  {
   "cell_type": "code",
   "execution_count": 14,
   "outputs": [],
   "source": [
    "from typing import Tuple\n",
    "\n",
    "SK = Tuple[bytes, bytes, bytes, bytes]  # (SK.seed, SK.prf, PK.seed, PK.root) (n bytes, n bytes, n bytes, n bytes)\n",
    "\n",
    "PK = Tuple[bytes, bytes]  # (PK.seed, PK.root) (n bytes, n bytes)\n",
    "\n",
    "SIG = Tuple[bytes, bytes, bytes]  # (R, SIG_FORS, SIG_HT) (n bytes, k*(a+1)*n bytes, (h+d*len)*n bytes)"
   ],
   "metadata": {
    "collapsed": false
   }
  },
  {
   "cell_type": "code",
   "execution_count": 15,
   "outputs": [],
   "source": [
    "import math\n",
    "import hashlib\n",
    "import random  # Only for Pseudo-randoms\n",
    "import os  # Secure Randoms\n",
    "\n",
    "\n",
    "# Input: (none)\n",
    "# Output: SPHINCS+ key pair (SK, PK)\n",
    "def spx_keygen() -> (SK, PK):\n",
    "    sk_seed = sec_rand(n)\n",
    "    sk_prf = sec_rand(n)\n",
    "    pk_seed = sec_rand(n)\n",
    "\n",
    "    pk_root = ht_pkGen(sk_seed, pk_seed)\n",
    "\n",
    "    sk: SK = (sk_seed, sk_prf, pk_seed, pk_root)\n",
    "    pk: PK = (pk_seed, pk_root)\n",
    "\n",
    "    return sk, pk"
   ],
   "metadata": {
    "collapsed": false
   }
  },
  {
   "cell_type": "code",
   "execution_count": 16,
   "outputs": [],
   "source": [
    "# Input: Message M, private key SK = (SK.seed, SK.prf, PK.seed, PK.root)\n",
    "# Output: SPHINCS+ signature SIG\n",
    "def spx_sign(m: bytes, sk: SK) -> SIG:\n",
    "    # init\n",
    "    adrs = ADRS()  # Análogo a initializar 32 bytes a 0 (toBytes(0, 32) na especificação)\n",
    "\n",
    "    (sk_seed, sk_prf, pk_seed, pk_root) = sk\n",
    "\n",
    "    # Generate randomizer\n",
    "    opt = toByte(0, n)\n",
    "    if RANDOMIZE:\n",
    "        opt = sec_rand(n)\n",
    "    R = PRF_msg(sk_prf, opt, m)\n",
    "    sig = [R]  # SIG = SIG || R\n",
    "\n",
    "    # Tamanhos a usar no digest\n",
    "    size_md = floor((k * a + 7) / 8)\n",
    "    size_idx_tree = floor((h - h / d + 7) / 8)\n",
    "\n",
    "    # compute message digest and index\n",
    "\n",
    "    digest = H_msg(R, pk_seed, pk_root, m)\n",
    "    tmp_md = digest[:size_md]\n",
    "    tmp_idx_tree = digest[size_md:(size_md + size_idx_tree)]\n",
    "    tmp_idx_leaf = digest[(size_md + size_idx_tree):len(digest)]\n",
    "\n",
    "    md_int = int.from_bytes(tmp_md, 'big') >> (len(tmp_md) * 8 - k * a)\n",
    "    md = int(md_int).to_bytes(math.ceil(k * a / 8), 'big')\n",
    "\n",
    "    idx_tree = int.from_bytes(tmp_idx_tree, 'big') >> (len(tmp_idx_tree) * 8 - (h - h // d))\n",
    "    idx_leaf = int.from_bytes(tmp_idx_leaf, 'big') >> (len(tmp_idx_leaf) * 8 - (h // d))\n",
    "\n",
    "    # FORS sign\n",
    "    adrs.set_layer_address(0)\n",
    "    adrs.set_tree_address(idx_tree)\n",
    "    adrs.set_type(ADRS.TYPE_FORSTREE)\n",
    "    adrs.set_key_pair_address(idx_leaf)\n",
    "\n",
    "    sig_fors = fors_sign(md, sk_seed, pk_seed, adrs.copy())\n",
    "    sig += [sig_fors]\n",
    "\n",
    "    # Get FORS public key\n",
    "    pk_fors = fors_pkFromSig(sig_fors, md, pk_seed, adrs.copy())\n",
    "\n",
    "    # Sign FORS public key with HT\n",
    "    adrs.set_type(ADRS.TYPE_HASHTREE)\n",
    "    sig_ht = ht_sign(pk_fors, sk_seed, pk_seed, idx_tree, idx_leaf)\n",
    "    sig += [sig_ht]\n",
    "\n",
    "    return sig"
   ],
   "metadata": {
    "collapsed": false
   }
  },
  {
   "cell_type": "code",
   "execution_count": 17,
   "outputs": [],
   "source": [
    "# Input: Message M, signature SIG, public key PK\n",
    "# Output: Boolean\n",
    "def spx_verify(m: bytes, sig: SIG, public_key: PK) -> bool:\n",
    "    # init\n",
    "    adrs = ADRS()  # Análogo a initializar 32 bytes a 0 (toBytes(0, 32) na especificação)\n",
    "    (r, sig_fors, sig_ht) = sig\n",
    "\n",
    "    public_seed = public_key[0]\n",
    "    public_root = public_key[1]\n",
    "\n",
    "    # Tamanhos a usar no digest\n",
    "    size_md = math.floor((k * a + 7) / 8)\n",
    "    size_idx_tree = math.floor((h - h // d + 7) / 8)\n",
    "\n",
    "    # Compute message digest and index\n",
    "    digest = H_msg(r, public_seed, public_root, m)\n",
    "    tmp_md = digest[:size_md]\n",
    "    tmp_idx_tree = digest[size_md:(size_md + size_idx_tree)]\n",
    "    tmp_idx_leaf = digest[(size_md + size_idx_tree):len(digest)]\n",
    "\n",
    "    md_int = int.from_bytes(tmp_md, 'big') >> (len(tmp_md) * 8 - k * a)\n",
    "    md = int(md_int).to_bytes(math.ceil(k * a / 8), 'big')\n",
    "\n",
    "    idx_tree = int.from_bytes(tmp_idx_tree, 'big') >> (len(tmp_idx_tree) * 8 - (h - h // d))\n",
    "    idx_leaf = int.from_bytes(tmp_idx_leaf, 'big') >> (len(tmp_idx_leaf) * 8 - (h // d))\n",
    "\n",
    "    # Compute FORS public key\n",
    "    adrs.set_layer_address(0)\n",
    "    adrs.set_tree_address(idx_tree)\n",
    "    adrs.set_type(ADRS.TYPE_FORSTREE)\n",
    "    adrs.set_key_pair_address(idx_leaf)\n",
    "\n",
    "    pk_fors = fors_pkFromSig(sig_fors, md, public_seed, adrs)\n",
    "\n",
    "    # Verify HT signature\n",
    "    adrs.set_type(ADRS.TYPE_HASHTREE)\n",
    "    return ht_verify(pk_fors, sig_ht, public_seed, idx_tree, idx_leaf, public_root)"
   ],
   "metadata": {
    "collapsed": false
   }
  },
  {
   "cell_type": "markdown",
   "source": [
    "## Testes/Exemplos\n",
    "\n",
    "Por fim, foi testada a implementação do SPHINCS+, com casos de teste bastante simples:\n",
    "- Geração de chaves\n",
    "- Assinatura da mensagem\n",
    "- Verificação da assinatura\n",
    "- Verificação de uma assinatura com uma mensagem diferente (de modo, a falhar a verificação)"
   ],
   "metadata": {
    "collapsed": false
   }
  },
  {
   "cell_type": "code",
   "execution_count": 18,
   "outputs": [
    {
     "name": "stdout",
     "output_type": "stream",
     "text": [
      "Par de chaves gerado com sucesso!\n",
      "CPU times: user 1.22 s, sys: 0 ns, total: 1.22 s\n",
      "Wall time: 1.21 s\n"
     ]
    }
   ],
   "source": [
    "%%time\n",
    "\n",
    "# Gerar as chaves pública e privada\n",
    "sk, pk = spx_keygen()\n",
    "print(\"Par de chaves gerado com sucesso!\")"
   ],
   "metadata": {
    "collapsed": false
   }
  },
  {
   "cell_type": "code",
   "execution_count": 19,
   "outputs": [
    {
     "name": "stdout",
     "output_type": "stream",
     "text": [
      "Mensagem: b'Grande SPHINCS+!'\n",
      "CPU times: user 9.61 s, sys: 15 ms, total: 9.63 s\n",
      "Wall time: 9.66 s\n"
     ]
    }
   ],
   "source": [
    "%%time\n",
    "m = b\"Grande SPHINCS+!\"\n",
    "\n",
    "print(\"Mensagem:\", m)\n",
    "\n",
    "s = spx_sign(m, sk)"
   ],
   "metadata": {
    "collapsed": false
   }
  },
  {
   "cell_type": "code",
   "execution_count": 20,
   "outputs": [
    {
     "name": "stdout",
     "output_type": "stream",
     "text": [
      "Mensagem assinada com sucesso!\n",
      "Assinatura correta!\n",
      "CPU times: user 15 ms, sys: 0 ns, total: 15 ms\n",
      "Wall time: 9.6 ms\n"
     ]
    }
   ],
   "source": [
    "%%time\n",
    "print(\"Mensagem assinada com sucesso!\")\n",
    "\n",
    "print(\"Assinatura correta!\" if spx_verify(m, s, pk) else \"Assinatura INCORRETA!\")\n"
   ],
   "metadata": {
    "collapsed": false
   }
  },
  {
   "cell_type": "code",
   "execution_count": 21,
   "outputs": [
    {
     "name": "stdout",
     "output_type": "stream",
     "text": [
      "Mensagem assinada com sucesso!\n",
      "Assinatura INCORRETA!\n",
      "CPU times: user 16 ms, sys: 0 ns, total: 16 ms\n",
      "Wall time: 10.1 ms\n"
     ]
    }
   ],
   "source": [
    "%%time\n",
    "print(\"Mensagem assinada com sucesso!\")\n",
    "\n",
    "m = b\"Grande SPHINCS++!\"  # Mensagem diferente\n",
    "print(\"Assinatura correta!\" if spx_verify(m, s, pk) else \"Assinatura INCORRETA!\")\n"
   ],
   "metadata": {
    "collapsed": false
   }
  }
 ],
 "metadata": {
  "kernelspec": {
   "display_name": "SageMath 9.3",
   "language": "sage",
   "name": "sagemath"
  },
  "language_info": {
   "codemirror_mode": {
    "name": "ipython",
    "version": 3
   },
   "file_extension": ".py",
   "mimetype": "text/x-python",
   "name": "python",
   "nbconvert_exporter": "python",
   "pygments_lexer": "ipython3",
   "version": "3.7.10"
  }
 },
 "nbformat": 4,
 "nbformat_minor": 0
}
