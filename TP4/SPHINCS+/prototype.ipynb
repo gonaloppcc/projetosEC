{
 "cells": [
  {
   "attachments": {},
   "cell_type": "markdown",
   "metadata": {},
   "source": [
    "# Prototype SPHINCS+\n",
    "\n",
    "## Enunciado do Problema\n",
    "\n",
    "Neste trabalho pretende-se implementar em Sagemath de algumas dos candidatos a “standartização” ao concurso NIST Post-Quantum Cryptography na categoria de esquemas de assinatura digital. Ver também a directoria com a documentação. Construa\n",
    "- Um protótipo Sagemath do algoritmo Sphincs+.\n",
    "\n",
    "## Descrição do Problema\n",
    "\n",
    "\n",
    "## Abordagem\n",
    "\n",
    "## Código\n",
    "\n",
    "Segue-se o código desenvolvido para este protótipo do algoritmo **SPHINCS+**"
   ]
  },
  {
   "attachments": {},
   "cell_type": "markdown",
   "metadata": {},
   "source": [
    "### Definição dos parâmetros\n",
    "\n",
    "Os parâmetros foram definidos para a variante **SPHINCS+-128s**"
   ]
  },
  {
   "cell_type": "code",
   "execution_count": 12,
   "metadata": {
    "vscode": {
     "languageId": "python"
    }
   },
   "outputs": [],
   "source": [
    "n = 16    # The security parameter in bytes\n",
    "w = 16    # The Winternitz parameter\n",
    "h = 63    # The height of the hypertree\n",
    "d = 7     # The number of layers in the hypertree\n",
    "k = 14    # The number of trees in FORS\n",
    "a = 12    # The number of leaves of a FORS tree"
   ]
  },
  {
   "attachments": {},
   "cell_type": "markdown",
   "metadata": {},
   "source": [
    "### Math Functions needed"
   ]
  },
  {
   "cell_type": "code",
   "execution_count": 24,
   "metadata": {
    "vscode": {
     "languageId": "python"
    }
   },
   "outputs": [],
   "source": [
    "import math\n",
    "\n",
    "\n",
    "def lg(x: int) -> float:\n",
    "    return math.log(x, 2)\n",
    "\n",
    "def ceil(x: float) -> int:\n",
    "    return math.ceil(x)\n",
    "\n",
    "def floor(x: float) -> int:\n",
    "    return math.floor(x)"
   ]
  },
  {
   "attachments": {},
   "cell_type": "markdown",
   "metadata": {},
   "source": [
    "### Function toByte"
   ]
  },
  {
   "cell_type": "code",
   "execution_count": 33,
   "metadata": {
    "vscode": {
     "languageId": "python"
    }
   },
   "outputs": [
    {
     "name": "stdout",
     "output_type": "stream",
     "text": [
      "b'\\x00\\xff'\n"
     ]
    }
   ],
   "source": [
    "def toByte(x: int, y: int):\n",
    "    \"\"\"\n",
    "    x, y non-negative integers\n",
    "    x - number to be converted\n",
    "    y - number of bytes in the output\n",
    "    Z = toByte(x, y) is the y-byte string representation of x\n",
    "    \"\"\"\n",
    "\n",
    "    return x.to_bytes(y, 'big')\n",
    "\n",
    "\n",
    "x = 255\n",
    "y = 2\n",
    "\n",
    "result = toByte(x, y)\n",
    "print(result)  # Output: b'\\x00\\xff'\n"
   ]
  },
  {
   "attachments": {},
   "cell_type": "markdown",
   "metadata": {},
   "source": [
    "### Function base_w"
   ]
  },
  {
   "cell_type": "code",
   "execution_count": 22,
   "metadata": {
    "vscode": {
     "languageId": "python"
    }
   },
   "outputs": [
    {
     "name": "stdout",
     "output_type": "stream",
     "text": [
      "[1, 2, 3, 4]\n"
     ]
    }
   ],
   "source": [
    "from typing import List\n",
    "\n",
    "def base_w(X: str, w: int, out_len: int) -> List[int]:\n",
    "    \"\"\"\n",
    "    Input: len_X-byte string X, int w, output length out_len\n",
    "    Output: out_len int array basew\n",
    "    \"\"\"\n",
    "    _in = 0\n",
    "    out = 0\n",
    "    total = 0\n",
    "    bits = 0\n",
    "    basew = []\n",
    "\n",
    "    for consumed in range(out_len):\n",
    "        if bits == 0:\n",
    "            total = X[_in]\n",
    "            _in += 1\n",
    "            bits += 8\n",
    "        bits -= int(lg(w))\n",
    "        basew.append((total >> bits) & (w - 1))\n",
    "        out += 1\n",
    "\n",
    "    return basew\n",
    "\n",
    "X = b'\\x12\\x34'\n",
    "w = 16\n",
    "out_len = 4\n",
    "\n",
    "result = base_w(X, w, out_len)\n",
    "print(result)  # Output: [1, 2, 3, 4]\n",
    "\n",
    "# TODO: Add Assert verifications in all functions\n"
   ]
  },
  {
   "cell_type": "markdown",
   "metadata": {},
   "source": [
    "### Definição da estrutura do ADRS"
   ]
  },
  {
   "cell_type": "code",
   "execution_count": null,
   "metadata": {
    "vscode": {
     "languageId": "python"
    }
   },
   "outputs": [],
   "source": [
    "class ADRS:\n",
    "    # Types\n",
    "    TYPE_WOTS = 0\n",
    "    TYPE_WOTSPK = 1\n",
    "    TYPE_HASHTREE = 2\n",
    "    TYPE_FORSTREE = 3\n",
    "    TYPE_FORSPK = 4\n",
    "\n",
    "    def __init__(self):\n",
    "        self.layer_address = 0\n",
    "        self.tree_address = 0\n",
    "        self.type = 0\n",
    "\n",
    "        # Differs from type to type\n",
    "        self.word1 = 0\n",
    "        self.word2 = 0\n",
    "        self.word3 = 0\n",
    "\n",
    "    # Setters\n",
    "    def set_layer_address(self, layer_address: int):\n",
    "        self.layer_address = layer_address\n",
    "\n",
    "    def set_tree_address(self, tree_address: int):\n",
    "        self.tree_address = tree_address\n",
    "\n",
    "    def set_type(self, type: int):\n",
    "        self.type = type\n",
    "\n",
    "    def set_word1(self, word1: int):\n",
    "        self.word1 = word1\n",
    "\n",
    "    def set_word2(self, word2: int):\n",
    "        self.word2 = word2\n",
    "\n",
    "    def set_word3(self, word3: int):\n",
    "        self.word3 = word3\n",
    "\n",
    "    # Specific setters for each type\n",
    "    def set_hash_address(self, hash_address: int):\n",
    "        self.set_word1(hash_address)\n",
    "\n",
    "    def to_bytes(self) -> bytes:\n",
    "        result = b''\n",
    "        result += toByte(self.layer_address, 4)\n",
    "        result += toByte(self.tree_address, 12)\n",
    "        result += toByte(self.type, 4)\n",
    "        result += toByte(self.word1, 4)\n",
    "        result += toByte(self.word2, 4)\n",
    "        result += toByte(self.word3, 4)\n",
    "\n",
    "        return result"
   ]
  },
  {
   "attachments": {},
   "cell_type": "markdown",
   "metadata": {},
   "source": [
    "### F, H, T Functions (Tweakable Hash Functions)\n",
    "\n",
    "For the simple variant, we instead define the tweakable F functions as\n",
    "```math\n",
    "F(PK.seed, ADRS, M1) = SHAKE256(PK.seed || ADRS|| M1, 8n),\n",
    "H(PK.seed, ADRS, M1||M2) = SHAKE256(PK.seed || ADRS || M1 || M2, 8n),\n",
    "T(PK.seed, ADRS, M) = SHAKE256(PK.seed || ADRS || M, 8n)\n",
    "```"
   ]
  },
  {
   "cell_type": "code",
   "execution_count": 34,
   "metadata": {
    "vscode": {
     "languageId": "python"
    }
   },
   "outputs": [],
   "source": [
    "import hashlib\n",
    "\n",
    "\n",
    "def T(pk_seed: bytes, adrs: ADRS, m: bytes) -> bytes:\n",
    "    \"\"\"\n",
    "    Input: pk_seed, adrs, m\n",
    "    Output: m F\n",
    "    \"\"\"\n",
    "    shake = hashlib.shake_256()\n",
    "\n",
    "    shake.update(pk_seed)\n",
    "    shake.update(adrs.to_bytes())\n",
    "    shake.update(m)\n",
    "\n",
    "    return shake.digest(8 * n)\n",
    "\n",
    "\n",
    "def F(pk_seed: bytes, adrs: ADRS, m: bytes) -> bytes:\n",
    "    \"\"\"\n",
    "    Input: pk_seed, adrs, m\n",
    "    Output: m F\n",
    "    \"\"\"\n",
    "    shake = hashlib.shake_256()\n",
    "\n",
    "    shake.update(pk_seed)\n",
    "    shake.update(adrs.to_bytes())\n",
    "    shake.update(m)\n",
    "\n",
    "    return shake.digest(8 * n)\n",
    "\n",
    "\n",
    "def H(pk_seed: bytes, adrs: ADRS, m: bytes) -> bytes:\n",
    "    \"\"\"\n",
    "    Input: pk_seed, adrs, m\n",
    "    Output: m F\n",
    "    \"\"\"\n",
    "    shake = hashlib.shake_256()\n",
    "\n",
    "    shake.update(pk_seed)\n",
    "    shake.update(adrs.to_bytes())\n",
    "    shake.update(m)\n",
    "\n",
    "    return shake.digest(8 * n)"
   ]
  },
  {
   "attachments": {},
   "cell_type": "markdown",
   "metadata": {},
   "source": [
    "### PRF, PRFmsg, Hmsg Functions\n",
    "\n",
    "**PRF** function is used for pseudorandom key generation.\n",
    "\n",
    "**PRFmsg** function is used to generate randomness for the message compression.\n",
    "\n",
    "**Hmsg** function is used to compress the message to be signed."
   ]
  },
  {
   "cell_type": "code",
   "execution_count": 38,
   "metadata": {
    "vscode": {
     "languageId": "python"
    }
   },
   "outputs": [],
   "source": [
    "def PRF(seed: bytes, adrs: ADRS) -> bytes:\n",
    "    \"\"\"\n",
    "    Input: seed, adrs\n",
    "    Output: F\n",
    "    \"\"\"\n",
    "    shake = hashlib.shake_256()\n",
    "\n",
    "    shake.update(seed)\n",
    "    shake.update(adrs.to_bytes())\n",
    "\n",
    "    return shake.digest(8 * n)\n",
    "\n",
    "\n",
    "def PRF_msg(seed: bytes, adrs: ADRS, m: bytes) -> bytes:\n",
    "    \"\"\"\n",
    "    Input: seed, adrs, m\n",
    "    Output: F\n",
    "    \"\"\"\n",
    "    shake = hashlib.shake_256()\n",
    "\n",
    "    shake.update(seed)\n",
    "    shake.update(adrs.to_bytes())\n",
    "    shake.update(m)\n",
    "\n",
    "    return shake.digest(8 * n)\n",
    "\n",
    "\n",
    "def H_msg(msg: bytes) -> bytes:\n",
    "    \"\"\"\n",
    "    Input: msg\n",
    "    Output: F\n",
    "    \"\"\"\n",
    "    shake = hashlib.shake_256()\n",
    "\n",
    "    shake.update(msg)\n",
    "\n",
    "    return shake.digest(8 * m)"
   ]
  },
  {
   "attachments": {},
   "cell_type": "markdown",
   "metadata": {},
   "source": [
    "### WOTS+ One Time Signatures\n",
    "\n",
    "**WOTS+** é um esquema OTS (One-Time Signature).\n",
    "\n",
    "De notar que apesar das chaves privadas poderem assinar quaisquer mensagens, cada chave privada **NÃO DEVE SER USADA PARA ASSINAR MAIS DE QUE UMA MENSAGEM**."
   ]
  },
  {
   "attachments": {},
   "cell_type": "markdown",
   "metadata": {},
   "source": [
    "#### Parâmetros"
   ]
  },
  {
   "cell_type": "code",
   "execution_count": 35,
   "metadata": {
    "vscode": {
     "languageId": "python"
    }
   },
   "outputs": [],
   "source": [
    "# n already defined above\n",
    "# w already defined above (can be chosen from the set {4, 16, 256})\n",
    "\n",
    "len1 = ceil((8 * n) / lg(w))\n",
    "len2 = floor(lg(len1 * (w - 1)) / lg(w)) + 1\n",
    "\n",
    "_len = len1 + len2"
   ]
  },
  {
   "attachments": {},
   "cell_type": "markdown",
   "metadata": {},
   "source": [
    "#### Chain Function"
   ]
  },
  {
   "cell_type": "code",
   "execution_count": 36,
   "metadata": {
    "vscode": {
     "languageId": "python"
    }
   },
   "outputs": [],
   "source": [
    "from typing import Optional\n",
    "\n",
    "\n",
    "def chain(X:str, i: int, s: int, pk_seed, adrs: ADRS) -> Optional[bytes]:\n",
    "    \"\"\"\n",
    "    Input: Input string X, start index i, number of steps s, public seed PK.seed, address ADRS\n",
    "    Output: value of F iterated s times on X\n",
    "    \"\"\"\n",
    "    if s == 0:\n",
    "        return bytes(X)\n",
    "\n",
    "    if (i + s) > (w - 1):\n",
    "        return None\n",
    "\n",
    "    tmp = chain(X, i, s - 1, pk_seed, adrs)\n",
    "\n",
    "    adrs.set_hash_address(i + s - 1)\n",
    "\n",
    "    tmp = F(pk_seed, adrs, tmp)\n",
    "\n",
    "    return tmp"
   ]
  },
  {
   "attachments": {},
   "cell_type": "markdown",
   "metadata": {},
   "source": [
    "####  wost_SKgen Function"
   ]
  },
  {
   "cell_type": "code",
   "execution_count": null,
   "metadata": {
    "vscode": {
     "languageId": "python"
    }
   },
   "outputs": [],
   "source": [
    "def wots_pk_gen(seed: bytes, adrs: ADRS, wots_sk: bytes) -> Optional[bytes]:\n",
    "    \"\"\"\n",
    "    Input: secret seed, address ADRS, address ADRS\n",
    "    Output: WOTS+ private key PK\n",
    "    \"\"\"\n",
    "    pass\n"
   ]
  },
  {
   "attachments": {},
   "cell_type": "markdown",
   "metadata": {},
   "source": [
    "#### wots_PKgen Function"
   ]
  },
  {
   "attachments": {},
   "cell_type": "markdown",
   "metadata": {},
   "source": [
    "## Testes/Exemplos\n",
    "\n",
    "..."
   ]
  },
  {
   "cell_type": "code",
   "execution_count": null,
   "metadata": {
    "vscode": {
     "languageId": "python"
    }
   },
   "outputs": [],
   "source": []
  }
 ],
 "metadata": {
  "kernelspec": {
   "display_name": "Python 3",
   "language": "python",
   "name": "python3"
  },
  "orig_nbformat": 4
 },
 "nbformat": 4,
 "nbformat_minor": 2
}
